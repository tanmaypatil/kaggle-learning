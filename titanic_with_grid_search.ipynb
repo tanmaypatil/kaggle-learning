{
 "cells": [
  {
   "cell_type": "markdown",
   "id": "bb6d5e76-11c7-4364-8b0d-48d96a925a7c",
   "metadata": {},
   "source": [
    "## Objective\n",
    "Earlier notebook titanic.ipynb was only using LogisticRegression  \n",
    "Here Grid search would be used to get the optimum model using hyperparameters variations"
   ]
  },
  {
   "cell_type": "code",
   "execution_count": 1,
   "id": "8356f7c4-9921-4d00-8d6a-05bf71d508da",
   "metadata": {},
   "outputs": [],
   "source": [
    "import pandas as pd\n",
    "from sklearn.compose import ColumnTransformer\n",
    "from sklearn.pipeline import Pipeline\n",
    "from sklearn.preprocessing import StandardScaler, OneHotEncoder\n",
    "from sklearn.impute import SimpleImputer\n",
    "from sklearn.model_selection import train_test_split\n",
    "from sklearn.linear_model import LogisticRegression\n",
    "from sklearn.metrics import accuracy_score, classification_report\n",
    "from sklearn.model_selection import GridSearchCV\n",
    "import numpy as np\n",
    "import matplotlib.pyplot as plt\n",
    "import seaborn as sns\n",
    "from sklearn.metrics import confusion_matrix\n",
    "import warnings\n",
    "from sklearn.metrics import roc_curve, auc\n"
   ]
  },
  {
   "cell_type": "code",
   "execution_count": 2,
   "id": "d405f995-33ce-4cf6-9591-11a8b6f6bcc3",
   "metadata": {},
   "outputs": [],
   "source": [
    "def replace_nan_frequent_val(df, column_name):\n",
    "    \"\"\"\n",
    "    Replace NaN values with the most frequent value in the specified column.\n",
    "\n",
    "    Parameters:\n",
    "    - df: pandas DataFrame\n",
    "    - column_name: str, the name of the column to process\n",
    "    \"\"\"\n",
    "    # Replace NaN values with the most frequent value in the 'column_name' column\n",
    "    most_frequent_value = df[column_name].mode()[0]\n",
    "    df[column_name] = df[column_name].fillna(most_frequent_value)\n"
   ]
  },
  {
   "cell_type": "code",
   "execution_count": 3,
   "id": "9ede6951-9701-432a-a68a-1531ccd074b9",
   "metadata": {},
   "outputs": [],
   "source": [
    "\n",
    "def replace_nan_with_existing_val(df, column):\n",
    "    \"\"\"\n",
    "    Replace NaN values in a DataFrame column with existing non-NaN values randomly.\n",
    "\n",
    "    Parameters:\n",
    "    - df: pandas DataFrame\n",
    "    - column: str, the name of the column to process\n",
    "    \"\"\"\n",
    "    # Get indices of NaN values in the specified column\n",
    "    nan_indices = df.index[df[column].isna()].tolist()\n",
    "    \n",
    "    # Count the number of NaN values\n",
    "    num_nans = len(nan_indices)\n",
    "    \n",
    "    # Check where values are not NaN, creating a replacement list\n",
    "    value_index = df.index[df[column].notna()].tolist()\n",
    "    replacement_list = df.loc[value_index, column].values.tolist()\n",
    "    \n",
    "    # Generate random values from the replacement list\n",
    "    random_values = np.random.choice(replacement_list, size=num_nans)\n",
    "    \n",
    "    # Replace NaN values with randomly chosen values\n",
    "    df.loc[nan_indices, column] = random_values\n"
   ]
  },
  {
   "cell_type": "code",
   "execution_count": 4,
   "id": "e960f29d-28b4-4045-94cf-04675af032c1",
   "metadata": {},
   "outputs": [],
   "source": [
    "def preprocess_dataframe(numerical_features, categorical_features, df):\n",
    "    \"\"\"\n",
    "    This function preprocesses a DataFrame by replacing NaN values and scaling numerical features.\n",
    "\n",
    "    Parameters:\n",
    "    - numerical_features: list, names of numerical columns\n",
    "    - categorical_features: list, names of categorical columns\n",
    "    - df: pandas DataFrame, the input DataFrame\n",
    "\n",
    "    Returns:\n",
    "    - X_preprocessed: numpy array, preprocessed feature matrix\n",
    "    - feature_names: list, names of the output features after preprocessing\n",
    "    \"\"\"\n",
    "\n",
    "    # Create transformers for numerical and categorical features\n",
    "    numerical_transformer = Pipeline(steps=[\n",
    "        ('imputer', SimpleImputer(strategy='mean')),\n",
    "        ('scaler', StandardScaler())\n",
    "    ])\n",
    "\n",
    "    categorical_transformer = Pipeline(steps=[\n",
    "        ('imputer', SimpleImputer(strategy='most_frequent')),\n",
    "        ('onehot', OneHotEncoder(handle_unknown='ignore'))\n",
    "    ])\n",
    "\n",
    "    # Combine transformers using ColumnTransformer\n",
    "    preprocessor = ColumnTransformer(\n",
    "        transformers=[\n",
    "            ('num', numerical_transformer, numerical_features),\n",
    "            ('cat', categorical_transformer, categorical_features)\n",
    "        ])\n",
    "\n",
    "    # Fit and transform the data using the preprocessor\n",
    "    X_preprocessed = preprocessor.fit_transform(df)\n",
    "\n",
    "    # Get output feature names\n",
    "    feature_names = preprocessor.get_feature_names_out()\n",
    "\n",
    "    return X_preprocessed, feature_names\n"
   ]
  },
  {
   "cell_type": "code",
   "execution_count": 5,
   "id": "3817c24c-fcbd-4791-8f52-61eb5fa0aa44",
   "metadata": {},
   "outputs": [],
   "source": [
    "def extract_target_column(df,target_col):\n",
    "    \"\"\"\n",
    "      function extracts target column from dataframe .\n",
    "      converts it to integer and returns post flattening.\n",
    "    \"\"\"\n",
    "    tran_y= df.pop(target_col)\n",
    "    # type would be pandas.core.series.Series\n",
    "    type(tran_y)\n",
    "    y = pd.DataFrame(tran_y)\n",
    "    y[target_col] = y[target_col].astype(int)\n",
    "    y = y.values\n",
    "    y = y.ravel()\n",
    "    return y"
   ]
  },
  {
   "cell_type": "code",
   "execution_count": 6,
   "id": "d003fa10-4722-4275-8cc7-51842e259dee",
   "metadata": {},
   "outputs": [],
   "source": [
    "def append_index(index, new_index):\n",
    "    \"\"\"\n",
    "    Concatenate a new index with an existing index.\n",
    "\n",
    "    Parameters:\n",
    "    - index: pandas Index, the existing index\n",
    "    - new_index: pandas Index, the index to be appended\n",
    "\n",
    "    Returns:\n",
    "    - combined_index: pandas Index, the combined index\n",
    "    \"\"\"\n",
    "    # Concatenate the new index with the existing index\n",
    "    combined_index = pd.Index(index.tolist() + new_index.tolist())\n",
    "    \n",
    "    # Return the combined index\n",
    "    return combined_index\n"
   ]
  },
  {
   "cell_type": "code",
   "execution_count": 7,
   "id": "2729c40d-e737-44e3-a524-8c717eba4dba",
   "metadata": {},
   "outputs": [],
   "source": [
    "def dump_list_to_file(my_list, file_path):\n",
    "    \"\"\"\n",
    "    Dump a list to a regular text file.\n",
    "\n",
    "    Parameters:\n",
    "    - my_list: list, the list to be dumped\n",
    "    - file_path: str, the path to the output text file\n",
    "    \"\"\"\n",
    "    # Dump the list to a text file\n",
    "    with open(file_path, 'w') as file:\n",
    "        for item in my_list:\n",
    "            file.write(str(item) + '\\n')"
   ]
  },
  {
   "cell_type": "code",
   "execution_count": 8,
   "id": "42446d59-ca4e-4ee1-b4a8-21a3d3787915",
   "metadata": {},
   "outputs": [],
   "source": [
    "def plot_kde(data_column, df, title_name=None):\n",
    "    \"\"\"\n",
    "    Visualize the frequency distribution using a KDE plot.\n",
    "\n",
    "    Parameters:\n",
    "    - data_column: str, the column to visualize\n",
    "    - df: pandas DataFrame, the input DataFrame\n",
    "    - title_name: str, the title for the plot (default is dynamically generated)\n",
    "\n",
    "    Returns:\n",
    "    None\n",
    "    \"\"\"\n",
    "    # If title_name is not provided, generate a default title\n",
    "    if title_name is None:\n",
    "        title_name = f'Frequency Distribution of {data_column} KDE plot'\n",
    "\n",
    "    # Visualize the frequency distribution using a KDE plot\n",
    "    plt.figure(figsize=(10, 6))\n",
    "    sns.kdeplot(data=df, x=data_column, fill=True, color='skyblue', common_norm=False)\n",
    "    plt.title(title_name)\n",
    "    plt.xlabel(data_column)\n",
    "    plt.ylabel('Density')\n",
    "    plt.show()"
   ]
  },
  {
   "cell_type": "code",
   "execution_count": 9,
   "id": "40887291-19b2-41e5-86f6-bba64f5b3ff3",
   "metadata": {},
   "outputs": [],
   "source": [
    "def split_and_adjust(df):\n",
    "    \"\"\"\n",
    "    Process the given DataFrame by splitting columns and converting data types.\n",
    "\n",
    "    Parameters:\n",
    "    - df (pandas.DataFrame): The input DataFrame to be processed.\n",
    "\n",
    "    Returns:\n",
    "    None\n",
    "\n",
    "    This function splits the 'PassengerId' and 'Cabin' columns, converts data types,\n",
    "    and handles missing values to prepare the DataFrame for further analysis.\n",
    "    \"\"\"\n",
    "    # Split the PassengerId into 2 columns: Group and NumInGroup\n",
    "    df[['Group', 'NumInGroup']] = df[\"PassengerId\"].str.split(\"_\", expand=True)\n",
    "    \n",
    "    # Split the Cabin column into 3 columns: CabinDeck, CabinNum, and CabinSide\n",
    "    df[['CabinDeck', 'CabinNum', 'CabinSide']] = df[\"Cabin\"].str.split(\"/\", expand=True)\n",
    "    \n",
    "    # Convert the 'Group' column to integer type\n",
    "    df[\"Group\"] = df[\"Group\"].astype(int)\n",
    "    \n",
    "    # Replace NaN values in the \"CabinNum\" column with existing values\n",
    "    replace_nan_with_existing_val(df, \"CabinNum\")\n",
    "    \n",
    "    # Convert the 'CabinNum' column to integer type to reduce the number of columns during preprocessing\n",
    "    df[\"CabinNum\"] = df[\"CabinNum\"].astype(int)\n",
    "    # check for NAN still exist, value of 0 indicates there is no NAN\n",
    "    nan_len= len(df.index[df.CabinNum.isna()].tolist())\n",
    "    assert nan_len == 0\n",
    "\n",
    "    # drop the original column PassengerId and Cabin .\n",
    "    # also drop name , does not have significance\n",
    "    df.drop( [\"Cabin\", \"Name\", \"PassengerId\"], axis = 1 ,inplace=True)\n"
   ]
  },
  {
   "cell_type": "code",
   "execution_count": 10,
   "id": "fec635ec-9fa5-4d1d-8ccf-8b9680ad57e8",
   "metadata": {},
   "outputs": [],
   "source": [
    "# To suppress all warnings\n",
    "warnings.filterwarnings(\"ignore\")"
   ]
  },
  {
   "cell_type": "code",
   "execution_count": 11,
   "id": "5527588f-b504-4af6-9095-1730978a2ecf",
   "metadata": {},
   "outputs": [],
   "source": [
    "df = pd.read_csv(\"C:\\\\Users\\\\u725561\\\\machine-learning\\\\spaceship-titanic\\\\train.csv\")"
   ]
  },
  {
   "cell_type": "markdown",
   "id": "c6119c8c-69d8-47bf-9cbb-190a65cb7d2b",
   "metadata": {},
   "source": [
    "Check how many unique Homeplanets are present"
   ]
  },
  {
   "cell_type": "code",
   "execution_count": 12,
   "id": "4e0a4828-2bbc-4cd1-a916-00331caeceb2",
   "metadata": {},
   "outputs": [
    {
     "data": {
      "text/plain": [
       "array(['Europa', 'Earth', 'Mars', nan], dtype=object)"
      ]
     },
     "execution_count": 12,
     "metadata": {},
     "output_type": "execute_result"
    }
   ],
   "source": [
    "df.HomePlanet.unique()"
   ]
  },
  {
   "cell_type": "code",
   "execution_count": 13,
   "id": "5cae7c8f-8999-4417-acdf-7eca37171df8",
   "metadata": {},
   "outputs": [
    {
     "data": {
      "text/plain": [
       "3"
      ]
     },
     "execution_count": 13,
     "metadata": {},
     "output_type": "execute_result"
    }
   ],
   "source": [
    "# check count of unique home planets\n",
    "df.HomePlanet.nunique()"
   ]
  },
  {
   "cell_type": "code",
   "execution_count": 14,
   "id": "83f283df-b3a3-447e-97d8-d25f3a3b1c0a",
   "metadata": {},
   "outputs": [],
   "source": [
    "# Perform data manipulation\n",
    "split_and_adjust(df)"
   ]
  },
  {
   "cell_type": "code",
   "execution_count": 15,
   "id": "93dbaa41-9a20-442d-8eca-3e441d8e2032",
   "metadata": {},
   "outputs": [
    {
     "data": {
      "text/plain": [
       "CabinDeck\n",
       "F    2794\n",
       "G    2559\n",
       "E     876\n",
       "B     779\n",
       "C     747\n",
       "D     478\n",
       "A     256\n",
       "T       5\n",
       "Name: count, dtype: int64"
      ]
     },
     "execution_count": 15,
     "metadata": {},
     "output_type": "execute_result"
    }
   ],
   "source": [
    "# check the distribution of Cabin Deck . Seems F , G are more frequent\n",
    "df.CabinDeck.value_counts()"
   ]
  },
  {
   "cell_type": "code",
   "execution_count": 16,
   "id": "2e602e7b-c23b-458a-a7c8-23cfb84918b9",
   "metadata": {},
   "outputs": [
    {
     "name": "stdout",
     "output_type": "stream",
     "text": [
      "<class 'pandas.core.series.Series'>\n",
      "RangeIndex: 8693 entries, 0 to 8692\n",
      "Series name: CabinNum\n",
      "Non-Null Count  Dtype\n",
      "--------------  -----\n",
      "8693 non-null   int32\n",
      "dtypes: int32(1)\n",
      "memory usage: 34.1 KB\n"
     ]
    }
   ],
   "source": [
    "df.CabinNum.info()"
   ]
  },
  {
   "cell_type": "code",
   "execution_count": 17,
   "id": "5244ae4d-9197-4526-9855-268cbd7f8c90",
   "metadata": {},
   "outputs": [
    {
     "data": {
      "text/plain": [
       "CabinNum\n",
       "82      28\n",
       "56      24\n",
       "86      22\n",
       "19      22\n",
       "176     21\n",
       "        ..\n",
       "1670     1\n",
       "1549     1\n",
       "1669     1\n",
       "1548     1\n",
       "1894     1\n",
       "Name: count, Length: 1817, dtype: int64"
      ]
     },
     "execution_count": 17,
     "metadata": {},
     "output_type": "execute_result"
    }
   ],
   "source": [
    "df.CabinNum.value_counts()"
   ]
  },
  {
   "cell_type": "code",
   "execution_count": 18,
   "id": "a0157b3e-5df4-48d3-a814-4458cf46b9cc",
   "metadata": {},
   "outputs": [
    {
     "data": {
      "text/plain": [
       "0"
      ]
     },
     "execution_count": 18,
     "metadata": {},
     "output_type": "execute_result"
    }
   ],
   "source": [
    "# find total number of NaN values in the column CabinNum\n",
    "df.CabinNum.isna().sum()"
   ]
  },
  {
   "cell_type": "code",
   "execution_count": 19,
   "id": "6fefd2b7-9bc6-4a0f-9ab6-84e3745ade69",
   "metadata": {},
   "outputs": [
    {
     "data": {
      "text/plain": [
       "0"
      ]
     },
     "execution_count": 19,
     "metadata": {},
     "output_type": "execute_result"
    }
   ],
   "source": [
    "# find out indices for NaN values for Cabin Num\n",
    "cabinNum_nan = df.index[df.CabinNum.isna()].tolist()\n",
    "len(cabinNum_nan)"
   ]
  },
  {
   "cell_type": "code",
   "execution_count": 20,
   "id": "64f7f16e-3d1f-4d90-8082-a7a14d4af7a6",
   "metadata": {},
   "outputs": [
    {
     "data": {
      "text/plain": [
       "Group\n",
       "4498    8\n",
       "8168    8\n",
       "8728    8\n",
       "8796    8\n",
       "8956    8\n",
       "       ..\n",
       "3483    1\n",
       "3480    1\n",
       "3478    1\n",
       "3473    1\n",
       "4620    1\n",
       "Name: count, Length: 6217, dtype: int64"
      ]
     },
     "execution_count": 20,
     "metadata": {},
     "output_type": "execute_result"
    }
   ],
   "source": [
    "df.Group.value_counts()"
   ]
  },
  {
   "cell_type": "code",
   "execution_count": 21,
   "id": "9329fc11-2e51-45a3-bf18-1f0a0ae704ca",
   "metadata": {},
   "outputs": [
    {
     "data": {
      "image/png": "[encoded data removed]",
      "text/plain": [
       "<Figure size 1000x600 with 1 Axes>"
      ]
     },
     "metadata": {},
     "output_type": "display_data"
    }
   ],
   "source": [
    "# check the frequency distribution for Group column. looks evenly distributed\n",
    "plot_kde('Group',df,'Group density plot')"
   ]
  },
  {
   "cell_type": "code",
   "execution_count": 22,
   "id": "bd4972e5-bd2d-4c6d-9d2e-f1251fff3385",
   "metadata": {},
   "outputs": [
    {
     "data": {
      "text/plain": [
       "HomePlanet       object\n",
       "CryoSleep        object\n",
       "Destination      object\n",
       "Age             float64\n",
       "VIP              object\n",
       "RoomService     float64\n",
       "FoodCourt       float64\n",
       "ShoppingMall    float64\n",
       "Spa             float64\n",
       "VRDeck          float64\n",
       "Transported        bool\n",
       "Group             int32\n",
       "NumInGroup       object\n",
       "CabinDeck        object\n",
       "CabinNum          int32\n",
       "CabinSide        object\n",
       "dtype: object"
      ]
     },
     "execution_count": 22,
     "metadata": {},
     "output_type": "execute_result"
    }
   ],
   "source": [
    "# Observe CabinNum is object , which is string , need to convert to int\n",
    "df.dtypes"
   ]
  },
  {
   "cell_type": "code",
   "execution_count": 23,
   "id": "50d335fe-5c12-4d75-b34d-cb198a6587b6",
   "metadata": {},
   "outputs": [
    {
     "data": {
      "text/plain": [
       "CabinNum\n",
       "82      28\n",
       "56      24\n",
       "86      22\n",
       "19      22\n",
       "176     21\n",
       "        ..\n",
       "1670     1\n",
       "1549     1\n",
       "1669     1\n",
       "1548     1\n",
       "1894     1\n",
       "Name: count, Length: 1817, dtype: int64"
      ]
     },
     "execution_count": 23,
     "metadata": {},
     "output_type": "execute_result"
    }
   ],
   "source": [
    "# observed that CabinNum 82 has frequency unchanged /not changed much\n",
    "df.CabinNum.value_counts()"
   ]
  },
  {
   "cell_type": "code",
   "execution_count": 24,
   "id": "b1ec9fb5-8d90-458b-a0f0-041217dad043",
   "metadata": {},
   "outputs": [
    {
     "data": {
      "text/plain": [
       "CabinSide\n",
       "S    4288\n",
       "P    4206\n",
       "Name: count, dtype: int64"
      ]
     },
     "execution_count": 24,
     "metadata": {},
     "output_type": "execute_result"
    }
   ],
   "source": [
    "# check the distribution of CabinSide . It has only 2 unique values S and P . Probably should drop ?\n",
    "df.CabinSide.value_counts()"
   ]
  },
  {
   "cell_type": "code",
   "execution_count": 25,
   "id": "74a1392b-4c69-44ed-a452-d0dbedab35b7",
   "metadata": {},
   "outputs": [
    {
     "data": {
      "text/plain": [
       "Transported\n",
       "True     4378\n",
       "False    4315\n",
       "Name: count, dtype: int64"
      ]
     },
     "execution_count": 25,
     "metadata": {},
     "output_type": "execute_result"
    }
   ],
   "source": [
    "# Check whether the target variable is distributed uniformly . would observe that almost evenly distributed\n",
    "df.Transported.value_counts()"
   ]
  },
  {
   "cell_type": "code",
   "execution_count": 26,
   "id": "180046f3-c902-438d-a74e-8518b5ef91ff",
   "metadata": {},
   "outputs": [
    {
     "data": {
      "text/html": [
       "<div>\n",
       "<style scoped>\n",
       "    .dataframe tbody tr th:only-of-type {\n",
       "        vertical-align: middle;\n",
       "    }\n",
       "\n",
       "    .dataframe tbody tr th {\n",
       "        vertical-align: top;\n",
       "    }\n",
       "\n",
       "    .dataframe thead th {\n",
       "        text-align: right;\n",
       "    }\n",
       "</style>\n",
       "<table border=\"1\" class=\"dataframe\">\n",
       "  <thead>\n",
       "    <tr style=\"text-align: right;\">\n",
       "      <th></th>\n",
       "      <th>HomePlanet</th>\n",
       "      <th>CryoSleep</th>\n",
       "      <th>Destination</th>\n",
       "      <th>Age</th>\n",
       "      <th>VIP</th>\n",
       "      <th>RoomService</th>\n",
       "      <th>FoodCourt</th>\n",
       "      <th>ShoppingMall</th>\n",
       "      <th>Spa</th>\n",
       "      <th>VRDeck</th>\n",
       "      <th>Transported</th>\n",
       "      <th>Group</th>\n",
       "      <th>NumInGroup</th>\n",
       "      <th>CabinDeck</th>\n",
       "      <th>CabinNum</th>\n",
       "      <th>CabinSide</th>\n",
       "    </tr>\n",
       "  </thead>\n",
       "  <tbody>\n",
       "    <tr>\n",
       "      <th>0</th>\n",
       "      <td>Europa</td>\n",
       "      <td>False</td>\n",
       "      <td>TRAPPIST-1e</td>\n",
       "      <td>39.0</td>\n",
       "      <td>False</td>\n",
       "      <td>0.0</td>\n",
       "      <td>0.0</td>\n",
       "      <td>0.0</td>\n",
       "      <td>0.0</td>\n",
       "      <td>0.0</td>\n",
       "      <td>False</td>\n",
       "      <td>1</td>\n",
       "      <td>01</td>\n",
       "      <td>B</td>\n",
       "      <td>0</td>\n",
       "      <td>P</td>\n",
       "    </tr>\n",
       "    <tr>\n",
       "      <th>1</th>\n",
       "      <td>Earth</td>\n",
       "      <td>False</td>\n",
       "      <td>TRAPPIST-1e</td>\n",
       "      <td>24.0</td>\n",
       "      <td>False</td>\n",
       "      <td>109.0</td>\n",
       "      <td>9.0</td>\n",
       "      <td>25.0</td>\n",
       "      <td>549.0</td>\n",
       "      <td>44.0</td>\n",
       "      <td>True</td>\n",
       "      <td>2</td>\n",
       "      <td>01</td>\n",
       "      <td>F</td>\n",
       "      <td>0</td>\n",
       "      <td>S</td>\n",
       "    </tr>\n",
       "    <tr>\n",
       "      <th>2</th>\n",
       "      <td>Europa</td>\n",
       "      <td>False</td>\n",
       "      <td>TRAPPIST-1e</td>\n",
       "      <td>58.0</td>\n",
       "      <td>True</td>\n",
       "      <td>43.0</td>\n",
       "      <td>3576.0</td>\n",
       "      <td>0.0</td>\n",
       "      <td>6715.0</td>\n",
       "      <td>49.0</td>\n",
       "      <td>False</td>\n",
       "      <td>3</td>\n",
       "      <td>01</td>\n",
       "      <td>A</td>\n",
       "      <td>0</td>\n",
       "      <td>S</td>\n",
       "    </tr>\n",
       "    <tr>\n",
       "      <th>3</th>\n",
       "      <td>Europa</td>\n",
       "      <td>False</td>\n",
       "      <td>TRAPPIST-1e</td>\n",
       "      <td>33.0</td>\n",
       "      <td>False</td>\n",
       "      <td>0.0</td>\n",
       "      <td>1283.0</td>\n",
       "      <td>371.0</td>\n",
       "      <td>3329.0</td>\n",
       "      <td>193.0</td>\n",
       "      <td>False</td>\n",
       "      <td>3</td>\n",
       "      <td>02</td>\n",
       "      <td>A</td>\n",
       "      <td>0</td>\n",
       "      <td>S</td>\n",
       "    </tr>\n",
       "    <tr>\n",
       "      <th>4</th>\n",
       "      <td>Earth</td>\n",
       "      <td>False</td>\n",
       "      <td>TRAPPIST-1e</td>\n",
       "      <td>16.0</td>\n",
       "      <td>False</td>\n",
       "      <td>303.0</td>\n",
       "      <td>70.0</td>\n",
       "      <td>151.0</td>\n",
       "      <td>565.0</td>\n",
       "      <td>2.0</td>\n",
       "      <td>True</td>\n",
       "      <td>4</td>\n",
       "      <td>01</td>\n",
       "      <td>F</td>\n",
       "      <td>1</td>\n",
       "      <td>S</td>\n",
       "    </tr>\n",
       "    <tr>\n",
       "      <th>...</th>\n",
       "      <td>...</td>\n",
       "      <td>...</td>\n",
       "      <td>...</td>\n",
       "      <td>...</td>\n",
       "      <td>...</td>\n",
       "      <td>...</td>\n",
       "      <td>...</td>\n",
       "      <td>...</td>\n",
       "      <td>...</td>\n",
       "      <td>...</td>\n",
       "      <td>...</td>\n",
       "      <td>...</td>\n",
       "      <td>...</td>\n",
       "      <td>...</td>\n",
       "      <td>...</td>\n",
       "      <td>...</td>\n",
       "    </tr>\n",
       "    <tr>\n",
       "      <th>8688</th>\n",
       "      <td>Europa</td>\n",
       "      <td>False</td>\n",
       "      <td>55 Cancri e</td>\n",
       "      <td>41.0</td>\n",
       "      <td>True</td>\n",
       "      <td>0.0</td>\n",
       "      <td>6819.0</td>\n",
       "      <td>0.0</td>\n",
       "      <td>1643.0</td>\n",
       "      <td>74.0</td>\n",
       "      <td>False</td>\n",
       "      <td>9276</td>\n",
       "      <td>01</td>\n",
       "      <td>A</td>\n",
       "      <td>98</td>\n",
       "      <td>P</td>\n",
       "    </tr>\n",
       "    <tr>\n",
       "      <th>8689</th>\n",
       "      <td>Earth</td>\n",
       "      <td>True</td>\n",
       "      <td>PSO J318.5-22</td>\n",
       "      <td>18.0</td>\n",
       "      <td>False</td>\n",
       "      <td>0.0</td>\n",
       "      <td>0.0</td>\n",
       "      <td>0.0</td>\n",
       "      <td>0.0</td>\n",
       "      <td>0.0</td>\n",
       "      <td>False</td>\n",
       "      <td>9278</td>\n",
       "      <td>01</td>\n",
       "      <td>G</td>\n",
       "      <td>1499</td>\n",
       "      <td>S</td>\n",
       "    </tr>\n",
       "    <tr>\n",
       "      <th>8690</th>\n",
       "      <td>Earth</td>\n",
       "      <td>False</td>\n",
       "      <td>TRAPPIST-1e</td>\n",
       "      <td>26.0</td>\n",
       "      <td>False</td>\n",
       "      <td>0.0</td>\n",
       "      <td>0.0</td>\n",
       "      <td>1872.0</td>\n",
       "      <td>1.0</td>\n",
       "      <td>0.0</td>\n",
       "      <td>True</td>\n",
       "      <td>9279</td>\n",
       "      <td>01</td>\n",
       "      <td>G</td>\n",
       "      <td>1500</td>\n",
       "      <td>S</td>\n",
       "    </tr>\n",
       "    <tr>\n",
       "      <th>8691</th>\n",
       "      <td>Europa</td>\n",
       "      <td>False</td>\n",
       "      <td>55 Cancri e</td>\n",
       "      <td>32.0</td>\n",
       "      <td>False</td>\n",
       "      <td>0.0</td>\n",
       "      <td>1049.0</td>\n",
       "      <td>0.0</td>\n",
       "      <td>353.0</td>\n",
       "      <td>3235.0</td>\n",
       "      <td>False</td>\n",
       "      <td>9280</td>\n",
       "      <td>01</td>\n",
       "      <td>E</td>\n",
       "      <td>608</td>\n",
       "      <td>S</td>\n",
       "    </tr>\n",
       "    <tr>\n",
       "      <th>8692</th>\n",
       "      <td>Europa</td>\n",
       "      <td>False</td>\n",
       "      <td>TRAPPIST-1e</td>\n",
       "      <td>44.0</td>\n",
       "      <td>False</td>\n",
       "      <td>126.0</td>\n",
       "      <td>4688.0</td>\n",
       "      <td>0.0</td>\n",
       "      <td>0.0</td>\n",
       "      <td>12.0</td>\n",
       "      <td>True</td>\n",
       "      <td>9280</td>\n",
       "      <td>02</td>\n",
       "      <td>E</td>\n",
       "      <td>608</td>\n",
       "      <td>S</td>\n",
       "    </tr>\n",
       "  </tbody>\n",
       "</table>\n",
       "<p>8693 rows × 16 columns</p>\n",
       "</div>"
      ],
      "text/plain": [
       "     HomePlanet CryoSleep    Destination   Age    VIP  RoomService  FoodCourt  \\\n",
       "0        Europa     False    TRAPPIST-1e  39.0  False          0.0        0.0   \n",
       "1         Earth     False    TRAPPIST-1e  24.0  False        109.0        9.0   \n",
       "2        Europa     False    TRAPPIST-1e  58.0   True         43.0     3576.0   \n",
       "3        Europa     False    TRAPPIST-1e  33.0  False          0.0     1283.0   \n",
       "4         Earth     False    TRAPPIST-1e  16.0  False        303.0       70.0   \n",
       "...         ...       ...            ...   ...    ...          ...        ...   \n",
       "8688     Europa     False    55 Cancri e  41.0   True          0.0     6819.0   \n",
       "8689      Earth      True  PSO J318.5-22  18.0  False          0.0        0.0   \n",
       "8690      Earth     False    TRAPPIST-1e  26.0  False          0.0        0.0   \n",
       "8691     Europa     False    55 Cancri e  32.0  False          0.0     1049.0   \n",
       "8692     Europa     False    TRAPPIST-1e  44.0  False        126.0     4688.0   \n",
       "\n",
       "      ShoppingMall     Spa  VRDeck  Transported  Group NumInGroup CabinDeck  \\\n",
       "0              0.0     0.0     0.0        False      1         01         B   \n",
       "1             25.0   549.0    44.0         True      2         01         F   \n",
       "2              0.0  6715.0    49.0        False      3         01         A   \n",
       "3            371.0  3329.0   193.0        False      3         02         A   \n",
       "4            151.0   565.0     2.0         True      4         01         F   \n",
       "...            ...     ...     ...          ...    ...        ...       ...   \n",
       "8688           0.0  1643.0    74.0        False   9276         01         A   \n",
       "8689           0.0     0.0     0.0        False   9278         01         G   \n",
       "8690        1872.0     1.0     0.0         True   9279         01         G   \n",
       "8691           0.0   353.0  3235.0        False   9280         01         E   \n",
       "8692           0.0     0.0    12.0         True   9280         02         E   \n",
       "\n",
       "      CabinNum CabinSide  \n",
       "0            0         P  \n",
       "1            0         S  \n",
       "2            0         S  \n",
       "3            0         S  \n",
       "4            1         S  \n",
       "...        ...       ...  \n",
       "8688        98         P  \n",
       "8689      1499         S  \n",
       "8690      1500         S  \n",
       "8691       608         S  \n",
       "8692       608         S  \n",
       "\n",
       "[8693 rows x 16 columns]"
      ]
     },
     "execution_count": 26,
     "metadata": {},
     "output_type": "execute_result"
    }
   ],
   "source": [
    "# print entire dataframe with new columns\n",
    "df"
   ]
  },
  {
   "cell_type": "code",
   "execution_count": 27,
   "id": "6a1530ed-0e44-465a-bd6d-c0e739e8394d",
   "metadata": {},
   "outputs": [
    {
     "data": {
      "text/plain": [
       "array([0, 1, 0, ..., 1, 0, 1])"
      ]
     },
     "execution_count": 27,
     "metadata": {},
     "output_type": "execute_result"
    }
   ],
   "source": [
    "# extract target column into a numpy array . This would go into fit as argument \n",
    "y = extract_target_column(df,\"Transported\")\n",
    "y"
   ]
  },
  {
   "cell_type": "code",
   "execution_count": 28,
   "id": "ebbed129-1eac-42b3-8fcc-8f3847fc7c8d",
   "metadata": {},
   "outputs": [
    {
     "data": {
      "text/html": [
       "<div>\n",
       "<style scoped>\n",
       "    .dataframe tbody tr th:only-of-type {\n",
       "        vertical-align: middle;\n",
       "    }\n",
       "\n",
       "    .dataframe tbody tr th {\n",
       "        vertical-align: top;\n",
       "    }\n",
       "\n",
       "    .dataframe thead th {\n",
       "        text-align: right;\n",
       "    }\n",
       "</style>\n",
       "<table border=\"1\" class=\"dataframe\">\n",
       "  <thead>\n",
       "    <tr style=\"text-align: right;\">\n",
       "      <th></th>\n",
       "      <th>HomePlanet</th>\n",
       "      <th>CryoSleep</th>\n",
       "      <th>Destination</th>\n",
       "      <th>Age</th>\n",
       "      <th>VIP</th>\n",
       "      <th>RoomService</th>\n",
       "      <th>FoodCourt</th>\n",
       "      <th>ShoppingMall</th>\n",
       "      <th>Spa</th>\n",
       "      <th>VRDeck</th>\n",
       "      <th>Group</th>\n",
       "      <th>NumInGroup</th>\n",
       "      <th>CabinDeck</th>\n",
       "      <th>CabinNum</th>\n",
       "      <th>CabinSide</th>\n",
       "    </tr>\n",
       "  </thead>\n",
       "  <tbody>\n",
       "    <tr>\n",
       "      <th>0</th>\n",
       "      <td>Europa</td>\n",
       "      <td>False</td>\n",
       "      <td>TRAPPIST-1e</td>\n",
       "      <td>39.0</td>\n",
       "      <td>False</td>\n",
       "      <td>0.0</td>\n",
       "      <td>0.0</td>\n",
       "      <td>0.0</td>\n",
       "      <td>0.0</td>\n",
       "      <td>0.0</td>\n",
       "      <td>1</td>\n",
       "      <td>01</td>\n",
       "      <td>B</td>\n",
       "      <td>0</td>\n",
       "      <td>P</td>\n",
       "    </tr>\n",
       "    <tr>\n",
       "      <th>1</th>\n",
       "      <td>Earth</td>\n",
       "      <td>False</td>\n",
       "      <td>TRAPPIST-1e</td>\n",
       "      <td>24.0</td>\n",
       "      <td>False</td>\n",
       "      <td>109.0</td>\n",
       "      <td>9.0</td>\n",
       "      <td>25.0</td>\n",
       "      <td>549.0</td>\n",
       "      <td>44.0</td>\n",
       "      <td>2</td>\n",
       "      <td>01</td>\n",
       "      <td>F</td>\n",
       "      <td>0</td>\n",
       "      <td>S</td>\n",
       "    </tr>\n",
       "    <tr>\n",
       "      <th>2</th>\n",
       "      <td>Europa</td>\n",
       "      <td>False</td>\n",
       "      <td>TRAPPIST-1e</td>\n",
       "      <td>58.0</td>\n",
       "      <td>True</td>\n",
       "      <td>43.0</td>\n",
       "      <td>3576.0</td>\n",
       "      <td>0.0</td>\n",
       "      <td>6715.0</td>\n",
       "      <td>49.0</td>\n",
       "      <td>3</td>\n",
       "      <td>01</td>\n",
       "      <td>A</td>\n",
       "      <td>0</td>\n",
       "      <td>S</td>\n",
       "    </tr>\n",
       "    <tr>\n",
       "      <th>3</th>\n",
       "      <td>Europa</td>\n",
       "      <td>False</td>\n",
       "      <td>TRAPPIST-1e</td>\n",
       "      <td>33.0</td>\n",
       "      <td>False</td>\n",
       "      <td>0.0</td>\n",
       "      <td>1283.0</td>\n",
       "      <td>371.0</td>\n",
       "      <td>3329.0</td>\n",
       "      <td>193.0</td>\n",
       "      <td>3</td>\n",
       "      <td>02</td>\n",
       "      <td>A</td>\n",
       "      <td>0</td>\n",
       "      <td>S</td>\n",
       "    </tr>\n",
       "    <tr>\n",
       "      <th>4</th>\n",
       "      <td>Earth</td>\n",
       "      <td>False</td>\n",
       "      <td>TRAPPIST-1e</td>\n",
       "      <td>16.0</td>\n",
       "      <td>False</td>\n",
       "      <td>303.0</td>\n",
       "      <td>70.0</td>\n",
       "      <td>151.0</td>\n",
       "      <td>565.0</td>\n",
       "      <td>2.0</td>\n",
       "      <td>4</td>\n",
       "      <td>01</td>\n",
       "      <td>F</td>\n",
       "      <td>1</td>\n",
       "      <td>S</td>\n",
       "    </tr>\n",
       "    <tr>\n",
       "      <th>...</th>\n",
       "      <td>...</td>\n",
       "      <td>...</td>\n",
       "      <td>...</td>\n",
       "      <td>...</td>\n",
       "      <td>...</td>\n",
       "      <td>...</td>\n",
       "      <td>...</td>\n",
       "      <td>...</td>\n",
       "      <td>...</td>\n",
       "      <td>...</td>\n",
       "      <td>...</td>\n",
       "      <td>...</td>\n",
       "      <td>...</td>\n",
       "      <td>...</td>\n",
       "      <td>...</td>\n",
       "    </tr>\n",
       "    <tr>\n",
       "      <th>8688</th>\n",
       "      <td>Europa</td>\n",
       "      <td>False</td>\n",
       "      <td>55 Cancri e</td>\n",
       "      <td>41.0</td>\n",
       "      <td>True</td>\n",
       "      <td>0.0</td>\n",
       "      <td>6819.0</td>\n",
       "      <td>0.0</td>\n",
       "      <td>1643.0</td>\n",
       "      <td>74.0</td>\n",
       "      <td>9276</td>\n",
       "      <td>01</td>\n",
       "      <td>A</td>\n",
       "      <td>98</td>\n",
       "      <td>P</td>\n",
       "    </tr>\n",
       "    <tr>\n",
       "      <th>8689</th>\n",
       "      <td>Earth</td>\n",
       "      <td>True</td>\n",
       "      <td>PSO J318.5-22</td>\n",
       "      <td>18.0</td>\n",
       "      <td>False</td>\n",
       "      <td>0.0</td>\n",
       "      <td>0.0</td>\n",
       "      <td>0.0</td>\n",
       "      <td>0.0</td>\n",
       "      <td>0.0</td>\n",
       "      <td>9278</td>\n",
       "      <td>01</td>\n",
       "      <td>G</td>\n",
       "      <td>1499</td>\n",
       "      <td>S</td>\n",
       "    </tr>\n",
       "    <tr>\n",
       "      <th>8690</th>\n",
       "      <td>Earth</td>\n",
       "      <td>False</td>\n",
       "      <td>TRAPPIST-1e</td>\n",
       "      <td>26.0</td>\n",
       "      <td>False</td>\n",
       "      <td>0.0</td>\n",
       "      <td>0.0</td>\n",
       "      <td>1872.0</td>\n",
       "      <td>1.0</td>\n",
       "      <td>0.0</td>\n",
       "      <td>9279</td>\n",
       "      <td>01</td>\n",
       "      <td>G</td>\n",
       "      <td>1500</td>\n",
       "      <td>S</td>\n",
       "    </tr>\n",
       "    <tr>\n",
       "      <th>8691</th>\n",
       "      <td>Europa</td>\n",
       "      <td>False</td>\n",
       "      <td>55 Cancri e</td>\n",
       "      <td>32.0</td>\n",
       "      <td>False</td>\n",
       "      <td>0.0</td>\n",
       "      <td>1049.0</td>\n",
       "      <td>0.0</td>\n",
       "      <td>353.0</td>\n",
       "      <td>3235.0</td>\n",
       "      <td>9280</td>\n",
       "      <td>01</td>\n",
       "      <td>E</td>\n",
       "      <td>608</td>\n",
       "      <td>S</td>\n",
       "    </tr>\n",
       "    <tr>\n",
       "      <th>8692</th>\n",
       "      <td>Europa</td>\n",
       "      <td>False</td>\n",
       "      <td>TRAPPIST-1e</td>\n",
       "      <td>44.0</td>\n",
       "      <td>False</td>\n",
       "      <td>126.0</td>\n",
       "      <td>4688.0</td>\n",
       "      <td>0.0</td>\n",
       "      <td>0.0</td>\n",
       "      <td>12.0</td>\n",
       "      <td>9280</td>\n",
       "      <td>02</td>\n",
       "      <td>E</td>\n",
       "      <td>608</td>\n",
       "      <td>S</td>\n",
       "    </tr>\n",
       "  </tbody>\n",
       "</table>\n",
       "<p>8693 rows × 15 columns</p>\n",
       "</div>"
      ],
      "text/plain": [
       "     HomePlanet CryoSleep    Destination   Age    VIP  RoomService  FoodCourt  \\\n",
       "0        Europa     False    TRAPPIST-1e  39.0  False          0.0        0.0   \n",
       "1         Earth     False    TRAPPIST-1e  24.0  False        109.0        9.0   \n",
       "2        Europa     False    TRAPPIST-1e  58.0   True         43.0     3576.0   \n",
       "3        Europa     False    TRAPPIST-1e  33.0  False          0.0     1283.0   \n",
       "4         Earth     False    TRAPPIST-1e  16.0  False        303.0       70.0   \n",
       "...         ...       ...            ...   ...    ...          ...        ...   \n",
       "8688     Europa     False    55 Cancri e  41.0   True          0.0     6819.0   \n",
       "8689      Earth      True  PSO J318.5-22  18.0  False          0.0        0.0   \n",
       "8690      Earth     False    TRAPPIST-1e  26.0  False          0.0        0.0   \n",
       "8691     Europa     False    55 Cancri e  32.0  False          0.0     1049.0   \n",
       "8692     Europa     False    TRAPPIST-1e  44.0  False        126.0     4688.0   \n",
       "\n",
       "      ShoppingMall     Spa  VRDeck  Group NumInGroup CabinDeck  CabinNum  \\\n",
       "0              0.0     0.0     0.0      1         01         B         0   \n",
       "1             25.0   549.0    44.0      2         01         F         0   \n",
       "2              0.0  6715.0    49.0      3         01         A         0   \n",
       "3            371.0  3329.0   193.0      3         02         A         0   \n",
       "4            151.0   565.0     2.0      4         01         F         1   \n",
       "...            ...     ...     ...    ...        ...       ...       ...   \n",
       "8688           0.0  1643.0    74.0   9276         01         A        98   \n",
       "8689           0.0     0.0     0.0   9278         01         G      1499   \n",
       "8690        1872.0     1.0     0.0   9279         01         G      1500   \n",
       "8691           0.0   353.0  3235.0   9280         01         E       608   \n",
       "8692           0.0     0.0    12.0   9280         02         E       608   \n",
       "\n",
       "     CabinSide  \n",
       "0            P  \n",
       "1            S  \n",
       "2            S  \n",
       "3            S  \n",
       "4            S  \n",
       "...        ...  \n",
       "8688         P  \n",
       "8689         S  \n",
       "8690         S  \n",
       "8691         S  \n",
       "8692         S  \n",
       "\n",
       "[8693 rows x 15 columns]"
      ]
     },
     "execution_count": 28,
     "metadata": {},
     "output_type": "execute_result"
    }
   ],
   "source": [
    "df"
   ]
  },
  {
   "cell_type": "code",
   "execution_count": 29,
   "id": "00c54abb-5981-4613-bab1-4803b927a641",
   "metadata": {},
   "outputs": [
    {
     "data": {
      "text/plain": [
       "(8693, 15)"
      ]
     },
     "execution_count": 29,
     "metadata": {},
     "output_type": "execute_result"
    }
   ],
   "source": [
    "df.shape"
   ]
  },
  {
   "cell_type": "code",
   "execution_count": 30,
   "id": "c218deec-b266-4e62-9312-7bc93f674081",
   "metadata": {},
   "outputs": [
    {
     "data": {
      "text/plain": [
       "array(['TRAPPIST-1e', 'PSO J318.5-22', '55 Cancri e', nan], dtype=object)"
      ]
     },
     "execution_count": 30,
     "metadata": {},
     "output_type": "execute_result"
    }
   ],
   "source": [
    "df.Destination.unique()"
   ]
  },
  {
   "cell_type": "code",
   "execution_count": 31,
   "id": "3339b8a6-2604-42a3-bcd4-9a35fe9ae2c1",
   "metadata": {},
   "outputs": [
    {
     "data": {
      "text/plain": [
       "numpy.ndarray"
      ]
     },
     "execution_count": 31,
     "metadata": {},
     "output_type": "execute_result"
    }
   ],
   "source": [
    "type(y)"
   ]
  },
  {
   "cell_type": "markdown",
   "id": "74dbcca5-a5de-4205-b4ea-19e0c91cdae4",
   "metadata": {},
   "source": [
    "Check columns which has null . \n",
    "we will do *preprocessing* on the dataframe ."
   ]
  },
  {
   "cell_type": "code",
   "execution_count": 32,
   "id": "d8395d9a-9223-4c6b-8a99-8e0dd5f9daa7",
   "metadata": {},
   "outputs": [
    {
     "name": "stdout",
     "output_type": "stream",
     "text": [
      "['HomePlanet', 'CryoSleep', 'Destination', 'Age', 'VIP', 'RoomService', 'FoodCourt', 'ShoppingMall', 'Spa', 'VRDeck', 'CabinDeck', 'CabinSide']\n"
     ]
    }
   ],
   "source": [
    "null_columns = df.columns[df.isna().any()].tolist()\n",
    "print(null_columns)"
   ]
  },
  {
   "cell_type": "markdown",
   "id": "e1951a9e-6b5c-435c-9034-0b5cdf7653dd",
   "metadata": {},
   "source": [
    "preprocessing data for catrgorical and numerical columns\n"
   ]
  },
  {
   "cell_type": "code",
   "execution_count": 33,
   "id": "3019b0f4-0b92-483e-bdfe-94cbc7b43b9d",
   "metadata": {},
   "outputs": [
    {
     "name": "stdout",
     "output_type": "stream",
     "text": [
      "numerical features Index(['Age', 'RoomService', 'FoodCourt', 'ShoppingMall', 'Spa', 'VRDeck',\n",
      "       'Group', 'CabinNum'],\n",
      "      dtype='object')\n",
      "categorical features Index(['HomePlanet', 'CryoSleep', 'Destination', 'VIP', 'NumInGroup',\n",
      "       'CabinDeck', 'CabinSide'],\n",
      "      dtype='object')\n"
     ]
    }
   ],
   "source": [
    "# Separate features into numerical and categorical\n",
    "numerical_features = df.select_dtypes(include=['float64','int32']).columns\n",
    "print(f\"numerical features {numerical_features}\")\n",
    "categorical_features = df.select_dtypes(include=['object']).columns\n",
    "print(f\"categorical features {categorical_features}\")\n"
   ]
  },
  {
   "cell_type": "code",
   "execution_count": 34,
   "id": "64598fd5-7171-4af0-b1c0-7529c4924526",
   "metadata": {},
   "outputs": [
    {
     "data": {
      "text/plain": [
       "pandas.core.indexes.base.Index"
      ]
     },
     "execution_count": 34,
     "metadata": {},
     "output_type": "execute_result"
    }
   ],
   "source": [
    "type(numerical_features)"
   ]
  },
  {
   "cell_type": "code",
   "execution_count": 35,
   "id": "94169fa4-6c32-496f-a984-272395e30b0e",
   "metadata": {},
   "outputs": [],
   "source": [
    "X_preprocessed , feature_names = preprocess_dataframe(numerical_features, categorical_features, df)"
   ]
  },
  {
   "cell_type": "code",
   "execution_count": 36,
   "id": "4b8c46d9-fe16-42d4-ada4-6a752682faa1",
   "metadata": {},
   "outputs": [
    {
     "data": {
      "text/plain": [
       "(8693, 36)"
      ]
     },
     "execution_count": 36,
     "metadata": {},
     "output_type": "execute_result"
    }
   ],
   "source": [
    "# check that preprocessing has increased the number of coluns\n",
    "X_preprocessed.shape"
   ]
  },
  {
   "cell_type": "code",
   "execution_count": 37,
   "id": "e1ff1dae-7031-4764-a40f-9756f01ae0b9",
   "metadata": {},
   "outputs": [],
   "source": [
    "file_path= 'C:\\\\Users\\\\u725561\\\\machine-learning\\\\kaggle-learning\\\\feature_names.txt'\n",
    "dump_list_to_file(feature_names,file_path)"
   ]
  },
  {
   "cell_type": "code",
   "execution_count": 38,
   "id": "71922784-1743-4db0-b7ff-8b64353a9881",
   "metadata": {},
   "outputs": [
    {
     "data": {
      "text/plain": [
       "36"
      ]
     },
     "execution_count": 38,
     "metadata": {},
     "output_type": "execute_result"
    }
   ],
   "source": [
    "len(feature_names)"
   ]
  },
  {
   "cell_type": "code",
   "execution_count": 39,
   "id": "90377605-c851-454d-a895-6df7af82648b",
   "metadata": {},
   "outputs": [
    {
     "data": {
      "text/plain": [
       "numpy.ndarray"
      ]
     },
     "execution_count": 39,
     "metadata": {},
     "output_type": "execute_result"
    }
   ],
   "source": [
    "type(X_preprocessed)"
   ]
  },
  {
   "cell_type": "code",
   "execution_count": 40,
   "id": "7beb8abc-d2d3-49e5-a979-488678460cbe",
   "metadata": {},
   "outputs": [
    {
     "data": {
      "text/plain": [
       "(8693, 36)"
      ]
     },
     "execution_count": 40,
     "metadata": {},
     "output_type": "execute_result"
    }
   ],
   "source": [
    "X_preprocessed.shape"
   ]
  },
  {
   "cell_type": "code",
   "execution_count": 41,
   "id": "7b0a8592-aee5-41eb-a532-02202c6a3981",
   "metadata": {},
   "outputs": [
    {
     "data": {
      "text/plain": [
       "numpy.ndarray"
      ]
     },
     "execution_count": 41,
     "metadata": {},
     "output_type": "execute_result"
    }
   ],
   "source": [
    "type(X_preprocessed)"
   ]
  },
  {
   "cell_type": "code",
   "execution_count": 42,
   "id": "d2691005-955b-4247-95d7-a6b27c464598",
   "metadata": {},
   "outputs": [
    {
     "name": "stdout",
     "output_type": "stream",
     "text": [
      "      num__Age  num__RoomService  num__FoodCourt  num__ShoppingMall  num__Spa  \\\n",
      "0     0.709437         -0.340590       -0.287314          -0.290817 -0.276663   \n",
      "1    -0.336717         -0.175364       -0.281669          -0.248968  0.211505   \n",
      "2     2.034566         -0.275409        1.955616          -0.290817  5.694289   \n",
      "3     0.290975         -0.340590        0.517406           0.330225  2.683471   \n",
      "4    -0.894666          0.118709       -0.243409          -0.038048  0.225732   \n",
      "...        ...               ...             ...                ...       ...   \n",
      "8688  0.848924         -0.340590        3.989682          -0.290817  1.184286   \n",
      "8689 -0.755179         -0.340590       -0.287314          -0.290817 -0.276663   \n",
      "8690 -0.197230         -0.340590       -0.287314           2.842851 -0.275774   \n",
      "8691  0.221232         -0.340590        0.370637          -0.290817  0.037223   \n",
      "8692  1.058155         -0.149594        2.653082          -0.290817 -0.276663   \n",
      "\n",
      "      num__VRDeck  num__Group  num__CabinNum  cat__HomePlanet_Earth  \\\n",
      "0       -0.269023   -1.734409      -1.171085                    0.0   \n",
      "1       -0.230194   -1.734034      -1.171085                    1.0   \n",
      "2       -0.225782   -1.733660      -1.171085                    0.0   \n",
      "3       -0.098708   -1.733660      -1.171085                    0.0   \n",
      "4       -0.267258   -1.733286      -1.169134                    1.0   \n",
      "...           ...         ...            ...                    ...   \n",
      "8688    -0.203720    1.738236      -0.979823                    0.0   \n",
      "8689    -0.269023    1.738984       1.754440                    1.0   \n",
      "8690    -0.269023    1.739359       1.756391                    1.0   \n",
      "8691     2.585740    1.739733       0.015519                    0.0   \n",
      "8692    -0.258433    1.739733       0.015519                    0.0   \n",
      "\n",
      "      cat__HomePlanet_Europa  ...  cat__CabinDeck_A  cat__CabinDeck_B  \\\n",
      "0                        1.0  ...               0.0               1.0   \n",
      "1                        0.0  ...               0.0               0.0   \n",
      "2                        1.0  ...               1.0               0.0   \n",
      "3                        1.0  ...               1.0               0.0   \n",
      "4                        0.0  ...               0.0               0.0   \n",
      "...                      ...  ...               ...               ...   \n",
      "8688                     1.0  ...               1.0               0.0   \n",
      "8689                     0.0  ...               0.0               0.0   \n",
      "8690                     0.0  ...               0.0               0.0   \n",
      "8691                     1.0  ...               0.0               0.0   \n",
      "8692                     1.0  ...               0.0               0.0   \n",
      "\n",
      "      cat__CabinDeck_C  cat__CabinDeck_D  cat__CabinDeck_E  cat__CabinDeck_F  \\\n",
      "0                  0.0               0.0               0.0               0.0   \n",
      "1                  0.0               0.0               0.0               1.0   \n",
      "2                  0.0               0.0               0.0               0.0   \n",
      "3                  0.0               0.0               0.0               0.0   \n",
      "4                  0.0               0.0               0.0               1.0   \n",
      "...                ...               ...               ...               ...   \n",
      "8688               0.0               0.0               0.0               0.0   \n",
      "8689               0.0               0.0               0.0               0.0   \n",
      "8690               0.0               0.0               0.0               0.0   \n",
      "8691               0.0               0.0               1.0               0.0   \n",
      "8692               0.0               0.0               1.0               0.0   \n",
      "\n",
      "      cat__CabinDeck_G  cat__CabinDeck_T  cat__CabinSide_P  cat__CabinSide_S  \n",
      "0                  0.0               0.0               1.0               0.0  \n",
      "1                  0.0               0.0               0.0               1.0  \n",
      "2                  0.0               0.0               0.0               1.0  \n",
      "3                  0.0               0.0               0.0               1.0  \n",
      "4                  0.0               0.0               0.0               1.0  \n",
      "...                ...               ...               ...               ...  \n",
      "8688               0.0               0.0               1.0               0.0  \n",
      "8689               1.0               0.0               0.0               1.0  \n",
      "8690               1.0               0.0               0.0               1.0  \n",
      "8691               0.0               0.0               0.0               1.0  \n",
      "8692               0.0               0.0               0.0               1.0  \n",
      "\n",
      "[8693 rows x 36 columns]\n"
     ]
    }
   ],
   "source": [
    "X_preprocessed_df = pd.DataFrame(data=X_preprocessed, columns=feature_names)\n",
    "\n",
    "# Display the preprocessed DataFrame\n",
    "print(X_preprocessed_df)"
   ]
  },
  {
   "cell_type": "code",
   "execution_count": 43,
   "id": "0637df93-a58b-4f07-b1b7-b63f5528c5a1",
   "metadata": {},
   "outputs": [],
   "source": [
    "# Split the dataset into training and testing sets\n",
    "X_train, X_test, y_train, y_test = train_test_split(X_preprocessed, y, test_size=0.2, random_state=42)"
   ]
  },
  {
   "cell_type": "code",
   "execution_count": 44,
   "id": "c6c1f55d-b27b-4ee0-b326-9ba69cde8ef6",
   "metadata": {},
   "outputs": [],
   "source": [
    "# Define the hyperparameters and their possible values for grid search\n",
    "param_grid = {\n",
    "    'penalty': ['l1', 'l2'],\n",
    "    'C': [0.001, 0.01, 0.1, 1, 10, 100],\n",
    "    'solver': ['liblinear'],  # its small dataset .sag and saga will not be required\n",
    "    'max_iter': [100, 200, 300],\n",
    "    'class_weight' : [ 'balanced','dictionary','None']\n",
    "}"
   ]
  },
  {
   "cell_type": "code",
   "execution_count": 45,
   "id": "e3876f2c-bef2-4a7d-8428-f6c0dc76a6d6",
   "metadata": {},
   "outputs": [],
   "source": [
    "# Create a Logistic Regression model\n",
    "logreg = LogisticRegression(random_state=42)"
   ]
  },
  {
   "cell_type": "code",
   "execution_count": 46,
   "id": "c35f0cd0-a23e-40c8-9c62-5497e576a34d",
   "metadata": {},
   "outputs": [],
   "source": [
    "# Create the GridSearchCV object\n",
    "grid_search = GridSearchCV(logreg, param_grid, cv=5, scoring='accuracy')"
   ]
  },
  {
   "cell_type": "code",
   "execution_count": 47,
   "id": "8040d590-6fd4-4a2c-a3df-958905067125",
   "metadata": {},
   "outputs": [
    {
     "data": {
      "text/html": [
       "<style>#sk-container-id-1 {color: black;}#sk-container-id-1 pre{padding: 0;}#sk-container-id-1 div.sk-toggleable {background-color: white;}#sk-container-id-1 label.sk-toggleable__label {cursor: pointer;display: block;width: 100%;margin-bottom: 0;padding: 0.3em;box-sizing: border-box;text-align: center;}#sk-container-id-1 label.sk-toggleable__label-arrow:before {content: \"▸\";float: left;margin-right: 0.25em;color: #696969;}#sk-container-id-1 label.sk-toggleable__label-arrow:hover:before {color: black;}#sk-container-id-1 div.sk-estimator:hover label.sk-toggleable__label-arrow:before {color: black;}#sk-container-id-1 div.sk-toggleable__content {max-height: 0;max-width: 0;overflow: hidden;text-align: left;background-color: #f0f8ff;}#sk-container-id-1 div.sk-toggleable__content pre {margin: 0.2em;color: black;border-radius: 0.25em;background-color: #f0f8ff;}#sk-container-id-1 input.sk-toggleable__control:checked~div.sk-toggleable__content {max-height: 200px;max-width: 100%;overflow: auto;}#sk-container-id-1 input.sk-toggleable__control:checked~label.sk-toggleable__label-arrow:before {content: \"▾\";}#sk-container-id-1 div.sk-estimator input.sk-toggleable__control:checked~label.sk-toggleable__label {background-color: #d4ebff;}#sk-container-id-1 div.sk-label input.sk-toggleable__control:checked~label.sk-toggleable__label {background-color: #d4ebff;}#sk-container-id-1 input.sk-hidden--visually {border: 0;clip: rect(1px 1px 1px 1px);clip: rect(1px, 1px, 1px, 1px);height: 1px;margin: -1px;overflow: hidden;padding: 0;position: absolute;width: 1px;}#sk-container-id-1 div.sk-estimator {font-family: monospace;background-color: #f0f8ff;border: 1px dotted black;border-radius: 0.25em;box-sizing: border-box;margin-bottom: 0.5em;}#sk-container-id-1 div.sk-estimator:hover {background-color: #d4ebff;}#sk-container-id-1 div.sk-parallel-item::after {content: \"\";width: 100%;border-bottom: 1px solid gray;flex-grow: 1;}#sk-container-id-1 div.sk-label:hover label.sk-toggleable__label {background-color: #d4ebff;}#sk-container-id-1 div.sk-serial::before {content: \"\";position: absolute;border-left: 1px solid gray;box-sizing: border-box;top: 0;bottom: 0;left: 50%;z-index: 0;}#sk-container-id-1 div.sk-serial {display: flex;flex-direction: column;align-items: center;background-color: white;padding-right: 0.2em;padding-left: 0.2em;position: relative;}#sk-container-id-1 div.sk-item {position: relative;z-index: 1;}#sk-container-id-1 div.sk-parallel {display: flex;align-items: stretch;justify-content: center;background-color: white;position: relative;}#sk-container-id-1 div.sk-item::before, #sk-container-id-1 div.sk-parallel-item::before {content: \"\";position: absolute;border-left: 1px solid gray;box-sizing: border-box;top: 0;bottom: 0;left: 50%;z-index: -1;}#sk-container-id-1 div.sk-parallel-item {display: flex;flex-direction: column;z-index: 1;position: relative;background-color: white;}#sk-container-id-1 div.sk-parallel-item:first-child::after {align-self: flex-end;width: 50%;}#sk-container-id-1 div.sk-parallel-item:last-child::after {align-self: flex-start;width: 50%;}#sk-container-id-1 div.sk-parallel-item:only-child::after {width: 0;}#sk-container-id-1 div.sk-dashed-wrapped {border: 1px dashed gray;margin: 0 0.4em 0.5em 0.4em;box-sizing: border-box;padding-bottom: 0.4em;background-color: white;}#sk-container-id-1 div.sk-label label {font-family: monospace;font-weight: bold;display: inline-block;line-height: 1.2em;}#sk-container-id-1 div.sk-label-container {text-align: center;}#sk-container-id-1 div.sk-container {/* jupyter's `normalize.less` sets `[hidden] { display: none; }` but bootstrap.min.css set `[hidden] { display: none !important; }` so we also need the `!important` here to be able to override the default hidden behavior on the sphinx rendered scikit-learn.org. See: https://github.com/scikit-learn/scikit-learn/issues/21755 */display: inline-block !important;position: relative;}#sk-container-id-1 div.sk-text-repr-fallback {display: none;}</style><div id=\"sk-container-id-1\" class=\"sk-top-container\"><div class=\"sk-text-repr-fallback\"><pre>GridSearchCV(cv=5, estimator=LogisticRegression(random_state=42),\n",
       "             param_grid={&#x27;C&#x27;: [0.001, 0.01, 0.1, 1, 10, 100],\n",
       "                         &#x27;class_weight&#x27;: [&#x27;balanced&#x27;, &#x27;dictionary&#x27;, &#x27;None&#x27;],\n",
       "                         &#x27;max_iter&#x27;: [100, 200, 300], &#x27;penalty&#x27;: [&#x27;l1&#x27;, &#x27;l2&#x27;],\n",
       "                         &#x27;solver&#x27;: [&#x27;liblinear&#x27;]},\n",
       "             scoring=&#x27;accuracy&#x27;)</pre><b>In a Jupyter environment, please rerun this cell to show the HTML representation or trust the notebook. <br />On GitHub, the HTML representation is unable to render, please try loading this page with nbviewer.org.</b></div><div class=\"sk-container\" hidden><div class=\"sk-item sk-dashed-wrapped\"><div class=\"sk-label-container\"><div class=\"sk-label sk-toggleable\"><input class=\"sk-toggleable__control sk-hidden--visually\" id=\"sk-estimator-id-1\" type=\"checkbox\" ><label for=\"sk-estimator-id-1\" class=\"sk-toggleable__label sk-toggleable__label-arrow\">GridSearchCV</label><div class=\"sk-toggleable__content\"><pre>GridSearchCV(cv=5, estimator=LogisticRegression(random_state=42),\n",
       "             param_grid={&#x27;C&#x27;: [0.001, 0.01, 0.1, 1, 10, 100],\n",
       "                         &#x27;class_weight&#x27;: [&#x27;balanced&#x27;, &#x27;dictionary&#x27;, &#x27;None&#x27;],\n",
       "                         &#x27;max_iter&#x27;: [100, 200, 300], &#x27;penalty&#x27;: [&#x27;l1&#x27;, &#x27;l2&#x27;],\n",
       "                         &#x27;solver&#x27;: [&#x27;liblinear&#x27;]},\n",
       "             scoring=&#x27;accuracy&#x27;)</pre></div></div></div><div class=\"sk-parallel\"><div class=\"sk-parallel-item\"><div class=\"sk-item\"><div class=\"sk-label-container\"><div class=\"sk-label sk-toggleable\"><input class=\"sk-toggleable__control sk-hidden--visually\" id=\"sk-estimator-id-2\" type=\"checkbox\" ><label for=\"sk-estimator-id-2\" class=\"sk-toggleable__label sk-toggleable__label-arrow\">estimator: LogisticRegression</label><div class=\"sk-toggleable__content\"><pre>LogisticRegression(random_state=42)</pre></div></div></div><div class=\"sk-serial\"><div class=\"sk-item\"><div class=\"sk-estimator sk-toggleable\"><input class=\"sk-toggleable__control sk-hidden--visually\" id=\"sk-estimator-id-3\" type=\"checkbox\" ><label for=\"sk-estimator-id-3\" class=\"sk-toggleable__label sk-toggleable__label-arrow\">LogisticRegression</label><div class=\"sk-toggleable__content\"><pre>LogisticRegression(random_state=42)</pre></div></div></div></div></div></div></div></div></div></div>"
      ],
      "text/plain": [
       "GridSearchCV(cv=5, estimator=LogisticRegression(random_state=42),\n",
       "             param_grid={'C': [0.001, 0.01, 0.1, 1, 10, 100],\n",
       "                         'class_weight': ['balanced', 'dictionary', 'None'],\n",
       "                         'max_iter': [100, 200, 300], 'penalty': ['l1', 'l2'],\n",
       "                         'solver': ['liblinear']},\n",
       "             scoring='accuracy')"
      ]
     },
     "execution_count": 47,
     "metadata": {},
     "output_type": "execute_result"
    }
   ],
   "source": [
    "# Train the model on the training set\n",
    "grid_search.fit(X_train, y_train)"
   ]
  },
  {
   "cell_type": "code",
   "execution_count": 48,
   "id": "5cf0b9e4-7ade-4f0a-980a-406a1e8bbcfb",
   "metadata": {},
   "outputs": [
    {
     "name": "stdout",
     "output_type": "stream",
     "text": [
      "Best Hyperparameters: {'C': 1, 'class_weight': 'balanced', 'max_iter': 100, 'penalty': 'l1', 'solver': 'liblinear'}\n"
     ]
    }
   ],
   "source": [
    "# Print the best hyperparameters\n",
    "print(\"Best Hyperparameters:\", grid_search.best_params_)"
   ]
  },
  {
   "cell_type": "code",
   "execution_count": 49,
   "id": "31aee9e6-f13d-47c4-aa60-23fa909180c1",
   "metadata": {},
   "outputs": [],
   "source": [
    "# Get the best model\n",
    "best_model = grid_search.best_estimator_"
   ]
  },
  {
   "cell_type": "code",
   "execution_count": 50,
   "id": "18b091ae-c89f-4218-8eff-34e1d4d2fd47",
   "metadata": {},
   "outputs": [],
   "source": [
    "# Make predictions on the test set\n",
    "y_pred = best_model.predict(X_test)"
   ]
  },
  {
   "cell_type": "code",
   "execution_count": 51,
   "id": "e5dbe23f-ea77-413d-b491-814e9fba24cd",
   "metadata": {},
   "outputs": [],
   "source": [
    "# Evaluate the model\n",
    "accuracy = accuracy_score(y_test, y_pred)\n",
    "report = classification_report(y_test, y_pred)"
   ]
  },
  {
   "cell_type": "code",
   "execution_count": 52,
   "id": "ec239153-9b1a-4d7f-abda-b5c0a9acb1ee",
   "metadata": {},
   "outputs": [
    {
     "name": "stdout",
     "output_type": "stream",
     "text": [
      "Accuracy: 0.7814836112708453\n",
      "\n",
      "Classification Report:\n",
      "               precision    recall  f1-score   support\n",
      "\n",
      "           0       0.80      0.75      0.77       861\n",
      "           1       0.77      0.81      0.79       878\n",
      "\n",
      "    accuracy                           0.78      1739\n",
      "   macro avg       0.78      0.78      0.78      1739\n",
      "weighted avg       0.78      0.78      0.78      1739\n",
      "\n"
     ]
    }
   ],
   "source": [
    "# Print the results\n",
    "print(\"Accuracy:\", accuracy)\n",
    "print(\"\\nClassification Report:\\n\", report)"
   ]
  },
  {
   "cell_type": "code",
   "execution_count": 53,
   "id": "4d910e44-f405-4807-81ae-f07135371a75",
   "metadata": {},
   "outputs": [],
   "source": [
    "cm = confusion_matrix(y_test,y_pred)"
   ]
  },
  {
   "cell_type": "code",
   "execution_count": 54,
   "id": "bfcb3769-3567-43fd-884f-62e9fb1561f0",
   "metadata": {},
   "outputs": [
    {
     "data": {
      "image/png": "[encoded data removed]",
      "text/plain": [
       "<Figure size 800x600 with 2 Axes>"
      ]
     },
     "metadata": {},
     "output_type": "display_data"
    }
   ],
   "source": [
    "# plot the confusion matrix\n",
    "plt.figure(figsize=(8, 6))\n",
    "sns.heatmap(cm, annot=True, fmt=\"d\", cmap='Blues', xticklabels='Transported', yticklabels='Transported')\n",
    "plt.ylabel('Actual')\n",
    "plt.xlabel('Predicted')\n",
    "plt.title('Confusion Matrix')\n",
    "plt.show()"
   ]
  },
  {
   "cell_type": "code",
   "execution_count": 55,
   "id": "29f616f8-34da-413f-a5b7-e7feabadf9a0",
   "metadata": {},
   "outputs": [
    {
     "data": {
      "image/png": "[encoded data removed]",
      "text/plain": [
       "<Figure size 640x480 with 1 Axes>"
      ]
     },
     "metadata": {},
     "output_type": "display_data"
    }
   ],
   "source": [
    "# Predict probabilities\n",
    "y_probs = best_model.predict_proba(X_test)[:, 1]\n",
    "# Compute ROC curve and AUC\n",
    "fpr, tpr, thresholds = roc_curve(y_test, y_probs)\n",
    "roc_auc = auc(fpr, tpr)\n",
    "# Plotting\n",
    "plt.figure()\n",
    "plt.plot(fpr, tpr, color='darkorange', lw=2, label=f'ROC curve (area = {roc_auc:.2f})')\n",
    "plt.plot([0, 1], [0, 1], color='navy', lw=2, linestyle='--')\n",
    "plt.xlim([0.0, 1.0])\n",
    "plt.ylim([0.0, 1.05])\n",
    "plt.xlabel('False Positive Rate')\n",
    "plt.ylabel('True Positive Rate')\n",
    "plt.title('Receiver Operating Characteristic')\n",
    "plt.legend(loc=\"lower right\")\n",
    "plt.show()"
   ]
  },
  {
   "cell_type": "code",
   "execution_count": 56,
   "id": "46bf61ec-4fc4-473f-9b62-268c9dc28193",
   "metadata": {},
   "outputs": [
    {
     "data": {
      "image/png": "[encoded data removed]",
      "text/plain": [
       "<Figure size 640x480 with 1 Axes>"
      ]
     },
     "metadata": {},
     "output_type": "display_data"
    }
   ],
   "source": [
    "# Predict probabilities\n",
    "y_probs = best_model.predict_proba(X_test)[:, 0]\n",
    "# Compute ROC curve and AUC\n",
    "fpr, tpr, thresholds = roc_curve(y_test, y_probs)\n",
    "roc_auc = auc(fpr, tpr)\n",
    "# Plotting\n",
    "plt.figure()\n",
    "plt.plot(fpr, tpr, color='darkorange', lw=2, label=f'ROC curve (area = {roc_auc:.2f})')\n",
    "plt.plot([0, 1], [0, 1], color='navy', lw=2, linestyle='--')\n",
    "plt.xlim([0.0, 1.0])\n",
    "plt.ylim([0.0, 1.05])\n",
    "plt.xlabel('False Positive Rate')\n",
    "plt.ylabel('True Positive Rate')\n",
    "plt.title('Receiver Operating Characteristic')\n",
    "plt.legend(loc=\"lower right\")\n",
    "plt.show()"
   ]
  },
  {
   "cell_type": "code",
   "execution_count": 57,
   "id": "e31a6634-73c7-4aa0-bb2d-51c39556c529",
   "metadata": {},
   "outputs": [
    {
     "name": "stdout",
     "output_type": "stream",
     "text": [
      "num__Age: -0.08653282956593866\n",
      "num__RoomService: -1.0484021057311577\n",
      "num__FoodCourt: 0.8183068595240044\n",
      "num__ShoppingMall: 0.33336163593707074\n",
      "num__Spa: -2.2956447069002706\n",
      "num__VRDeck: -2.1728305951266202\n",
      "num__Group: 0.039951458010115\n",
      "num__CabinNum: 0.06542498849272363\n",
      "cat__HomePlanet_Earth: -0.5849451307240128\n",
      "cat__HomePlanet_Europa: 0.8016667211536416\n",
      "cat__HomePlanet_Mars: 0.0\n",
      "cat__CryoSleep_False: -0.67063893162932\n",
      "cat__CryoSleep_True: 0.6681975853540004\n",
      "cat__Destination_55 Cancri e: 0.4500715597615553\n",
      "cat__Destination_PSO J318.5-22: 0.0\n",
      "cat__Destination_TRAPPIST-1e: 0.0\n",
      "cat__VIP_False: 0.0\n",
      "cat__VIP_True: -0.11768713578546323\n",
      "cat__NumInGroup_01: 0.0\n",
      "cat__NumInGroup_02: 0.1485219276369084\n",
      "cat__NumInGroup_03: 0.3287873505965062\n",
      "cat__NumInGroup_04: 0.21166224837178824\n",
      "cat__NumInGroup_05: -0.1194148626602944\n",
      "cat__NumInGroup_06: 0.0\n",
      "cat__NumInGroup_07: -0.2347671561754033\n",
      "cat__NumInGroup_08: 0.0\n",
      "cat__CabinDeck_A: -0.36720522787685683\n",
      "cat__CabinDeck_B: 0.7159247188025948\n",
      "cat__CabinDeck_C: 1.8467436749804322\n",
      "cat__CabinDeck_D: 0.1113389236037643\n",
      "cat__CabinDeck_E: -0.39378884525063007\n",
      "cat__CabinDeck_F: 0.0\n",
      "cat__CabinDeck_G: -0.295153329106688\n",
      "cat__CabinDeck_T: 0.0\n",
      "cat__CabinSide_P: -0.5344696738305516\n",
      "cat__CabinSide_S: 0.0507632905072237\n"
     ]
    }
   ],
   "source": [
    "coefficients = best_model.coef_[0]\n",
    "\n",
    "# Print feature names and coefficients\n",
    "for feature, coef in zip(feature_names, coefficients):\n",
    "    print(f\"{feature}: {coef}\")"
   ]
  },
  {
   "cell_type": "code",
   "execution_count": 128,
   "id": "a2e0c548-d21f-4ea9-91e4-0943c6b5f83f",
   "metadata": {},
   "outputs": [],
   "source": [
    "# perform evaluation on test data \n",
    "df_test = pd.read_csv(\"C:\\\\Users\\\\u725561\\\\machine-learning\\\\spaceship-titanic\\\\test.csv\")"
   ]
  },
  {
   "cell_type": "code",
   "execution_count": 129,
   "id": "a45edaf5-0aa2-4c71-ad00-d5922c9568c9",
   "metadata": {},
   "outputs": [],
   "source": [
    "keycol_df = pd.DataFrame()\n",
    "keycol_df[\"PassengerId\"] = df_test[\"PassengerId\"]"
   ]
  },
  {
   "cell_type": "code",
   "execution_count": 130,
   "id": "751729e6-d0e4-4df5-b7c0-05f6bfe2159c",
   "metadata": {},
   "outputs": [
    {
     "data": {
      "text/html": [
       "<div>\n",
       "<style scoped>\n",
       "    .dataframe tbody tr th:only-of-type {\n",
       "        vertical-align: middle;\n",
       "    }\n",
       "\n",
       "    .dataframe tbody tr th {\n",
       "        vertical-align: top;\n",
       "    }\n",
       "\n",
       "    .dataframe thead th {\n",
       "        text-align: right;\n",
       "    }\n",
       "</style>\n",
       "<table border=\"1\" class=\"dataframe\">\n",
       "  <thead>\n",
       "    <tr style=\"text-align: right;\">\n",
       "      <th></th>\n",
       "      <th>PassengerId</th>\n",
       "    </tr>\n",
       "  </thead>\n",
       "  <tbody>\n",
       "    <tr>\n",
       "      <th>0</th>\n",
       "      <td>0013_01</td>\n",
       "    </tr>\n",
       "    <tr>\n",
       "      <th>1</th>\n",
       "      <td>0018_01</td>\n",
       "    </tr>\n",
       "    <tr>\n",
       "      <th>2</th>\n",
       "      <td>0019_01</td>\n",
       "    </tr>\n",
       "    <tr>\n",
       "      <th>3</th>\n",
       "      <td>0021_01</td>\n",
       "    </tr>\n",
       "    <tr>\n",
       "      <th>4</th>\n",
       "      <td>0023_01</td>\n",
       "    </tr>\n",
       "    <tr>\n",
       "      <th>...</th>\n",
       "      <td>...</td>\n",
       "    </tr>\n",
       "    <tr>\n",
       "      <th>4272</th>\n",
       "      <td>9266_02</td>\n",
       "    </tr>\n",
       "    <tr>\n",
       "      <th>4273</th>\n",
       "      <td>9269_01</td>\n",
       "    </tr>\n",
       "    <tr>\n",
       "      <th>4274</th>\n",
       "      <td>9271_01</td>\n",
       "    </tr>\n",
       "    <tr>\n",
       "      <th>4275</th>\n",
       "      <td>9273_01</td>\n",
       "    </tr>\n",
       "    <tr>\n",
       "      <th>4276</th>\n",
       "      <td>9277_01</td>\n",
       "    </tr>\n",
       "  </tbody>\n",
       "</table>\n",
       "<p>4277 rows × 1 columns</p>\n",
       "</div>"
      ],
      "text/plain": [
       "     PassengerId\n",
       "0        0013_01\n",
       "1        0018_01\n",
       "2        0019_01\n",
       "3        0021_01\n",
       "4        0023_01\n",
       "...          ...\n",
       "4272     9266_02\n",
       "4273     9269_01\n",
       "4274     9271_01\n",
       "4275     9273_01\n",
       "4276     9277_01\n",
       "\n",
       "[4277 rows x 1 columns]"
      ]
     },
     "execution_count": 130,
     "metadata": {},
     "output_type": "execute_result"
    }
   ],
   "source": [
    "keycol_df"
   ]
  },
  {
   "cell_type": "code",
   "execution_count": 131,
   "id": "37c23881-1ada-4b2c-8ee4-abc2717bbfc5",
   "metadata": {},
   "outputs": [
    {
     "data": {
      "text/html": [
       "<div>\n",
       "<style scoped>\n",
       "    .dataframe tbody tr th:only-of-type {\n",
       "        vertical-align: middle;\n",
       "    }\n",
       "\n",
       "    .dataframe tbody tr th {\n",
       "        vertical-align: top;\n",
       "    }\n",
       "\n",
       "    .dataframe thead th {\n",
       "        text-align: right;\n",
       "    }\n",
       "</style>\n",
       "<table border=\"1\" class=\"dataframe\">\n",
       "  <thead>\n",
       "    <tr style=\"text-align: right;\">\n",
       "      <th></th>\n",
       "      <th>PassengerId</th>\n",
       "      <th>HomePlanet</th>\n",
       "      <th>CryoSleep</th>\n",
       "      <th>Cabin</th>\n",
       "      <th>Destination</th>\n",
       "      <th>Age</th>\n",
       "      <th>VIP</th>\n",
       "      <th>RoomService</th>\n",
       "      <th>FoodCourt</th>\n",
       "      <th>ShoppingMall</th>\n",
       "      <th>Spa</th>\n",
       "      <th>VRDeck</th>\n",
       "      <th>Name</th>\n",
       "    </tr>\n",
       "  </thead>\n",
       "  <tbody>\n",
       "    <tr>\n",
       "      <th>0</th>\n",
       "      <td>0013_01</td>\n",
       "      <td>Earth</td>\n",
       "      <td>True</td>\n",
       "      <td>G/3/S</td>\n",
       "      <td>TRAPPIST-1e</td>\n",
       "      <td>27.0</td>\n",
       "      <td>False</td>\n",
       "      <td>0.0</td>\n",
       "      <td>0.0</td>\n",
       "      <td>0.0</td>\n",
       "      <td>0.0</td>\n",
       "      <td>0.0</td>\n",
       "      <td>Nelly Carsoning</td>\n",
       "    </tr>\n",
       "    <tr>\n",
       "      <th>1</th>\n",
       "      <td>0018_01</td>\n",
       "      <td>Earth</td>\n",
       "      <td>False</td>\n",
       "      <td>F/4/S</td>\n",
       "      <td>TRAPPIST-1e</td>\n",
       "      <td>19.0</td>\n",
       "      <td>False</td>\n",
       "      <td>0.0</td>\n",
       "      <td>9.0</td>\n",
       "      <td>0.0</td>\n",
       "      <td>2823.0</td>\n",
       "      <td>0.0</td>\n",
       "      <td>Lerome Peckers</td>\n",
       "    </tr>\n",
       "    <tr>\n",
       "      <th>2</th>\n",
       "      <td>0019_01</td>\n",
       "      <td>Europa</td>\n",
       "      <td>True</td>\n",
       "      <td>C/0/S</td>\n",
       "      <td>55 Cancri e</td>\n",
       "      <td>31.0</td>\n",
       "      <td>False</td>\n",
       "      <td>0.0</td>\n",
       "      <td>0.0</td>\n",
       "      <td>0.0</td>\n",
       "      <td>0.0</td>\n",
       "      <td>0.0</td>\n",
       "      <td>Sabih Unhearfus</td>\n",
       "    </tr>\n",
       "    <tr>\n",
       "      <th>3</th>\n",
       "      <td>0021_01</td>\n",
       "      <td>Europa</td>\n",
       "      <td>False</td>\n",
       "      <td>C/1/S</td>\n",
       "      <td>TRAPPIST-1e</td>\n",
       "      <td>38.0</td>\n",
       "      <td>False</td>\n",
       "      <td>0.0</td>\n",
       "      <td>6652.0</td>\n",
       "      <td>0.0</td>\n",
       "      <td>181.0</td>\n",
       "      <td>585.0</td>\n",
       "      <td>Meratz Caltilter</td>\n",
       "    </tr>\n",
       "    <tr>\n",
       "      <th>4</th>\n",
       "      <td>0023_01</td>\n",
       "      <td>Earth</td>\n",
       "      <td>False</td>\n",
       "      <td>F/5/S</td>\n",
       "      <td>TRAPPIST-1e</td>\n",
       "      <td>20.0</td>\n",
       "      <td>False</td>\n",
       "      <td>10.0</td>\n",
       "      <td>0.0</td>\n",
       "      <td>635.0</td>\n",
       "      <td>0.0</td>\n",
       "      <td>0.0</td>\n",
       "      <td>Brence Harperez</td>\n",
       "    </tr>\n",
       "    <tr>\n",
       "      <th>...</th>\n",
       "      <td>...</td>\n",
       "      <td>...</td>\n",
       "      <td>...</td>\n",
       "      <td>...</td>\n",
       "      <td>...</td>\n",
       "      <td>...</td>\n",
       "      <td>...</td>\n",
       "      <td>...</td>\n",
       "      <td>...</td>\n",
       "      <td>...</td>\n",
       "      <td>...</td>\n",
       "      <td>...</td>\n",
       "      <td>...</td>\n",
       "    </tr>\n",
       "    <tr>\n",
       "      <th>4272</th>\n",
       "      <td>9266_02</td>\n",
       "      <td>Earth</td>\n",
       "      <td>True</td>\n",
       "      <td>G/1496/S</td>\n",
       "      <td>TRAPPIST-1e</td>\n",
       "      <td>34.0</td>\n",
       "      <td>False</td>\n",
       "      <td>0.0</td>\n",
       "      <td>0.0</td>\n",
       "      <td>0.0</td>\n",
       "      <td>0.0</td>\n",
       "      <td>0.0</td>\n",
       "      <td>Jeron Peter</td>\n",
       "    </tr>\n",
       "    <tr>\n",
       "      <th>4273</th>\n",
       "      <td>9269_01</td>\n",
       "      <td>Earth</td>\n",
       "      <td>False</td>\n",
       "      <td>NaN</td>\n",
       "      <td>TRAPPIST-1e</td>\n",
       "      <td>42.0</td>\n",
       "      <td>False</td>\n",
       "      <td>0.0</td>\n",
       "      <td>847.0</td>\n",
       "      <td>17.0</td>\n",
       "      <td>10.0</td>\n",
       "      <td>144.0</td>\n",
       "      <td>Matty Scheron</td>\n",
       "    </tr>\n",
       "    <tr>\n",
       "      <th>4274</th>\n",
       "      <td>9271_01</td>\n",
       "      <td>Mars</td>\n",
       "      <td>True</td>\n",
       "      <td>D/296/P</td>\n",
       "      <td>55 Cancri e</td>\n",
       "      <td>NaN</td>\n",
       "      <td>False</td>\n",
       "      <td>0.0</td>\n",
       "      <td>0.0</td>\n",
       "      <td>0.0</td>\n",
       "      <td>0.0</td>\n",
       "      <td>0.0</td>\n",
       "      <td>Jayrin Pore</td>\n",
       "    </tr>\n",
       "    <tr>\n",
       "      <th>4275</th>\n",
       "      <td>9273_01</td>\n",
       "      <td>Europa</td>\n",
       "      <td>False</td>\n",
       "      <td>D/297/P</td>\n",
       "      <td>NaN</td>\n",
       "      <td>NaN</td>\n",
       "      <td>False</td>\n",
       "      <td>0.0</td>\n",
       "      <td>2680.0</td>\n",
       "      <td>0.0</td>\n",
       "      <td>0.0</td>\n",
       "      <td>523.0</td>\n",
       "      <td>Kitakan Conale</td>\n",
       "    </tr>\n",
       "    <tr>\n",
       "      <th>4276</th>\n",
       "      <td>9277_01</td>\n",
       "      <td>Earth</td>\n",
       "      <td>True</td>\n",
       "      <td>G/1498/S</td>\n",
       "      <td>PSO J318.5-22</td>\n",
       "      <td>43.0</td>\n",
       "      <td>False</td>\n",
       "      <td>0.0</td>\n",
       "      <td>0.0</td>\n",
       "      <td>0.0</td>\n",
       "      <td>0.0</td>\n",
       "      <td>0.0</td>\n",
       "      <td>Lilace Leonzaley</td>\n",
       "    </tr>\n",
       "  </tbody>\n",
       "</table>\n",
       "<p>4277 rows × 13 columns</p>\n",
       "</div>"
      ],
      "text/plain": [
       "     PassengerId HomePlanet CryoSleep     Cabin    Destination   Age    VIP  \\\n",
       "0        0013_01      Earth      True     G/3/S    TRAPPIST-1e  27.0  False   \n",
       "1        0018_01      Earth     False     F/4/S    TRAPPIST-1e  19.0  False   \n",
       "2        0019_01     Europa      True     C/0/S    55 Cancri e  31.0  False   \n",
       "3        0021_01     Europa     False     C/1/S    TRAPPIST-1e  38.0  False   \n",
       "4        0023_01      Earth     False     F/5/S    TRAPPIST-1e  20.0  False   \n",
       "...          ...        ...       ...       ...            ...   ...    ...   \n",
       "4272     9266_02      Earth      True  G/1496/S    TRAPPIST-1e  34.0  False   \n",
       "4273     9269_01      Earth     False       NaN    TRAPPIST-1e  42.0  False   \n",
       "4274     9271_01       Mars      True   D/296/P    55 Cancri e   NaN  False   \n",
       "4275     9273_01     Europa     False   D/297/P            NaN   NaN  False   \n",
       "4276     9277_01      Earth      True  G/1498/S  PSO J318.5-22  43.0  False   \n",
       "\n",
       "      RoomService  FoodCourt  ShoppingMall     Spa  VRDeck              Name  \n",
       "0             0.0        0.0           0.0     0.0     0.0   Nelly Carsoning  \n",
       "1             0.0        9.0           0.0  2823.0     0.0    Lerome Peckers  \n",
       "2             0.0        0.0           0.0     0.0     0.0   Sabih Unhearfus  \n",
       "3             0.0     6652.0           0.0   181.0   585.0  Meratz Caltilter  \n",
       "4            10.0        0.0         635.0     0.0     0.0   Brence Harperez  \n",
       "...           ...        ...           ...     ...     ...               ...  \n",
       "4272          0.0        0.0           0.0     0.0     0.0       Jeron Peter  \n",
       "4273          0.0      847.0          17.0    10.0   144.0     Matty Scheron  \n",
       "4274          0.0        0.0           0.0     0.0     0.0       Jayrin Pore  \n",
       "4275          0.0     2680.0           0.0     0.0   523.0    Kitakan Conale  \n",
       "4276          0.0        0.0           0.0     0.0     0.0  Lilace Leonzaley  \n",
       "\n",
       "[4277 rows x 13 columns]"
      ]
     },
     "execution_count": 131,
     "metadata": {},
     "output_type": "execute_result"
    }
   ],
   "source": [
    "# As you would observe that it is test data and it does not have \"Transported\" column\n",
    "df_test"
   ]
  },
  {
   "cell_type": "code",
   "execution_count": 132,
   "id": "6a71bab7-b2b3-4757-a4e1-546e459dae19",
   "metadata": {},
   "outputs": [
    {
     "name": "stdout",
     "output_type": "stream",
     "text": [
      "<class 'pandas.core.frame.DataFrame'>\n",
      "RangeIndex: 4277 entries, 0 to 4276\n",
      "Data columns (total 13 columns):\n",
      " #   Column        Non-Null Count  Dtype  \n",
      "---  ------        --------------  -----  \n",
      " 0   PassengerId   4277 non-null   object \n",
      " 1   HomePlanet    4190 non-null   object \n",
      " 2   CryoSleep     4184 non-null   object \n",
      " 3   Cabin         4177 non-null   object \n",
      " 4   Destination   4185 non-null   object \n",
      " 5   Age           4186 non-null   float64\n",
      " 6   VIP           4184 non-null   object \n",
      " 7   RoomService   4195 non-null   float64\n",
      " 8   FoodCourt     4171 non-null   float64\n",
      " 9   ShoppingMall  4179 non-null   float64\n",
      " 10  Spa           4176 non-null   float64\n",
      " 11  VRDeck        4197 non-null   float64\n",
      " 12  Name          4183 non-null   object \n",
      "dtypes: float64(6), object(7)\n",
      "memory usage: 434.5+ KB\n"
     ]
    }
   ],
   "source": [
    "# observe tha test data also has lot of nulls\n",
    "df_test.info()"
   ]
  },
  {
   "cell_type": "code",
   "execution_count": 133,
   "id": "335069a7-b791-400c-96a3-f80531f8e75a",
   "metadata": {},
   "outputs": [],
   "source": [
    "split_and_adjust(df_test)"
   ]
  },
  {
   "cell_type": "code",
   "execution_count": 134,
   "id": "6a6f1054-78ed-46d5-842c-cc456eed14b3",
   "metadata": {},
   "outputs": [
    {
     "data": {
      "text/plain": [
       "(4277, 15)"
      ]
     },
     "execution_count": 134,
     "metadata": {},
     "output_type": "execute_result"
    }
   ],
   "source": [
    "# expect 5 new columns to get added , total = 18\n",
    "df_test.shape"
   ]
  },
  {
   "cell_type": "code",
   "execution_count": 135,
   "id": "2c8dc287-3cc4-4ee4-804b-a17ea607c043",
   "metadata": {},
   "outputs": [
    {
     "name": "stdout",
     "output_type": "stream",
     "text": [
      "numerical features Index(['Age', 'RoomService', 'FoodCourt', 'ShoppingMall', 'Spa', 'VRDeck',\n",
      "       'Group', 'CabinNum'],\n",
      "      dtype='object')\n",
      "categorical features Index(['HomePlanet', 'CryoSleep', 'Destination', 'VIP', 'NumInGroup',\n",
      "       'CabinDeck', 'CabinSide'],\n",
      "      dtype='object')\n"
     ]
    }
   ],
   "source": [
    "# Separate features into numerical and categorical\n",
    "numerical_features = df_test.select_dtypes(include=['float64','int32']).columns\n",
    "print(f\"numerical features {numerical_features}\")\n",
    "categorical_features = df_test.select_dtypes(include=['object']).columns\n",
    "print(f\"categorical features {categorical_features}\")"
   ]
  },
  {
   "cell_type": "code",
   "execution_count": 136,
   "id": "f7d76be8-bddb-4207-b021-3b2d4049ea73",
   "metadata": {},
   "outputs": [],
   "source": [
    "X_preprocessed_test , feature_names_test = preprocess_dataframe(numerical_features, categorical_features, df_test)"
   ]
  },
  {
   "cell_type": "code",
   "execution_count": 137,
   "id": "f0ab6255-cba6-487e-8fcd-c6c158e35ee7",
   "metadata": {},
   "outputs": [
    {
     "data": {
      "text/plain": [
       "(4277, 36)"
      ]
     },
     "execution_count": 137,
     "metadata": {},
     "output_type": "execute_result"
    }
   ],
   "source": [
    "# shape of test data \n",
    "X_preprocessed_test.shape"
   ]
  },
  {
   "cell_type": "code",
   "execution_count": 138,
   "id": "da02eeb1-df4f-47f8-bbad-14be33e0edc4",
   "metadata": {},
   "outputs": [
    {
     "data": {
      "text/plain": [
       "36"
      ]
     },
     "execution_count": 138,
     "metadata": {},
     "output_type": "execute_result"
    }
   ],
   "source": [
    "# length of features \n",
    "len(feature_names_test)"
   ]
  },
  {
   "cell_type": "code",
   "execution_count": 139,
   "id": "49ccb17f-6f51-4627-afba-db32af114fc0",
   "metadata": {},
   "outputs": [],
   "source": [
    "# Make predictions on the test set\n",
    "y_pred_test = model.predict(X_preprocessed_test)"
   ]
  },
  {
   "cell_type": "code",
   "execution_count": 140,
   "id": "0ce2ade0-8605-45a0-979b-1d15b1c09bee",
   "metadata": {},
   "outputs": [
    {
     "data": {
      "text/plain": [
       "array([1, 0, 1, ..., 1, 1, 1])"
      ]
     },
     "execution_count": 140,
     "metadata": {},
     "output_type": "execute_result"
    }
   ],
   "source": [
    "y_pred_test"
   ]
  },
  {
   "cell_type": "code",
   "execution_count": 141,
   "id": "18f82d77-4bca-4da5-ae39-a2175786df46",
   "metadata": {},
   "outputs": [
    {
     "data": {
      "text/plain": [
       "(4277,)"
      ]
     },
     "execution_count": 141,
     "metadata": {},
     "output_type": "execute_result"
    }
   ],
   "source": [
    "y_pred_test.shape"
   ]
  },
  {
   "cell_type": "code",
   "execution_count": 142,
   "id": "645dd4d8-b4d4-40c9-83c5-d39b95f79e47",
   "metadata": {},
   "outputs": [],
   "source": [
    "trans_df = pd.DataFrame({'Transported': y_pred_test})\n",
    "trans_df['Transported'] = trans_df['Transported'].astype(bool)"
   ]
  },
  {
   "cell_type": "code",
   "execution_count": 143,
   "id": "313e9d5d-56d6-4276-a972-736ce3ec2336",
   "metadata": {},
   "outputs": [
    {
     "data": {
      "text/html": [
       "<div>\n",
       "<style scoped>\n",
       "    .dataframe tbody tr th:only-of-type {\n",
       "        vertical-align: middle;\n",
       "    }\n",
       "\n",
       "    .dataframe tbody tr th {\n",
       "        vertical-align: top;\n",
       "    }\n",
       "\n",
       "    .dataframe thead th {\n",
       "        text-align: right;\n",
       "    }\n",
       "</style>\n",
       "<table border=\"1\" class=\"dataframe\">\n",
       "  <thead>\n",
       "    <tr style=\"text-align: right;\">\n",
       "      <th></th>\n",
       "      <th>Transported</th>\n",
       "    </tr>\n",
       "  </thead>\n",
       "  <tbody>\n",
       "    <tr>\n",
       "      <th>0</th>\n",
       "      <td>True</td>\n",
       "    </tr>\n",
       "    <tr>\n",
       "      <th>1</th>\n",
       "      <td>False</td>\n",
       "    </tr>\n",
       "    <tr>\n",
       "      <th>2</th>\n",
       "      <td>True</td>\n",
       "    </tr>\n",
       "    <tr>\n",
       "      <th>3</th>\n",
       "      <td>True</td>\n",
       "    </tr>\n",
       "    <tr>\n",
       "      <th>4</th>\n",
       "      <td>True</td>\n",
       "    </tr>\n",
       "    <tr>\n",
       "      <th>...</th>\n",
       "      <td>...</td>\n",
       "    </tr>\n",
       "    <tr>\n",
       "      <th>4272</th>\n",
       "      <td>True</td>\n",
       "    </tr>\n",
       "    <tr>\n",
       "      <th>4273</th>\n",
       "      <td>True</td>\n",
       "    </tr>\n",
       "    <tr>\n",
       "      <th>4274</th>\n",
       "      <td>True</td>\n",
       "    </tr>\n",
       "    <tr>\n",
       "      <th>4275</th>\n",
       "      <td>True</td>\n",
       "    </tr>\n",
       "    <tr>\n",
       "      <th>4276</th>\n",
       "      <td>True</td>\n",
       "    </tr>\n",
       "  </tbody>\n",
       "</table>\n",
       "<p>4277 rows × 1 columns</p>\n",
       "</div>"
      ],
      "text/plain": [
       "      Transported\n",
       "0            True\n",
       "1           False\n",
       "2            True\n",
       "3            True\n",
       "4            True\n",
       "...           ...\n",
       "4272         True\n",
       "4273         True\n",
       "4274         True\n",
       "4275         True\n",
       "4276         True\n",
       "\n",
       "[4277 rows x 1 columns]"
      ]
     },
     "execution_count": 143,
     "metadata": {},
     "output_type": "execute_result"
    }
   ],
   "source": [
    "trans_df"
   ]
  },
  {
   "cell_type": "code",
   "execution_count": 144,
   "id": "6947421d-d0bc-4aeb-aa3a-cb6179647454",
   "metadata": {},
   "outputs": [],
   "source": [
    "# Concatenating DataFrames vertically based on columns\n",
    "result_df = pd.concat([keycol_df, trans_df], axis=1)"
   ]
  },
  {
   "cell_type": "code",
   "execution_count": 145,
   "id": "14364cfd-4f66-47a9-816c-1b85ddebee76",
   "metadata": {},
   "outputs": [
    {
     "data": {
      "text/html": [
       "<div>\n",
       "<style scoped>\n",
       "    .dataframe tbody tr th:only-of-type {\n",
       "        vertical-align: middle;\n",
       "    }\n",
       "\n",
       "    .dataframe tbody tr th {\n",
       "        vertical-align: top;\n",
       "    }\n",
       "\n",
       "    .dataframe thead th {\n",
       "        text-align: right;\n",
       "    }\n",
       "</style>\n",
       "<table border=\"1\" class=\"dataframe\">\n",
       "  <thead>\n",
       "    <tr style=\"text-align: right;\">\n",
       "      <th></th>\n",
       "      <th>PassengerId</th>\n",
       "      <th>Transported</th>\n",
       "    </tr>\n",
       "  </thead>\n",
       "  <tbody>\n",
       "    <tr>\n",
       "      <th>0</th>\n",
       "      <td>0013_01</td>\n",
       "      <td>True</td>\n",
       "    </tr>\n",
       "    <tr>\n",
       "      <th>1</th>\n",
       "      <td>0018_01</td>\n",
       "      <td>False</td>\n",
       "    </tr>\n",
       "    <tr>\n",
       "      <th>2</th>\n",
       "      <td>0019_01</td>\n",
       "      <td>True</td>\n",
       "    </tr>\n",
       "    <tr>\n",
       "      <th>3</th>\n",
       "      <td>0021_01</td>\n",
       "      <td>True</td>\n",
       "    </tr>\n",
       "    <tr>\n",
       "      <th>4</th>\n",
       "      <td>0023_01</td>\n",
       "      <td>True</td>\n",
       "    </tr>\n",
       "    <tr>\n",
       "      <th>...</th>\n",
       "      <td>...</td>\n",
       "      <td>...</td>\n",
       "    </tr>\n",
       "    <tr>\n",
       "      <th>4272</th>\n",
       "      <td>9266_02</td>\n",
       "      <td>True</td>\n",
       "    </tr>\n",
       "    <tr>\n",
       "      <th>4273</th>\n",
       "      <td>9269_01</td>\n",
       "      <td>True</td>\n",
       "    </tr>\n",
       "    <tr>\n",
       "      <th>4274</th>\n",
       "      <td>9271_01</td>\n",
       "      <td>True</td>\n",
       "    </tr>\n",
       "    <tr>\n",
       "      <th>4275</th>\n",
       "      <td>9273_01</td>\n",
       "      <td>True</td>\n",
       "    </tr>\n",
       "    <tr>\n",
       "      <th>4276</th>\n",
       "      <td>9277_01</td>\n",
       "      <td>True</td>\n",
       "    </tr>\n",
       "  </tbody>\n",
       "</table>\n",
       "<p>4277 rows × 2 columns</p>\n",
       "</div>"
      ],
      "text/plain": [
       "     PassengerId  Transported\n",
       "0        0013_01         True\n",
       "1        0018_01        False\n",
       "2        0019_01         True\n",
       "3        0021_01         True\n",
       "4        0023_01         True\n",
       "...          ...          ...\n",
       "4272     9266_02         True\n",
       "4273     9269_01         True\n",
       "4274     9271_01         True\n",
       "4275     9273_01         True\n",
       "4276     9277_01         True\n",
       "\n",
       "[4277 rows x 2 columns]"
      ]
     },
     "execution_count": 145,
     "metadata": {},
     "output_type": "execute_result"
    }
   ],
   "source": [
    "result_df"
   ]
  },
  {
   "cell_type": "code",
   "execution_count": 146,
   "id": "e405b216-7d63-4fe3-820f-640195d95c66",
   "metadata": {},
   "outputs": [],
   "source": [
    "# Save the DataFrame to a CSV file\n",
    "result_df.to_csv('result.csv', index=False)"
   ]
  },
  {
   "cell_type": "code",
   "execution_count": null,
   "id": "c96221b8-5473-4847-acee-0c5b06cd8c45",
   "metadata": {},
   "outputs": [],
   "source": []
  }
 ],
 "metadata": {
  "kernelspec": {
   "display_name": "Python 3 (ipykernel)",
   "language": "python",
   "name": "python3"
  },
  "language_info": {
   "codemirror_mode": {
    "name": "ipython",
    "version": 3
   },
   "file_extension": ".py",
   "mimetype": "text/x-python",
   "name": "python",
   "nbconvert_exporter": "python",
   "pygments_lexer": "ipython3",
   "version": "3.9.13"
  }
 },
 "nbformat": 4,
 "nbformat_minor": 5
}
