{
 "cells": [
  {
   "cell_type": "code",
   "execution_count": 1,
   "id": "ffbe468d-d012-44af-b4f3-87640c73d4dc",
   "metadata": {},
   "outputs": [],
   "source": [
    "import numpy as np \n",
    "import pandas as pd\n",
    "from sklearn.compose import ColumnTransformer\n",
    "from sklearn.pipeline import Pipeline\n",
    "from sklearn.preprocessing import StandardScaler, OneHotEncoder\n",
    "from sklearn.impute import SimpleImputer\n",
    "from sklearn.model_selection import train_test_split\n",
    "from sklearn.linear_model import LogisticRegression\n",
    "from sklearn.metrics import accuracy_score, classification_report"
   ]
  },
  {
   "cell_type": "markdown",
   "id": "70083291-673d-4105-be18-544f5dddfb0e",
   "metadata": {},
   "source": [
    "* Below method will take dataframe and  column name and replace NaN values with given list ."
   ]
  },
  {
   "cell_type": "code",
   "execution_count": 2,
   "id": "53f04e81-80d0-4282-91ce-a153aef217a4",
   "metadata": {},
   "outputs": [],
   "source": [
    "def replace_nan_with_random_list(df, column, replacement_list):\n",
    "    nan_indices = df.index[df[column].isna()].tolist()\n",
    "    num_nans = len(nan_indices)\n",
    "    random_values = np.random.choice(replacement_list, size=num_nans)\n",
    "    df.loc[nan_indices, column] = random_values"
   ]
  },
  {
   "cell_type": "markdown",
   "id": "2df3bcb8-d4c5-4cb1-9984-b9306291870f",
   "metadata": {},
   "source": [
    "* Below method will take dataframe and  column name and replace NaN values with non NAN values from that column.\n",
    "  It will select a random value from non NAN value"
   ]
  },
  {
   "cell_type": "code",
   "execution_count": 3,
   "id": "99f79725-fa45-43b8-9b0d-b59406e2a7d4",
   "metadata": {},
   "outputs": [],
   "source": [
    "def replace_nan_with_existing_val(df, column):\n",
    "    nan_indices = df.index[df[column].isna()].tolist()\n",
    "    num_nans = len(nan_indices)\n",
    "    # check where values are not Nan values , that will make a replacement_list\n",
    "    value_index = df.index[df[column].notna()].tolist()\n",
    "    replacement_list = df.loc[value_index,column].values.tolist()\n",
    "    random_values = np.random.choice(replacement_list, size=num_nans)\n",
    "    df.loc[nan_indices, column] = random_values"
   ]
  },
  {
   "cell_type": "code",
   "execution_count": 4,
   "id": "e0f9fffb-85ed-4a13-88dd-fbc8a0179875",
   "metadata": {},
   "outputs": [],
   "source": [
    "def preprocess_dataframe(numerical_features, categorical_features, df):\n",
    "    \"\"\"\n",
    "    This functions takes a dataframe and takes a list of numerical columns and categorical columns \n",
    "    and replaces NAN values and scales the values \n",
    "    \n",
    "    \"\"\"\n",
    "    # Create transformers for numerical and categorical features\n",
    "    numerical_transformer = Pipeline(steps=[\n",
    "        ('imputer', SimpleImputer(strategy='mean')),\n",
    "        ('scaler', StandardScaler())\n",
    "    ])\n",
    "\n",
    "    categorical_transformer = Pipeline(steps=[\n",
    "        ('imputer', SimpleImputer(strategy='most_frequent')),\n",
    "        ('onehot', OneHotEncoder(handle_unknown='ignore'))\n",
    "    ])\n",
    "\n",
    "    # Combine transformers using ColumnTransformer\n",
    "    preprocessor = ColumnTransformer(\n",
    "        transformers=[\n",
    "            ('num', numerical_transformer, numerical_features),\n",
    "            ('cat', categorical_transformer, categorical_features)\n",
    "        ])\n",
    "\n",
    "    # Fit and transform the data using the preprocessor\n",
    "    X_preprocessed = preprocessor.fit_transform(df)\n",
    "    # get output features name \n",
    "    feature_names = preprocessor.get_feature_names_out()\n",
    "    \n",
    "    return ( X_preprocessed ,feature_names)\n",
    "\n"
   ]
  },
  {
   "cell_type": "code",
   "execution_count": 5,
   "id": "6c6df18d-2cd9-4298-9f22-b21d613996c6",
   "metadata": {},
   "outputs": [],
   "source": [
    "def extract_target_column(df,target_col):\n",
    "    tran_y= df.pop(target_col)\n",
    "    # type would be pandas.core.series.Series\n",
    "    type(tran_y)\n",
    "    y = pd.DataFrame(tran_y)\n",
    "    y[target_col] = y[target_col].astype(int)\n",
    "    y = y.values\n",
    "    y = y.ravel()\n",
    "    return y"
   ]
  },
  {
   "cell_type": "code",
   "execution_count": 6,
   "id": "0ceb606c-4d96-4d19-a02c-d727917ef96e",
   "metadata": {},
   "outputs": [],
   "source": [
    "data = {'A': [1, 2, np.nan, 4, 5, np.nan, 7, 8, 9]}"
   ]
  },
  {
   "cell_type": "code",
   "execution_count": 7,
   "id": "a0d8465e-5bfa-4ca7-be42-e7b11b9f2fe6",
   "metadata": {},
   "outputs": [],
   "source": [
    "df = pd.DataFrame(data)"
   ]
  },
  {
   "cell_type": "code",
   "execution_count": 8,
   "id": "2af4ff62-32aa-46c5-a00f-ba5524d7b85a",
   "metadata": {},
   "outputs": [
    {
     "data": {
      "text/html": [
       "<div>\n",
       "<style scoped>\n",
       "    .dataframe tbody tr th:only-of-type {\n",
       "        vertical-align: middle;\n",
       "    }\n",
       "\n",
       "    .dataframe tbody tr th {\n",
       "        vertical-align: top;\n",
       "    }\n",
       "\n",
       "    .dataframe thead th {\n",
       "        text-align: right;\n",
       "    }\n",
       "</style>\n",
       "<table border=\"1\" class=\"dataframe\">\n",
       "  <thead>\n",
       "    <tr style=\"text-align: right;\">\n",
       "      <th></th>\n",
       "      <th>A</th>\n",
       "    </tr>\n",
       "  </thead>\n",
       "  <tbody>\n",
       "    <tr>\n",
       "      <th>0</th>\n",
       "      <td>1.0</td>\n",
       "    </tr>\n",
       "    <tr>\n",
       "      <th>1</th>\n",
       "      <td>2.0</td>\n",
       "    </tr>\n",
       "    <tr>\n",
       "      <th>2</th>\n",
       "      <td>NaN</td>\n",
       "    </tr>\n",
       "    <tr>\n",
       "      <th>3</th>\n",
       "      <td>4.0</td>\n",
       "    </tr>\n",
       "    <tr>\n",
       "      <th>4</th>\n",
       "      <td>5.0</td>\n",
       "    </tr>\n",
       "    <tr>\n",
       "      <th>5</th>\n",
       "      <td>NaN</td>\n",
       "    </tr>\n",
       "    <tr>\n",
       "      <th>6</th>\n",
       "      <td>7.0</td>\n",
       "    </tr>\n",
       "    <tr>\n",
       "      <th>7</th>\n",
       "      <td>8.0</td>\n",
       "    </tr>\n",
       "    <tr>\n",
       "      <th>8</th>\n",
       "      <td>9.0</td>\n",
       "    </tr>\n",
       "  </tbody>\n",
       "</table>\n",
       "</div>"
      ],
      "text/plain": [
       "     A\n",
       "0  1.0\n",
       "1  2.0\n",
       "2  NaN\n",
       "3  4.0\n",
       "4  5.0\n",
       "5  NaN\n",
       "6  7.0\n",
       "7  8.0\n",
       "8  9.0"
      ]
     },
     "execution_count": 8,
     "metadata": {},
     "output_type": "execute_result"
    }
   ],
   "source": [
    "df"
   ]
  },
  {
   "cell_type": "code",
   "execution_count": 9,
   "id": "358b81b5-08d3-40c2-977a-a7d3134a7567",
   "metadata": {},
   "outputs": [
    {
     "data": {
      "text/plain": [
       "2"
      ]
     },
     "execution_count": 9,
     "metadata": {},
     "output_type": "execute_result"
    }
   ],
   "source": [
    "# get the NaN index\n",
    "nan_index = df.index[df.A.isna()].tolist()\n",
    "len(nan_index)"
   ]
  },
  {
   "cell_type": "code",
   "execution_count": 10,
   "id": "eb611892-9472-4a3f-a55a-27b62337e47d",
   "metadata": {},
   "outputs": [
    {
     "data": {
      "text/plain": [
       "7"
      ]
     },
     "execution_count": 10,
     "metadata": {},
     "output_type": "execute_result"
    }
   ],
   "source": [
    "# got the non nan index\n",
    "value_index = df.index[df.A.notna()].tolist()\n",
    "len(value_index)"
   ]
  },
  {
   "cell_type": "code",
   "execution_count": 11,
   "id": "0677aae2-61d2-41ca-9954-c26b544a90ca",
   "metadata": {},
   "outputs": [],
   "source": [
    "replacement_list = df.loc[value_index,'A'].values.tolist()"
   ]
  },
  {
   "cell_type": "code",
   "execution_count": 12,
   "id": "5188c989-22c8-40cd-832a-919d21abdd30",
   "metadata": {},
   "outputs": [
    {
     "data": {
      "text/plain": [
       "[1.0, 2.0, 4.0, 5.0, 7.0, 8.0, 9.0]"
      ]
     },
     "execution_count": 12,
     "metadata": {},
     "output_type": "execute_result"
    }
   ],
   "source": [
    "replacement_list"
   ]
  },
  {
   "cell_type": "code",
   "execution_count": 13,
   "id": "6926fbd5-2805-47a2-9ea4-ec7bf7a6faf8",
   "metadata": {},
   "outputs": [],
   "source": [
    "replace_nan_with_random_list(df,'A',replacement_list=replacement_list)"
   ]
  },
  {
   "cell_type": "code",
   "execution_count": 14,
   "id": "ecaa0af2-2755-4a87-9dd0-451576fad809",
   "metadata": {},
   "outputs": [
    {
     "data": {
      "text/html": [
       "<div>\n",
       "<style scoped>\n",
       "    .dataframe tbody tr th:only-of-type {\n",
       "        vertical-align: middle;\n",
       "    }\n",
       "\n",
       "    .dataframe tbody tr th {\n",
       "        vertical-align: top;\n",
       "    }\n",
       "\n",
       "    .dataframe thead th {\n",
       "        text-align: right;\n",
       "    }\n",
       "</style>\n",
       "<table border=\"1\" class=\"dataframe\">\n",
       "  <thead>\n",
       "    <tr style=\"text-align: right;\">\n",
       "      <th></th>\n",
       "      <th>A</th>\n",
       "    </tr>\n",
       "  </thead>\n",
       "  <tbody>\n",
       "    <tr>\n",
       "      <th>0</th>\n",
       "      <td>1.0</td>\n",
       "    </tr>\n",
       "    <tr>\n",
       "      <th>1</th>\n",
       "      <td>2.0</td>\n",
       "    </tr>\n",
       "    <tr>\n",
       "      <th>2</th>\n",
       "      <td>7.0</td>\n",
       "    </tr>\n",
       "    <tr>\n",
       "      <th>3</th>\n",
       "      <td>4.0</td>\n",
       "    </tr>\n",
       "    <tr>\n",
       "      <th>4</th>\n",
       "      <td>5.0</td>\n",
       "    </tr>\n",
       "    <tr>\n",
       "      <th>5</th>\n",
       "      <td>5.0</td>\n",
       "    </tr>\n",
       "    <tr>\n",
       "      <th>6</th>\n",
       "      <td>7.0</td>\n",
       "    </tr>\n",
       "    <tr>\n",
       "      <th>7</th>\n",
       "      <td>8.0</td>\n",
       "    </tr>\n",
       "    <tr>\n",
       "      <th>8</th>\n",
       "      <td>9.0</td>\n",
       "    </tr>\n",
       "  </tbody>\n",
       "</table>\n",
       "</div>"
      ],
      "text/plain": [
       "     A\n",
       "0  1.0\n",
       "1  2.0\n",
       "2  7.0\n",
       "3  4.0\n",
       "4  5.0\n",
       "5  5.0\n",
       "6  7.0\n",
       "7  8.0\n",
       "8  9.0"
      ]
     },
     "execution_count": 14,
     "metadata": {},
     "output_type": "execute_result"
    }
   ],
   "source": [
    "df"
   ]
  },
  {
   "cell_type": "code",
   "execution_count": 15,
   "id": "2178df23-2ca3-440b-b56f-4ab9e2cd33e3",
   "metadata": {},
   "outputs": [
    {
     "data": {
      "text/html": [
       "<div>\n",
       "<style scoped>\n",
       "    .dataframe tbody tr th:only-of-type {\n",
       "        vertical-align: middle;\n",
       "    }\n",
       "\n",
       "    .dataframe tbody tr th {\n",
       "        vertical-align: top;\n",
       "    }\n",
       "\n",
       "    .dataframe thead th {\n",
       "        text-align: right;\n",
       "    }\n",
       "</style>\n",
       "<table border=\"1\" class=\"dataframe\">\n",
       "  <thead>\n",
       "    <tr style=\"text-align: right;\">\n",
       "      <th></th>\n",
       "      <th>A</th>\n",
       "    </tr>\n",
       "  </thead>\n",
       "  <tbody>\n",
       "    <tr>\n",
       "      <th>0</th>\n",
       "      <td>77.0</td>\n",
       "    </tr>\n",
       "    <tr>\n",
       "      <th>1</th>\n",
       "      <td>88.0</td>\n",
       "    </tr>\n",
       "    <tr>\n",
       "      <th>2</th>\n",
       "      <td>99.0</td>\n",
       "    </tr>\n",
       "    <tr>\n",
       "      <th>3</th>\n",
       "      <td>NaN</td>\n",
       "    </tr>\n",
       "    <tr>\n",
       "      <th>4</th>\n",
       "      <td>110.0</td>\n",
       "    </tr>\n",
       "    <tr>\n",
       "      <th>5</th>\n",
       "      <td>122.0</td>\n",
       "    </tr>\n",
       "    <tr>\n",
       "      <th>6</th>\n",
       "      <td>133.0</td>\n",
       "    </tr>\n",
       "    <tr>\n",
       "      <th>7</th>\n",
       "      <td>NaN</td>\n",
       "    </tr>\n",
       "  </tbody>\n",
       "</table>\n",
       "</div>"
      ],
      "text/plain": [
       "       A\n",
       "0   77.0\n",
       "1   88.0\n",
       "2   99.0\n",
       "3    NaN\n",
       "4  110.0\n",
       "5  122.0\n",
       "6  133.0\n",
       "7    NaN"
      ]
     },
     "execution_count": 15,
     "metadata": {},
     "output_type": "execute_result"
    }
   ],
   "source": [
    "data2 = { 'A' : [ 77 , 88 ,99 , np.nan, 110 , 122, 133, np.nan] }\n",
    "df2 = pd.DataFrame(data2)\n",
    "df2"
   ]
  },
  {
   "cell_type": "code",
   "execution_count": 16,
   "id": "60445e1a-b1c2-41f3-ad4b-98a48edc96c3",
   "metadata": {},
   "outputs": [
    {
     "name": "stdout",
     "output_type": "stream",
     "text": [
      "Variable                        Type         Data/Info\n",
      "------------------------------------------------------\n",
      "ColumnTransformer               ABCMeta      <class 'sklearn.compose._<...>ormer.ColumnTransformer'>\n",
      "LogisticRegression              type         <class 'sklearn.linear_mo<...>stic.LogisticRegression'>\n",
      "OneHotEncoder                   type         <class 'sklearn.preproces<...>_encoders.OneHotEncoder'>\n",
      "Pipeline                        ABCMeta      <class 'sklearn.pipeline.Pipeline'>\n",
      "SimpleImputer                   type         <class 'sklearn.impute._base.SimpleImputer'>\n",
      "StandardScaler                  type         <class 'sklearn.preproces<...>ng._data.StandardScaler'>\n",
      "accuracy_score                  function     <function accuracy_score at 0x000001E2FF9EC310>\n",
      "classification_report           function     <function classification_<...>rt at 0x000001E2FFA744C0>\n",
      "data                            dict         n=1\n",
      "data2                           dict         n=1\n",
      "df                              DataFrame         A\\n0  1.0\\n1  2.0\\n2<...>0\\n6  7.0\\n7  8.0\\n8  9.0\n",
      "df2                             DataFrame           A\\n0   77.0\\n1   8<...>122.0\\n6  133.0\\n7    NaN\n",
      "extract_target_column           function     <function extract_target_<...>mn at 0x000001E2FFDBE700>\n",
      "nan_index                       list         n=2\n",
      "np                              module       <module 'numpy' from 'C:\\<...>ges\\\\numpy\\\\__init__.py'>\n",
      "pd                              module       <module 'pandas' from 'C:<...>es\\\\pandas\\\\__init__.py'>\n",
      "preprocess_dataframe            function     <function preprocess_data<...>me at 0x000001E2D88ABDC0>\n",
      "replace_nan_with_existing_val   function     <function replace_nan_wit<...>al at 0x000001E2FFDBE0D0>\n",
      "replace_nan_with_random_list    function     <function replace_nan_wit<...>st at 0x000001E2FFD8EB80>\n",
      "replacement_list                list         n=7\n",
      "train_test_split                function     <function train_test_split at 0x000001E2FFBAEE50>\n",
      "value_index                     list         n=7\n"
     ]
    }
   ],
   "source": [
    "%whos"
   ]
  },
  {
   "cell_type": "code",
   "execution_count": 17,
   "id": "d5a1f153-9375-4c18-aac8-bd8363049841",
   "metadata": {},
   "outputs": [],
   "source": [
    "# replace NAN with existing values in the dataframe \n",
    "replace_nan_with_existing_val (df2,'A')"
   ]
  },
  {
   "cell_type": "code",
   "execution_count": 18,
   "id": "f445d68d-7ed5-4018-b1ff-19a1d3c2a185",
   "metadata": {},
   "outputs": [
    {
     "data": {
      "text/html": [
       "<div>\n",
       "<style scoped>\n",
       "    .dataframe tbody tr th:only-of-type {\n",
       "        vertical-align: middle;\n",
       "    }\n",
       "\n",
       "    .dataframe tbody tr th {\n",
       "        vertical-align: top;\n",
       "    }\n",
       "\n",
       "    .dataframe thead th {\n",
       "        text-align: right;\n",
       "    }\n",
       "</style>\n",
       "<table border=\"1\" class=\"dataframe\">\n",
       "  <thead>\n",
       "    <tr style=\"text-align: right;\">\n",
       "      <th></th>\n",
       "      <th>A</th>\n",
       "    </tr>\n",
       "  </thead>\n",
       "  <tbody>\n",
       "    <tr>\n",
       "      <th>0</th>\n",
       "      <td>77.0</td>\n",
       "    </tr>\n",
       "    <tr>\n",
       "      <th>1</th>\n",
       "      <td>88.0</td>\n",
       "    </tr>\n",
       "    <tr>\n",
       "      <th>2</th>\n",
       "      <td>99.0</td>\n",
       "    </tr>\n",
       "    <tr>\n",
       "      <th>3</th>\n",
       "      <td>77.0</td>\n",
       "    </tr>\n",
       "    <tr>\n",
       "      <th>4</th>\n",
       "      <td>110.0</td>\n",
       "    </tr>\n",
       "    <tr>\n",
       "      <th>5</th>\n",
       "      <td>122.0</td>\n",
       "    </tr>\n",
       "    <tr>\n",
       "      <th>6</th>\n",
       "      <td>133.0</td>\n",
       "    </tr>\n",
       "    <tr>\n",
       "      <th>7</th>\n",
       "      <td>77.0</td>\n",
       "    </tr>\n",
       "  </tbody>\n",
       "</table>\n",
       "</div>"
      ],
      "text/plain": [
       "       A\n",
       "0   77.0\n",
       "1   88.0\n",
       "2   99.0\n",
       "3   77.0\n",
       "4  110.0\n",
       "5  122.0\n",
       "6  133.0\n",
       "7   77.0"
      ]
     },
     "execution_count": 18,
     "metadata": {},
     "output_type": "execute_result"
    }
   ],
   "source": [
    "df2"
   ]
  },
  {
   "cell_type": "code",
   "execution_count": 19,
   "id": "518ec8ca-968f-4a93-b9f1-f8c8199e4d12",
   "metadata": {},
   "outputs": [
    {
     "data": {
      "text/plain": [
       "{'A': [1, 2, 3], 'B': [4, 5, 6], 'C': [7, 8, 9]}"
      ]
     },
     "execution_count": 19,
     "metadata": {},
     "output_type": "execute_result"
    }
   ],
   "source": [
    "data5 = { 'A' : [ 1, 2,3] , 'B' : [4,5,6] , 'C' : [ 7,8,9] }\n",
    "data5"
   ]
  },
  {
   "cell_type": "code",
   "execution_count": 20,
   "id": "3a038346-36e9-42ff-9cf5-af33553d97b5",
   "metadata": {},
   "outputs": [],
   "source": [
    "df3 = pd.DataFrame(data5)"
   ]
  },
  {
   "cell_type": "code",
   "execution_count": 21,
   "id": "91c0c33c-c3b1-4f20-a6ec-7080eda4c062",
   "metadata": {},
   "outputs": [
    {
     "data": {
      "text/html": [
       "<div>\n",
       "<style scoped>\n",
       "    .dataframe tbody tr th:only-of-type {\n",
       "        vertical-align: middle;\n",
       "    }\n",
       "\n",
       "    .dataframe tbody tr th {\n",
       "        vertical-align: top;\n",
       "    }\n",
       "\n",
       "    .dataframe thead th {\n",
       "        text-align: right;\n",
       "    }\n",
       "</style>\n",
       "<table border=\"1\" class=\"dataframe\">\n",
       "  <thead>\n",
       "    <tr style=\"text-align: right;\">\n",
       "      <th></th>\n",
       "      <th>A</th>\n",
       "      <th>B</th>\n",
       "      <th>C</th>\n",
       "    </tr>\n",
       "  </thead>\n",
       "  <tbody>\n",
       "    <tr>\n",
       "      <th>0</th>\n",
       "      <td>1</td>\n",
       "      <td>4</td>\n",
       "      <td>7</td>\n",
       "    </tr>\n",
       "    <tr>\n",
       "      <th>1</th>\n",
       "      <td>2</td>\n",
       "      <td>5</td>\n",
       "      <td>8</td>\n",
       "    </tr>\n",
       "    <tr>\n",
       "      <th>2</th>\n",
       "      <td>3</td>\n",
       "      <td>6</td>\n",
       "      <td>9</td>\n",
       "    </tr>\n",
       "  </tbody>\n",
       "</table>\n",
       "</div>"
      ],
      "text/plain": [
       "   A  B  C\n",
       "0  1  4  7\n",
       "1  2  5  8\n",
       "2  3  6  9"
      ]
     },
     "execution_count": 21,
     "metadata": {},
     "output_type": "execute_result"
    }
   ],
   "source": [
    "df3"
   ]
  },
  {
   "cell_type": "code",
   "execution_count": 22,
   "id": "e8d8f49a-3490-4339-b24d-8703186934b5",
   "metadata": {},
   "outputs": [],
   "source": [
    "# drop method allows multiple \n",
    "df3.drop(columns = [ 'A','B'] ,inplace=True)"
   ]
  },
  {
   "cell_type": "code",
   "execution_count": 23,
   "id": "83204888-ef51-4233-9900-7765396d6e3c",
   "metadata": {},
   "outputs": [
    {
     "data": {
      "text/html": [
       "<div>\n",
       "<style scoped>\n",
       "    .dataframe tbody tr th:only-of-type {\n",
       "        vertical-align: middle;\n",
       "    }\n",
       "\n",
       "    .dataframe tbody tr th {\n",
       "        vertical-align: top;\n",
       "    }\n",
       "\n",
       "    .dataframe thead th {\n",
       "        text-align: right;\n",
       "    }\n",
       "</style>\n",
       "<table border=\"1\" class=\"dataframe\">\n",
       "  <thead>\n",
       "    <tr style=\"text-align: right;\">\n",
       "      <th></th>\n",
       "      <th>C</th>\n",
       "    </tr>\n",
       "  </thead>\n",
       "  <tbody>\n",
       "    <tr>\n",
       "      <th>0</th>\n",
       "      <td>7</td>\n",
       "    </tr>\n",
       "    <tr>\n",
       "      <th>1</th>\n",
       "      <td>8</td>\n",
       "    </tr>\n",
       "    <tr>\n",
       "      <th>2</th>\n",
       "      <td>9</td>\n",
       "    </tr>\n",
       "  </tbody>\n",
       "</table>\n",
       "</div>"
      ],
      "text/plain": [
       "   C\n",
       "0  7\n",
       "1  8\n",
       "2  9"
      ]
     },
     "execution_count": 23,
     "metadata": {},
     "output_type": "execute_result"
    }
   ],
   "source": [
    "df3"
   ]
  },
  {
   "cell_type": "code",
   "execution_count": 24,
   "id": "b457f840-13d8-4086-9f68-da58115aec40",
   "metadata": {},
   "outputs": [],
   "source": [
    "data4 = { 'A' : [ 'A1','A2','A3','A4' ] , 'B' : [ 1 ,10 , 1000, np.nan] , 'C' : [ True, False , False , False] }"
   ]
  },
  {
   "cell_type": "code",
   "execution_count": 25,
   "id": "bb9dcc0d-5f83-46ac-9d42-20897d2b85ad",
   "metadata": {},
   "outputs": [
    {
     "data": {
      "text/plain": [
       "{'A': ['A1', 'A2', 'A3', 'A4'],\n",
       " 'B': [1, 10, 1000, nan],\n",
       " 'C': [True, False, False, False]}"
      ]
     },
     "execution_count": 25,
     "metadata": {},
     "output_type": "execute_result"
    }
   ],
   "source": [
    "data4"
   ]
  },
  {
   "cell_type": "code",
   "execution_count": 26,
   "id": "a56753c4-15f0-46ff-91ee-cbe1b00f64f9",
   "metadata": {},
   "outputs": [],
   "source": [
    "df4 = pd.DataFrame(data4)"
   ]
  },
  {
   "cell_type": "code",
   "execution_count": 27,
   "id": "35a67032-ab2d-4cc8-abc6-2b3733afcbd1",
   "metadata": {},
   "outputs": [
    {
     "data": {
      "text/html": [
       "<div>\n",
       "<style scoped>\n",
       "    .dataframe tbody tr th:only-of-type {\n",
       "        vertical-align: middle;\n",
       "    }\n",
       "\n",
       "    .dataframe tbody tr th {\n",
       "        vertical-align: top;\n",
       "    }\n",
       "\n",
       "    .dataframe thead th {\n",
       "        text-align: right;\n",
       "    }\n",
       "</style>\n",
       "<table border=\"1\" class=\"dataframe\">\n",
       "  <thead>\n",
       "    <tr style=\"text-align: right;\">\n",
       "      <th></th>\n",
       "      <th>A</th>\n",
       "      <th>B</th>\n",
       "      <th>C</th>\n",
       "    </tr>\n",
       "  </thead>\n",
       "  <tbody>\n",
       "    <tr>\n",
       "      <th>0</th>\n",
       "      <td>A1</td>\n",
       "      <td>1.0</td>\n",
       "      <td>True</td>\n",
       "    </tr>\n",
       "    <tr>\n",
       "      <th>1</th>\n",
       "      <td>A2</td>\n",
       "      <td>10.0</td>\n",
       "      <td>False</td>\n",
       "    </tr>\n",
       "    <tr>\n",
       "      <th>2</th>\n",
       "      <td>A3</td>\n",
       "      <td>1000.0</td>\n",
       "      <td>False</td>\n",
       "    </tr>\n",
       "    <tr>\n",
       "      <th>3</th>\n",
       "      <td>A4</td>\n",
       "      <td>NaN</td>\n",
       "      <td>False</td>\n",
       "    </tr>\n",
       "  </tbody>\n",
       "</table>\n",
       "</div>"
      ],
      "text/plain": [
       "    A       B      C\n",
       "0  A1     1.0   True\n",
       "1  A2    10.0  False\n",
       "2  A3  1000.0  False\n",
       "3  A4     NaN  False"
      ]
     },
     "execution_count": 27,
     "metadata": {},
     "output_type": "execute_result"
    }
   ],
   "source": [
    "df4"
   ]
  },
  {
   "cell_type": "code",
   "execution_count": 28,
   "id": "98464ab1-3598-4857-8caf-db84577b8d1f",
   "metadata": {},
   "outputs": [],
   "source": [
    "numeric_columns =  ['B']\n",
    "catergorical_columns = [ 'A','C']\n",
    "X , feature_names= preprocess_dataframe(numeric_columns,catergorical_columns,df4)"
   ]
  },
  {
   "cell_type": "code",
   "execution_count": 29,
   "id": "0e6068e9-c506-484d-a3b6-384de02ee425",
   "metadata": {},
   "outputs": [
    {
     "data": {
      "text/plain": [
       "array([[-0.82755483,  1.        ,  0.        ,  0.        ,  0.        ,\n",
       "         0.        ,  1.        ],\n",
       "       [-0.80538818,  0.        ,  1.        ,  0.        ,  0.        ,\n",
       "         1.        ,  0.        ],\n",
       "       [ 1.63294301,  0.        ,  0.        ,  1.        ,  0.        ,\n",
       "         1.        ,  0.        ],\n",
       "       [ 0.        ,  0.        ,  0.        ,  0.        ,  1.        ,\n",
       "         1.        ,  0.        ]])"
      ]
     },
     "execution_count": 29,
     "metadata": {},
     "output_type": "execute_result"
    }
   ],
   "source": [
    "X"
   ]
  },
  {
   "cell_type": "code",
   "execution_count": 30,
   "id": "1692bd78-6338-4e91-9575-63fa9b7b2728",
   "metadata": {},
   "outputs": [
    {
     "data": {
      "text/plain": [
       "(4, 7)"
      ]
     },
     "execution_count": 30,
     "metadata": {},
     "output_type": "execute_result"
    }
   ],
   "source": [
    "X.shape"
   ]
  },
  {
   "cell_type": "code",
   "execution_count": 31,
   "id": "c5d7014e-61cd-4d98-bafa-f8134b11ccfc",
   "metadata": {},
   "outputs": [
    {
     "data": {
      "text/plain": [
       "array(['num__B', 'cat__A_A1', 'cat__A_A2', 'cat__A_A3', 'cat__A_A4',\n",
       "       'cat__C_False', 'cat__C_True'], dtype=object)"
      ]
     },
     "execution_count": 31,
     "metadata": {},
     "output_type": "execute_result"
    }
   ],
   "source": [
    "feature_names"
   ]
  },
  {
   "cell_type": "code",
   "execution_count": 32,
   "id": "3f368cb6-bc5f-4707-aca2-f6faf42a47e6",
   "metadata": {},
   "outputs": [],
   "source": [
    "df5 = pd.DataFrame(data = X , columns = feature_names)"
   ]
  },
  {
   "cell_type": "code",
   "execution_count": 33,
   "id": "483266fd-ad07-40e0-a262-6797097d9c42",
   "metadata": {},
   "outputs": [
    {
     "data": {
      "text/html": [
       "<div>\n",
       "<style scoped>\n",
       "    .dataframe tbody tr th:only-of-type {\n",
       "        vertical-align: middle;\n",
       "    }\n",
       "\n",
       "    .dataframe tbody tr th {\n",
       "        vertical-align: top;\n",
       "    }\n",
       "\n",
       "    .dataframe thead th {\n",
       "        text-align: right;\n",
       "    }\n",
       "</style>\n",
       "<table border=\"1\" class=\"dataframe\">\n",
       "  <thead>\n",
       "    <tr style=\"text-align: right;\">\n",
       "      <th></th>\n",
       "      <th>num__B</th>\n",
       "      <th>cat__A_A1</th>\n",
       "      <th>cat__A_A2</th>\n",
       "      <th>cat__A_A3</th>\n",
       "      <th>cat__A_A4</th>\n",
       "      <th>cat__C_False</th>\n",
       "      <th>cat__C_True</th>\n",
       "    </tr>\n",
       "  </thead>\n",
       "  <tbody>\n",
       "    <tr>\n",
       "      <th>0</th>\n",
       "      <td>-0.827555</td>\n",
       "      <td>1.0</td>\n",
       "      <td>0.0</td>\n",
       "      <td>0.0</td>\n",
       "      <td>0.0</td>\n",
       "      <td>0.0</td>\n",
       "      <td>1.0</td>\n",
       "    </tr>\n",
       "    <tr>\n",
       "      <th>1</th>\n",
       "      <td>-0.805388</td>\n",
       "      <td>0.0</td>\n",
       "      <td>1.0</td>\n",
       "      <td>0.0</td>\n",
       "      <td>0.0</td>\n",
       "      <td>1.0</td>\n",
       "      <td>0.0</td>\n",
       "    </tr>\n",
       "    <tr>\n",
       "      <th>2</th>\n",
       "      <td>1.632943</td>\n",
       "      <td>0.0</td>\n",
       "      <td>0.0</td>\n",
       "      <td>1.0</td>\n",
       "      <td>0.0</td>\n",
       "      <td>1.0</td>\n",
       "      <td>0.0</td>\n",
       "    </tr>\n",
       "    <tr>\n",
       "      <th>3</th>\n",
       "      <td>0.000000</td>\n",
       "      <td>0.0</td>\n",
       "      <td>0.0</td>\n",
       "      <td>0.0</td>\n",
       "      <td>1.0</td>\n",
       "      <td>1.0</td>\n",
       "      <td>0.0</td>\n",
       "    </tr>\n",
       "  </tbody>\n",
       "</table>\n",
       "</div>"
      ],
      "text/plain": [
       "     num__B  cat__A_A1  cat__A_A2  cat__A_A3  cat__A_A4  cat__C_False  \\\n",
       "0 -0.827555        1.0        0.0        0.0        0.0           0.0   \n",
       "1 -0.805388        0.0        1.0        0.0        0.0           1.0   \n",
       "2  1.632943        0.0        0.0        1.0        0.0           1.0   \n",
       "3  0.000000        0.0        0.0        0.0        1.0           1.0   \n",
       "\n",
       "   cat__C_True  \n",
       "0          1.0  \n",
       "1          0.0  \n",
       "2          0.0  \n",
       "3          0.0  "
      ]
     },
     "execution_count": 33,
     "metadata": {},
     "output_type": "execute_result"
    }
   ],
   "source": [
    "df5"
   ]
  },
  {
   "cell_type": "code",
   "execution_count": 34,
   "id": "b588dec2-bfda-47b8-b5c0-1b0414204c19",
   "metadata": {},
   "outputs": [
    {
     "data": {
      "text/plain": [
       "{'A': [1, 2, 3], 'B': [4, 5, 6], 'C': [7, 8, 9]}"
      ]
     },
     "execution_count": 34,
     "metadata": {},
     "output_type": "execute_result"
    }
   ],
   "source": [
    "data5"
   ]
  },
  {
   "cell_type": "code",
   "execution_count": 35,
   "id": "a2c1c409-a716-4355-a50f-cc83984f96ce",
   "metadata": {},
   "outputs": [],
   "source": [
    "df6 = pd.DataFrame(data5)"
   ]
  },
  {
   "cell_type": "code",
   "execution_count": 36,
   "id": "01bd4d9d-ee4f-4172-85d2-08a6a1cd39cf",
   "metadata": {},
   "outputs": [
    {
     "data": {
      "text/html": [
       "<div>\n",
       "<style scoped>\n",
       "    .dataframe tbody tr th:only-of-type {\n",
       "        vertical-align: middle;\n",
       "    }\n",
       "\n",
       "    .dataframe tbody tr th {\n",
       "        vertical-align: top;\n",
       "    }\n",
       "\n",
       "    .dataframe thead th {\n",
       "        text-align: right;\n",
       "    }\n",
       "</style>\n",
       "<table border=\"1\" class=\"dataframe\">\n",
       "  <thead>\n",
       "    <tr style=\"text-align: right;\">\n",
       "      <th></th>\n",
       "      <th>A</th>\n",
       "      <th>B</th>\n",
       "      <th>C</th>\n",
       "    </tr>\n",
       "  </thead>\n",
       "  <tbody>\n",
       "    <tr>\n",
       "      <th>0</th>\n",
       "      <td>1</td>\n",
       "      <td>4</td>\n",
       "      <td>7</td>\n",
       "    </tr>\n",
       "    <tr>\n",
       "      <th>1</th>\n",
       "      <td>2</td>\n",
       "      <td>5</td>\n",
       "      <td>8</td>\n",
       "    </tr>\n",
       "    <tr>\n",
       "      <th>2</th>\n",
       "      <td>3</td>\n",
       "      <td>6</td>\n",
       "      <td>9</td>\n",
       "    </tr>\n",
       "  </tbody>\n",
       "</table>\n",
       "</div>"
      ],
      "text/plain": [
       "   A  B  C\n",
       "0  1  4  7\n",
       "1  2  5  8\n",
       "2  3  6  9"
      ]
     },
     "execution_count": 36,
     "metadata": {},
     "output_type": "execute_result"
    }
   ],
   "source": [
    "df6"
   ]
  },
  {
   "cell_type": "code",
   "execution_count": 38,
   "id": "16b43001-ef88-4f02-8393-556e67c61721",
   "metadata": {},
   "outputs": [],
   "source": [
    "e = extract_target_column(df6, 'A')"
   ]
  },
  {
   "cell_type": "code",
   "execution_count": 39,
   "id": "4f1e2513-ee61-478e-838f-40be7cc3bec6",
   "metadata": {},
   "outputs": [
    {
     "data": {
      "text/plain": [
       "array([1, 2, 3])"
      ]
     },
     "execution_count": 39,
     "metadata": {},
     "output_type": "execute_result"
    }
   ],
   "source": [
    "e"
   ]
  },
  {
   "cell_type": "code",
   "execution_count": 40,
   "id": "f89f2e5f-23e0-492e-a66b-346c2b86fb2d",
   "metadata": {},
   "outputs": [],
   "source": [
    "e = extract_target_column(df6, 'B')"
   ]
  },
  {
   "cell_type": "code",
   "execution_count": 41,
   "id": "db22cd18-9183-4d81-a8f9-3cc6672ea565",
   "metadata": {},
   "outputs": [
    {
     "data": {
      "text/plain": [
       "array([4, 5, 6])"
      ]
     },
     "execution_count": 41,
     "metadata": {},
     "output_type": "execute_result"
    }
   ],
   "source": [
    "e"
   ]
  },
  {
   "cell_type": "code",
   "execution_count": null,
   "id": "4ea561ea-5e0b-4dde-bfa8-c134dfbf2c00",
   "metadata": {},
   "outputs": [],
   "source": []
  }
 ],
 "metadata": {
  "kernelspec": {
   "display_name": "Python 3 (ipykernel)",
   "language": "python",
   "name": "python3"
  },
  "language_info": {
   "codemirror_mode": {
    "name": "ipython",
    "version": 3
   },
   "file_extension": ".py",
   "mimetype": "text/x-python",
   "name": "python",
   "nbconvert_exporter": "python",
   "pygments_lexer": "ipython3",
   "version": "3.9.13"
  }
 },
 "nbformat": 4,
 "nbformat_minor": 5
}
