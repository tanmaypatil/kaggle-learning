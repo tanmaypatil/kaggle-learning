{
 "cells": [
  {
   "cell_type": "code",
   "execution_count": 3,
   "id": "ffbe468d-d012-44af-b4f3-87640c73d4dc",
   "metadata": {},
   "outputs": [],
   "source": [
    "import numpy as np \n",
    "import pandas as pd"
   ]
  },
  {
   "cell_type": "code",
   "execution_count": null,
   "id": "d7ecaa5c-51e7-43e9-93fb-56aa6098eccb",
   "metadata": {},
   "outputs": [],
   "source": [
    "* Below method will take dataframe and  column name and replace NaN values with given list ."
   ]
  },
  {
   "cell_type": "code",
   "execution_count": 2,
   "id": "53f04e81-80d0-4282-91ce-a153aef217a4",
   "metadata": {},
   "outputs": [],
   "source": [
    "def replace_nan_with_random_list(df, column, replacement_list):\n",
    "    nan_indices = df.index[df[column].isna()].tolist()\n",
    "    num_nans = len(nan_indices)\n",
    "    random_values = np.random.choice(replacement_list, size=num_nans)\n",
    "    df.loc[nan_indices, column] = random_values"
   ]
  },
  {
   "cell_type": "markdown",
   "id": "2df3bcb8-d4c5-4cb1-9984-b9306291870f",
   "metadata": {},
   "source": [
    "* Below method will take dataframe and  column name and replace NaN values with non NAN values from that column.\n",
    "  It will select a random value from non NAN value"
   ]
  },
  {
   "cell_type": "code",
   "execution_count": 26,
   "id": "99f79725-fa45-43b8-9b0d-b59406e2a7d4",
   "metadata": {},
   "outputs": [],
   "source": [
    "def replace_nan_with_existing_val(df, column):\n",
    "    nan_indices = df.index[df[column].isna()].tolist()\n",
    "    num_nans = len(nan_indices)\n",
    "    # check where values are not Nan values , that will make a replacement_list\n",
    "    value_index = df.index[df.A.notna()].tolist()\n",
    "    replacement_list = df.loc[value_index,'A'].values.tolist()\n",
    "    random_values = np.random.choice(replacement_list, size=num_nans)\n",
    "    df.loc[nan_indices, column] = random_values"
   ]
  },
  {
   "cell_type": "code",
   "execution_count": 4,
   "id": "0ceb606c-4d96-4d19-a02c-d727917ef96e",
   "metadata": {},
   "outputs": [],
   "source": [
    "data = {'A': [1, 2, np.nan, 4, 5, np.nan, 7, 8, 9]}"
   ]
  },
  {
   "cell_type": "code",
   "execution_count": 5,
   "id": "a0d8465e-5bfa-4ca7-be42-e7b11b9f2fe6",
   "metadata": {},
   "outputs": [],
   "source": [
    "df = pd.DataFrame(data)"
   ]
  },
  {
   "cell_type": "code",
   "execution_count": 6,
   "id": "2af4ff62-32aa-46c5-a00f-ba5524d7b85a",
   "metadata": {},
   "outputs": [
    {
     "data": {
      "text/html": [
       "<div>\n",
       "<style scoped>\n",
       "    .dataframe tbody tr th:only-of-type {\n",
       "        vertical-align: middle;\n",
       "    }\n",
       "\n",
       "    .dataframe tbody tr th {\n",
       "        vertical-align: top;\n",
       "    }\n",
       "\n",
       "    .dataframe thead th {\n",
       "        text-align: right;\n",
       "    }\n",
       "</style>\n",
       "<table border=\"1\" class=\"dataframe\">\n",
       "  <thead>\n",
       "    <tr style=\"text-align: right;\">\n",
       "      <th></th>\n",
       "      <th>A</th>\n",
       "    </tr>\n",
       "  </thead>\n",
       "  <tbody>\n",
       "    <tr>\n",
       "      <th>0</th>\n",
       "      <td>1.0</td>\n",
       "    </tr>\n",
       "    <tr>\n",
       "      <th>1</th>\n",
       "      <td>2.0</td>\n",
       "    </tr>\n",
       "    <tr>\n",
       "      <th>2</th>\n",
       "      <td>NaN</td>\n",
       "    </tr>\n",
       "    <tr>\n",
       "      <th>3</th>\n",
       "      <td>4.0</td>\n",
       "    </tr>\n",
       "    <tr>\n",
       "      <th>4</th>\n",
       "      <td>5.0</td>\n",
       "    </tr>\n",
       "    <tr>\n",
       "      <th>5</th>\n",
       "      <td>NaN</td>\n",
       "    </tr>\n",
       "    <tr>\n",
       "      <th>6</th>\n",
       "      <td>7.0</td>\n",
       "    </tr>\n",
       "    <tr>\n",
       "      <th>7</th>\n",
       "      <td>8.0</td>\n",
       "    </tr>\n",
       "    <tr>\n",
       "      <th>8</th>\n",
       "      <td>9.0</td>\n",
       "    </tr>\n",
       "  </tbody>\n",
       "</table>\n",
       "</div>"
      ],
      "text/plain": [
       "     A\n",
       "0  1.0\n",
       "1  2.0\n",
       "2  NaN\n",
       "3  4.0\n",
       "4  5.0\n",
       "5  NaN\n",
       "6  7.0\n",
       "7  8.0\n",
       "8  9.0"
      ]
     },
     "execution_count": 6,
     "metadata": {},
     "output_type": "execute_result"
    }
   ],
   "source": [
    "df"
   ]
  },
  {
   "cell_type": "code",
   "execution_count": 11,
   "id": "358b81b5-08d3-40c2-977a-a7d3134a7567",
   "metadata": {},
   "outputs": [
    {
     "data": {
      "text/plain": [
       "2"
      ]
     },
     "execution_count": 11,
     "metadata": {},
     "output_type": "execute_result"
    }
   ],
   "source": [
    "# got the NaN index\n",
    "nan_index = df.index[df.A.isna()].tolist()\n",
    "len(nan_index)"
   ]
  },
  {
   "cell_type": "code",
   "execution_count": 12,
   "id": "eb611892-9472-4a3f-a55a-27b62337e47d",
   "metadata": {},
   "outputs": [
    {
     "data": {
      "text/plain": [
       "7"
      ]
     },
     "execution_count": 12,
     "metadata": {},
     "output_type": "execute_result"
    }
   ],
   "source": [
    "# got the non nan index\n",
    "value_index = df.index[df.A.notna()].tolist()\n",
    "len(value_index)"
   ]
  },
  {
   "cell_type": "code",
   "execution_count": 18,
   "id": "0677aae2-61d2-41ca-9954-c26b544a90ca",
   "metadata": {},
   "outputs": [],
   "source": [
    "replacement_list = df.loc[value_index,'A'].values.tolist()"
   ]
  },
  {
   "cell_type": "code",
   "execution_count": 19,
   "id": "5188c989-22c8-40cd-832a-919d21abdd30",
   "metadata": {},
   "outputs": [
    {
     "data": {
      "text/plain": [
       "[1.0, 2.0, 4.0, 5.0, 7.0, 8.0, 9.0]"
      ]
     },
     "execution_count": 19,
     "metadata": {},
     "output_type": "execute_result"
    }
   ],
   "source": [
    "replacement_list"
   ]
  },
  {
   "cell_type": "code",
   "execution_count": 20,
   "id": "6926fbd5-2805-47a2-9ea4-ec7bf7a6faf8",
   "metadata": {},
   "outputs": [],
   "source": [
    "replace_nan_with_random_list(df,'A',replacement_list=replacement_list)"
   ]
  },
  {
   "cell_type": "code",
   "execution_count": 21,
   "id": "ecaa0af2-2755-4a87-9dd0-451576fad809",
   "metadata": {},
   "outputs": [
    {
     "data": {
      "text/html": [
       "<div>\n",
       "<style scoped>\n",
       "    .dataframe tbody tr th:only-of-type {\n",
       "        vertical-align: middle;\n",
       "    }\n",
       "\n",
       "    .dataframe tbody tr th {\n",
       "        vertical-align: top;\n",
       "    }\n",
       "\n",
       "    .dataframe thead th {\n",
       "        text-align: right;\n",
       "    }\n",
       "</style>\n",
       "<table border=\"1\" class=\"dataframe\">\n",
       "  <thead>\n",
       "    <tr style=\"text-align: right;\">\n",
       "      <th></th>\n",
       "      <th>A</th>\n",
       "    </tr>\n",
       "  </thead>\n",
       "  <tbody>\n",
       "    <tr>\n",
       "      <th>0</th>\n",
       "      <td>1.0</td>\n",
       "    </tr>\n",
       "    <tr>\n",
       "      <th>1</th>\n",
       "      <td>2.0</td>\n",
       "    </tr>\n",
       "    <tr>\n",
       "      <th>2</th>\n",
       "      <td>8.0</td>\n",
       "    </tr>\n",
       "    <tr>\n",
       "      <th>3</th>\n",
       "      <td>4.0</td>\n",
       "    </tr>\n",
       "    <tr>\n",
       "      <th>4</th>\n",
       "      <td>5.0</td>\n",
       "    </tr>\n",
       "    <tr>\n",
       "      <th>5</th>\n",
       "      <td>7.0</td>\n",
       "    </tr>\n",
       "    <tr>\n",
       "      <th>6</th>\n",
       "      <td>7.0</td>\n",
       "    </tr>\n",
       "    <tr>\n",
       "      <th>7</th>\n",
       "      <td>8.0</td>\n",
       "    </tr>\n",
       "    <tr>\n",
       "      <th>8</th>\n",
       "      <td>9.0</td>\n",
       "    </tr>\n",
       "  </tbody>\n",
       "</table>\n",
       "</div>"
      ],
      "text/plain": [
       "     A\n",
       "0  1.0\n",
       "1  2.0\n",
       "2  8.0\n",
       "3  4.0\n",
       "4  5.0\n",
       "5  7.0\n",
       "6  7.0\n",
       "7  8.0\n",
       "8  9.0"
      ]
     },
     "execution_count": 21,
     "metadata": {},
     "output_type": "execute_result"
    }
   ],
   "source": [
    "df"
   ]
  },
  {
   "cell_type": "code",
   "execution_count": 24,
   "id": "2178df23-2ca3-440b-b56f-4ab9e2cd33e3",
   "metadata": {},
   "outputs": [
    {
     "data": {
      "text/html": [
       "<div>\n",
       "<style scoped>\n",
       "    .dataframe tbody tr th:only-of-type {\n",
       "        vertical-align: middle;\n",
       "    }\n",
       "\n",
       "    .dataframe tbody tr th {\n",
       "        vertical-align: top;\n",
       "    }\n",
       "\n",
       "    .dataframe thead th {\n",
       "        text-align: right;\n",
       "    }\n",
       "</style>\n",
       "<table border=\"1\" class=\"dataframe\">\n",
       "  <thead>\n",
       "    <tr style=\"text-align: right;\">\n",
       "      <th></th>\n",
       "      <th>A</th>\n",
       "    </tr>\n",
       "  </thead>\n",
       "  <tbody>\n",
       "    <tr>\n",
       "      <th>0</th>\n",
       "      <td>77.0</td>\n",
       "    </tr>\n",
       "    <tr>\n",
       "      <th>1</th>\n",
       "      <td>88.0</td>\n",
       "    </tr>\n",
       "    <tr>\n",
       "      <th>2</th>\n",
       "      <td>99.0</td>\n",
       "    </tr>\n",
       "    <tr>\n",
       "      <th>3</th>\n",
       "      <td>NaN</td>\n",
       "    </tr>\n",
       "    <tr>\n",
       "      <th>4</th>\n",
       "      <td>110.0</td>\n",
       "    </tr>\n",
       "    <tr>\n",
       "      <th>5</th>\n",
       "      <td>122.0</td>\n",
       "    </tr>\n",
       "    <tr>\n",
       "      <th>6</th>\n",
       "      <td>133.0</td>\n",
       "    </tr>\n",
       "    <tr>\n",
       "      <th>7</th>\n",
       "      <td>NaN</td>\n",
       "    </tr>\n",
       "  </tbody>\n",
       "</table>\n",
       "</div>"
      ],
      "text/plain": [
       "       A\n",
       "0   77.0\n",
       "1   88.0\n",
       "2   99.0\n",
       "3    NaN\n",
       "4  110.0\n",
       "5  122.0\n",
       "6  133.0\n",
       "7    NaN"
      ]
     },
     "execution_count": 24,
     "metadata": {},
     "output_type": "execute_result"
    }
   ],
   "source": [
    "data2 = { 'A' : [ 77 , 88 ,99 , np.nan, 110 , 122, 133, np.nan] }\n",
    "df2 = pd.DataFrame(data2)\n",
    "df2"
   ]
  },
  {
   "cell_type": "code",
   "execution_count": 27,
   "id": "60445e1a-b1c2-41f3-ad4b-98a48edc96c3",
   "metadata": {},
   "outputs": [
    {
     "name": "stdout",
     "output_type": "stream",
     "text": [
      "Variable                        Type         Data/Info\n",
      "------------------------------------------------------\n",
      "data                            dict         n=1\n",
      "data2                           dict         n=1\n",
      "df                              DataFrame         A\\n0  1.0\\n1  2.0\\n2<...>0\\n6  7.0\\n7  8.0\\n8  9.0\n",
      "df2                             DataFrame           A\\n0   77.0\\n1   8<...>122.0\\n6  133.0\\n7    NaN\n",
      "nan_index                       list         n=2\n",
      "np                              module       <module 'numpy' from 'C:\\<...>ges\\\\numpy\\\\__init__.py'>\n",
      "pd                              module       <module 'pandas' from 'C:<...>es\\\\pandas\\\\__init__.py'>\n",
      "replace_nan_with_existing_val   function     <function replace_nan_wit<...>al at 0x00000205CCC4FEE0>\n",
      "replace_nan_with_random_list    function     <function replace_nan_wit<...>st at 0x00000205B457BDC0>\n",
      "replacement_list                list         n=7\n",
      "value_index                     list         n=7\n"
     ]
    }
   ],
   "source": [
    "%whos"
   ]
  },
  {
   "cell_type": "code",
   "execution_count": 29,
   "id": "d5a1f153-9375-4c18-aac8-bd8363049841",
   "metadata": {},
   "outputs": [],
   "source": [
    "# replace NAN with existing values in the dataframe \n",
    "replace_nan_with_existing_val (df2,'A')"
   ]
  },
  {
   "cell_type": "code",
   "execution_count": 30,
   "id": "f445d68d-7ed5-4018-b1ff-19a1d3c2a185",
   "metadata": {},
   "outputs": [
    {
     "data": {
      "text/html": [
       "<div>\n",
       "<style scoped>\n",
       "    .dataframe tbody tr th:only-of-type {\n",
       "        vertical-align: middle;\n",
       "    }\n",
       "\n",
       "    .dataframe tbody tr th {\n",
       "        vertical-align: top;\n",
       "    }\n",
       "\n",
       "    .dataframe thead th {\n",
       "        text-align: right;\n",
       "    }\n",
       "</style>\n",
       "<table border=\"1\" class=\"dataframe\">\n",
       "  <thead>\n",
       "    <tr style=\"text-align: right;\">\n",
       "      <th></th>\n",
       "      <th>A</th>\n",
       "    </tr>\n",
       "  </thead>\n",
       "  <tbody>\n",
       "    <tr>\n",
       "      <th>0</th>\n",
       "      <td>77.0</td>\n",
       "    </tr>\n",
       "    <tr>\n",
       "      <th>1</th>\n",
       "      <td>88.0</td>\n",
       "    </tr>\n",
       "    <tr>\n",
       "      <th>2</th>\n",
       "      <td>99.0</td>\n",
       "    </tr>\n",
       "    <tr>\n",
       "      <th>3</th>\n",
       "      <td>88.0</td>\n",
       "    </tr>\n",
       "    <tr>\n",
       "      <th>4</th>\n",
       "      <td>110.0</td>\n",
       "    </tr>\n",
       "    <tr>\n",
       "      <th>5</th>\n",
       "      <td>122.0</td>\n",
       "    </tr>\n",
       "    <tr>\n",
       "      <th>6</th>\n",
       "      <td>133.0</td>\n",
       "    </tr>\n",
       "    <tr>\n",
       "      <th>7</th>\n",
       "      <td>133.0</td>\n",
       "    </tr>\n",
       "  </tbody>\n",
       "</table>\n",
       "</div>"
      ],
      "text/plain": [
       "       A\n",
       "0   77.0\n",
       "1   88.0\n",
       "2   99.0\n",
       "3   88.0\n",
       "4  110.0\n",
       "5  122.0\n",
       "6  133.0\n",
       "7  133.0"
      ]
     },
     "execution_count": 30,
     "metadata": {},
     "output_type": "execute_result"
    }
   ],
   "source": [
    "df2"
   ]
  },
  {
   "cell_type": "code",
   "execution_count": null,
   "id": "518ec8ca-968f-4a93-b9f1-f8c8199e4d12",
   "metadata": {},
   "outputs": [],
   "source": []
  }
 ],
 "metadata": {
  "kernelspec": {
   "display_name": "Python 3 (ipykernel)",
   "language": "python",
   "name": "python3"
  },
  "language_info": {
   "codemirror_mode": {
    "name": "ipython",
    "version": 3
   },
   "file_extension": ".py",
   "mimetype": "text/x-python",
   "name": "python",
   "nbconvert_exporter": "python",
   "pygments_lexer": "ipython3",
   "version": "3.9.13"
  }
 },
 "nbformat": 4,
 "nbformat_minor": 5
}
