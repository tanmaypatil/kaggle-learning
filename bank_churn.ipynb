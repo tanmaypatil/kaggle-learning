{
 "cells": [
  {
   "cell_type": "code",
   "execution_count": 17,
   "id": "c7f38b40-cd85-4913-a5ee-72e7f31f24cc",
   "metadata": {},
   "outputs": [
    {
     "name": "stdout",
     "output_type": "stream",
     "text": [
      "Collecting xgboost\n",
      "  Obtaining dependency information for xgboost from https://files.pythonhosted.org/packages/24/ec/ad387100fa3cc2b9b81af0829b5ecfe75ec5bb19dd7c19d4fea06fb81802/xgboost-2.0.3-py3-none-win_amd64.whl.metadata\n",
      "  Downloading xgboost-2.0.3-py3-none-win_amd64.whl.metadata (2.0 kB)\n",
      "Requirement already satisfied: numpy in c:\\users\\u725561\\anaconda3\\lib\\site-packages (from xgboost) (1.26.3)\n",
      "Requirement already satisfied: scipy in c:\\users\\u725561\\anaconda3\\lib\\site-packages (from xgboost) (1.11.4)\n",
      "Downloading xgboost-2.0.3-py3-none-win_amd64.whl (99.8 MB)\n",
      "   ---------------------------------------- 0.0/99.8 MB ? eta -:--:--\n",
      "   ---------------------------------------- 0.0/99.8 MB ? eta -:--:--\n",
      "   ---------------------------------------- 0.0/99.8 MB ? eta -:--:--\n",
      "   ---------------------------------------- 0.1/99.8 MB 1.1 MB/s eta 0:01:32\n",
      "   ---------------------------------------- 0.1/99.8 MB 1.2 MB/s eta 0:01:22\n",
      "   ---------------------------------------- 0.2/99.8 MB 1.1 MB/s eta 0:01:33\n",
      "   ---------------------------------------- 0.3/99.8 MB 1.5 MB/s eta 0:01:07\n",
      "   ---------------------------------------- 0.4/99.8 MB 1.8 MB/s eta 0:00:56\n",
      "   ---------------------------------------- 0.6/99.8 MB 2.3 MB/s eta 0:00:44\n",
      "   ---------------------------------------- 1.0/99.8 MB 3.1 MB/s eta 0:00:33\n",
      "   ---------------------------------------- 1.2/99.8 MB 3.3 MB/s eta 0:00:31\n",
      "    --------------------------------------- 1.9/99.8 MB 4.6 MB/s eta 0:00:22\n",
      "    --------------------------------------- 2.4/99.8 MB 5.6 MB/s eta 0:00:18\n",
      "   - -------------------------------------- 2.9/99.8 MB 6.0 MB/s eta 0:00:17\n",
      "   - -------------------------------------- 3.5/99.8 MB 6.6 MB/s eta 0:00:15\n",
      "   - -------------------------------------- 4.1/99.8 MB 7.3 MB/s eta 0:00:14\n",
      "   - -------------------------------------- 4.6/99.8 MB 7.8 MB/s eta 0:00:13\n",
      "   -- ------------------------------------- 5.3/99.8 MB 8.3 MB/s eta 0:00:12\n",
      "   -- ------------------------------------- 5.9/99.8 MB 8.5 MB/s eta 0:00:12\n",
      "   -- ------------------------------------- 6.5/99.8 MB 9.0 MB/s eta 0:00:11\n",
      "   -- ------------------------------------- 7.0/99.8 MB 9.1 MB/s eta 0:00:11\n",
      "   --- ------------------------------------ 7.6/99.8 MB 9.5 MB/s eta 0:00:10\n",
      "   --- ------------------------------------ 8.0/99.8 MB 9.5 MB/s eta 0:00:10\n",
      "   --- ------------------------------------ 8.7/99.8 MB 9.8 MB/s eta 0:00:10\n",
      "   --- ------------------------------------ 9.4/99.8 MB 10.0 MB/s eta 0:00:10\n",
      "   ---- ----------------------------------- 10.0/99.8 MB 10.2 MB/s eta 0:00:09\n",
      "   ---- ----------------------------------- 10.4/99.8 MB 11.3 MB/s eta 0:00:08\n",
      "   ---- ----------------------------------- 11.0/99.8 MB 13.6 MB/s eta 0:00:07\n",
      "   ---- ----------------------------------- 11.6/99.8 MB 14.2 MB/s eta 0:00:07\n",
      "   ---- ----------------------------------- 12.0/99.8 MB 13.6 MB/s eta 0:00:07\n",
      "   ----- ---------------------------------- 12.7/99.8 MB 13.6 MB/s eta 0:00:07\n",
      "   ----- ---------------------------------- 13.3/99.8 MB 13.9 MB/s eta 0:00:07\n",
      "   ----- ---------------------------------- 13.8/99.8 MB 13.9 MB/s eta 0:00:07\n",
      "   ----- ---------------------------------- 14.3/99.8 MB 13.9 MB/s eta 0:00:07\n",
      "   ----- ---------------------------------- 14.9/99.8 MB 13.9 MB/s eta 0:00:07\n",
      "   ------ --------------------------------- 15.7/99.8 MB 13.6 MB/s eta 0:00:07\n",
      "   ------ --------------------------------- 16.4/99.8 MB 14.2 MB/s eta 0:00:06\n",
      "   ------ --------------------------------- 17.0/99.8 MB 13.9 MB/s eta 0:00:06\n",
      "   ------- -------------------------------- 17.5/99.8 MB 13.9 MB/s eta 0:00:06\n",
      "   ------- -------------------------------- 18.0/99.8 MB 13.9 MB/s eta 0:00:06\n",
      "   ------- -------------------------------- 18.4/99.8 MB 13.6 MB/s eta 0:00:06\n",
      "   ------- -------------------------------- 19.3/99.8 MB 13.6 MB/s eta 0:00:06\n",
      "   -------- ------------------------------- 20.1/99.8 MB 13.6 MB/s eta 0:00:06\n",
      "   -------- ------------------------------- 20.8/99.8 MB 13.4 MB/s eta 0:00:06\n",
      "   -------- ------------------------------- 21.4/99.8 MB 14.2 MB/s eta 0:00:06\n",
      "   -------- ------------------------------- 21.8/99.8 MB 13.4 MB/s eta 0:00:06\n",
      "   -------- ------------------------------- 22.2/99.8 MB 13.4 MB/s eta 0:00:06\n",
      "   --------- ------------------------------ 23.0/99.8 MB 13.4 MB/s eta 0:00:06\n",
      "   --------- ------------------------------ 23.7/99.8 MB 13.1 MB/s eta 0:00:06\n",
      "   --------- ------------------------------ 24.1/99.8 MB 12.9 MB/s eta 0:00:06\n",
      "   --------- ------------------------------ 24.4/99.8 MB 12.8 MB/s eta 0:00:06\n",
      "   ---------- ----------------------------- 24.9/99.8 MB 12.1 MB/s eta 0:00:07\n",
      "   ---------- ----------------------------- 25.3/99.8 MB 11.9 MB/s eta 0:00:07\n",
      "   ---------- ----------------------------- 25.7/99.8 MB 11.9 MB/s eta 0:00:07\n",
      "   ---------- ----------------------------- 25.7/99.8 MB 11.9 MB/s eta 0:00:07\n",
      "   ---------- ----------------------------- 25.7/99.8 MB 11.9 MB/s eta 0:00:07\n",
      "   ---------- ----------------------------- 25.7/99.8 MB 11.9 MB/s eta 0:00:07\n",
      "   ---------- ----------------------------- 26.0/99.8 MB 10.2 MB/s eta 0:00:08\n",
      "   ---------- ----------------------------- 26.5/99.8 MB 10.1 MB/s eta 0:00:08\n",
      "   ---------- ----------------------------- 26.8/99.8 MB 9.9 MB/s eta 0:00:08\n",
      "   ---------- ----------------------------- 27.1/99.8 MB 9.6 MB/s eta 0:00:08\n",
      "   ----------- ---------------------------- 27.5/99.8 MB 9.8 MB/s eta 0:00:08\n",
      "   ----------- ---------------------------- 28.0/99.8 MB 9.4 MB/s eta 0:00:08\n",
      "   ----------- ---------------------------- 28.3/99.8 MB 9.2 MB/s eta 0:00:08\n",
      "   ----------- ---------------------------- 28.9/99.8 MB 9.4 MB/s eta 0:00:08\n",
      "   ----------- ---------------------------- 29.6/99.8 MB 9.4 MB/s eta 0:00:08\n",
      "   ----------- ---------------------------- 29.6/99.8 MB 9.2 MB/s eta 0:00:08\n",
      "   ------------ --------------------------- 30.4/99.8 MB 9.0 MB/s eta 0:00:08\n",
      "   ------------ --------------------------- 30.8/99.8 MB 8.7 MB/s eta 0:00:08\n",
      "   ------------ --------------------------- 31.4/99.8 MB 8.6 MB/s eta 0:00:08\n",
      "   ------------ --------------------------- 31.9/99.8 MB 9.0 MB/s eta 0:00:08\n",
      "   ------------- -------------------------- 32.7/99.8 MB 9.0 MB/s eta 0:00:08\n",
      "   ------------- -------------------------- 33.5/99.8 MB 9.0 MB/s eta 0:00:08\n",
      "   ------------- -------------------------- 34.0/99.8 MB 9.1 MB/s eta 0:00:08\n",
      "   ------------- -------------------------- 34.9/99.8 MB 9.4 MB/s eta 0:00:07\n",
      "   -------------- ------------------------- 35.5/99.8 MB 9.5 MB/s eta 0:00:07\n",
      "   -------------- ------------------------- 36.0/99.8 MB 11.1 MB/s eta 0:00:06\n",
      "   -------------- ------------------------- 36.8/99.8 MB 11.1 MB/s eta 0:00:06\n",
      "   --------------- ------------------------ 37.4/99.8 MB 11.5 MB/s eta 0:00:06\n",
      "   --------------- ------------------------ 38.1/99.8 MB 11.9 MB/s eta 0:00:06\n",
      "   --------------- ------------------------ 38.7/99.8 MB 12.4 MB/s eta 0:00:05\n",
      "   --------------- ------------------------ 39.1/99.8 MB 12.1 MB/s eta 0:00:05\n",
      "   ---------------- ----------------------- 39.9/99.8 MB 13.1 MB/s eta 0:00:05\n",
      "   ---------------- ----------------------- 40.7/99.8 MB 13.4 MB/s eta 0:00:05\n",
      "   ---------------- ----------------------- 41.4/99.8 MB 13.6 MB/s eta 0:00:05\n",
      "   ---------------- ----------------------- 42.2/99.8 MB 13.9 MB/s eta 0:00:05\n",
      "   ----------------- ---------------------- 42.8/99.8 MB 13.6 MB/s eta 0:00:05\n",
      "   ----------------- ---------------------- 43.2/99.8 MB 13.6 MB/s eta 0:00:05\n",
      "   ----------------- ---------------------- 43.4/99.8 MB 12.8 MB/s eta 0:00:05\n",
      "   ----------------- ---------------------- 43.9/99.8 MB 13.4 MB/s eta 0:00:05\n",
      "   ----------------- ---------------------- 44.6/99.8 MB 12.8 MB/s eta 0:00:05\n",
      "   ----------------- ---------------------- 44.7/99.8 MB 12.8 MB/s eta 0:00:05\n",
      "   ------------------ --------------------- 45.2/99.8 MB 12.4 MB/s eta 0:00:05\n",
      "   ------------------ --------------------- 45.8/99.8 MB 12.1 MB/s eta 0:00:05\n",
      "   ------------------ --------------------- 46.6/99.8 MB 12.1 MB/s eta 0:00:05\n",
      "   ------------------ --------------------- 46.8/99.8 MB 12.1 MB/s eta 0:00:05\n",
      "   ------------------ --------------------- 46.8/99.8 MB 12.1 MB/s eta 0:00:05\n",
      "   ------------------- -------------------- 47.6/99.8 MB 11.5 MB/s eta 0:00:05\n",
      "   ------------------- -------------------- 47.7/99.8 MB 10.9 MB/s eta 0:00:05\n",
      "   ------------------- -------------------- 48.5/99.8 MB 10.9 MB/s eta 0:00:05\n",
      "   ------------------- -------------------- 49.2/99.8 MB 10.9 MB/s eta 0:00:05\n",
      "   ------------------- -------------------- 49.6/99.8 MB 10.9 MB/s eta 0:00:05\n",
      "   ------------------- -------------------- 49.9/99.8 MB 10.9 MB/s eta 0:00:05\n",
      "   -------------------- ------------------- 49.9/99.8 MB 10.1 MB/s eta 0:00:05\n",
      "   -------------------- ------------------- 50.6/99.8 MB 10.1 MB/s eta 0:00:05\n",
      "   -------------------- ------------------- 51.2/99.8 MB 10.1 MB/s eta 0:00:05\n",
      "   -------------------- ------------------- 51.4/99.8 MB 10.1 MB/s eta 0:00:05\n",
      "   -------------------- ------------------- 52.2/99.8 MB 9.8 MB/s eta 0:00:05\n",
      "   --------------------- ------------------ 52.6/99.8 MB 9.5 MB/s eta 0:00:05\n",
      "   --------------------- ------------------ 53.1/99.8 MB 9.6 MB/s eta 0:00:05\n",
      "   --------------------- ------------------ 53.9/99.8 MB 10.1 MB/s eta 0:00:05\n",
      "   --------------------- ------------------ 54.3/99.8 MB 10.2 MB/s eta 0:00:05\n",
      "   --------------------- ------------------ 54.7/99.8 MB 9.6 MB/s eta 0:00:05\n",
      "   ---------------------- ----------------- 55.2/99.8 MB 9.6 MB/s eta 0:00:05\n",
      "   ---------------------- ----------------- 56.0/99.8 MB 10.1 MB/s eta 0:00:05\n",
      "   ---------------------- ----------------- 56.2/99.8 MB 9.6 MB/s eta 0:00:05\n",
      "   ---------------------- ----------------- 56.9/99.8 MB 9.5 MB/s eta 0:00:05\n",
      "   ---------------------- ----------------- 57.0/99.8 MB 9.5 MB/s eta 0:00:05\n",
      "   ----------------------- ---------------- 57.4/99.8 MB 9.6 MB/s eta 0:00:05\n",
      "   ----------------------- ---------------- 57.8/99.8 MB 9.8 MB/s eta 0:00:05\n",
      "   ----------------------- ---------------- 58.0/99.8 MB 9.4 MB/s eta 0:00:05\n",
      "   ----------------------- ---------------- 58.7/99.8 MB 9.4 MB/s eta 0:00:05\n",
      "   ----------------------- ---------------- 59.1/99.8 MB 9.1 MB/s eta 0:00:05\n",
      "   ----------------------- ---------------- 59.5/99.8 MB 9.4 MB/s eta 0:00:05\n",
      "   ------------------------ --------------- 60.0/99.8 MB 9.1 MB/s eta 0:00:05\n",
      "   ------------------------ --------------- 60.5/99.8 MB 9.4 MB/s eta 0:00:05\n",
      "   ------------------------ --------------- 61.0/99.8 MB 9.6 MB/s eta 0:00:05\n",
      "   ------------------------ --------------- 61.8/99.8 MB 9.8 MB/s eta 0:00:04\n",
      "   ------------------------ --------------- 62.2/99.8 MB 9.6 MB/s eta 0:00:04\n",
      "   ------------------------- -------------- 62.6/99.8 MB 9.5 MB/s eta 0:00:04\n",
      "   ------------------------- -------------- 63.2/99.8 MB 9.6 MB/s eta 0:00:04\n",
      "   ------------------------- -------------- 63.6/99.8 MB 9.6 MB/s eta 0:00:04\n",
      "   ------------------------- -------------- 64.2/99.8 MB 9.5 MB/s eta 0:00:04\n",
      "   ------------------------- -------------- 64.2/99.8 MB 9.5 MB/s eta 0:00:04\n",
      "   ------------------------- -------------- 64.5/99.8 MB 8.8 MB/s eta 0:00:04\n",
      "   -------------------------- ------------- 65.2/99.8 MB 9.1 MB/s eta 0:00:04\n",
      "   -------------------------- ------------- 65.9/99.8 MB 9.4 MB/s eta 0:00:04\n",
      "   -------------------------- ------------- 66.1/99.8 MB 9.0 MB/s eta 0:00:04\n",
      "   -------------------------- ------------- 66.7/99.8 MB 9.4 MB/s eta 0:00:04\n",
      "   -------------------------- ------------- 67.0/99.8 MB 9.1 MB/s eta 0:00:04\n",
      "   --------------------------- ------------ 67.5/99.8 MB 9.4 MB/s eta 0:00:04\n",
      "   --------------------------- ------------ 68.2/99.8 MB 9.8 MB/s eta 0:00:04\n",
      "   --------------------------- ------------ 68.7/99.8 MB 9.8 MB/s eta 0:00:04\n",
      "   --------------------------- ------------ 69.0/99.8 MB 9.5 MB/s eta 0:00:04\n",
      "   --------------------------- ------------ 69.5/99.8 MB 9.5 MB/s eta 0:00:04\n",
      "   ---------------------------- ----------- 70.2/99.8 MB 9.5 MB/s eta 0:00:04\n",
      "   ---------------------------- ----------- 70.7/99.8 MB 9.8 MB/s eta 0:00:03\n",
      "   ---------------------------- ----------- 71.3/99.8 MB 9.8 MB/s eta 0:00:03\n",
      "   ---------------------------- ----------- 71.8/99.8 MB 9.4 MB/s eta 0:00:03\n",
      "   ----------------------------- ---------- 72.4/99.8 MB 9.4 MB/s eta 0:00:03\n",
      "   ----------------------------- ---------- 73.1/99.8 MB 9.5 MB/s eta 0:00:03\n",
      "   ----------------------------- ---------- 73.8/99.8 MB 9.8 MB/s eta 0:00:03\n",
      "   ----------------------------- ---------- 74.5/99.8 MB 10.6 MB/s eta 0:00:03\n",
      "   ------------------------------ --------- 75.2/99.8 MB 10.2 MB/s eta 0:00:03\n",
      "   ------------------------------ --------- 76.0/99.8 MB 10.6 MB/s eta 0:00:03\n",
      "   ------------------------------ --------- 76.7/99.8 MB 10.9 MB/s eta 0:00:03\n",
      "   ------------------------------- -------- 77.4/99.8 MB 11.5 MB/s eta 0:00:02\n",
      "   ------------------------------- -------- 78.3/99.8 MB 11.5 MB/s eta 0:00:02\n",
      "   ------------------------------- -------- 79.1/99.8 MB 11.9 MB/s eta 0:00:02\n",
      "   ------------------------------- -------- 79.6/99.8 MB 11.7 MB/s eta 0:00:02\n",
      "   -------------------------------- ------- 80.4/99.8 MB 11.7 MB/s eta 0:00:02\n",
      "   -------------------------------- ------- 81.0/99.8 MB 11.7 MB/s eta 0:00:02\n",
      "   -------------------------------- ------- 81.5/99.8 MB 11.5 MB/s eta 0:00:02\n",
      "   -------------------------------- ------- 82.0/99.8 MB 11.9 MB/s eta 0:00:02\n",
      "   --------------------------------- ------ 82.6/99.8 MB 11.7 MB/s eta 0:00:02\n",
      "   --------------------------------- ------ 83.3/99.8 MB 11.5 MB/s eta 0:00:02\n",
      "   --------------------------------- ------ 83.5/99.8 MB 11.5 MB/s eta 0:00:02\n",
      "   --------------------------------- ------ 83.8/99.8 MB 10.9 MB/s eta 0:00:02\n",
      "   --------------------------------- ------ 84.0/99.8 MB 10.2 MB/s eta 0:00:02\n",
      "   --------------------------------- ------ 84.6/99.8 MB 10.4 MB/s eta 0:00:02\n",
      "   ---------------------------------- ----- 84.8/99.8 MB 10.2 MB/s eta 0:00:02\n",
      "   ---------------------------------- ----- 85.1/99.8 MB 9.8 MB/s eta 0:00:02\n",
      "   ---------------------------------- ----- 85.6/99.8 MB 9.8 MB/s eta 0:00:02\n",
      "   ---------------------------------- ----- 86.4/99.8 MB 9.6 MB/s eta 0:00:02\n",
      "   ---------------------------------- ----- 87.2/99.8 MB 9.6 MB/s eta 0:00:02\n",
      "   ----------------------------------- ---- 87.8/99.8 MB 9.8 MB/s eta 0:00:02\n",
      "   ----------------------------------- ---- 88.2/99.8 MB 9.8 MB/s eta 0:00:02\n",
      "   ----------------------------------- ---- 88.4/99.8 MB 9.2 MB/s eta 0:00:02\n",
      "   ----------------------------------- ---- 89.0/99.8 MB 9.4 MB/s eta 0:00:02\n",
      "   ----------------------------------- ---- 89.0/99.8 MB 9.4 MB/s eta 0:00:02\n",
      "   ----------------------------------- ---- 89.6/99.8 MB 9.0 MB/s eta 0:00:02\n",
      "   ------------------------------------ --- 90.0/99.8 MB 9.0 MB/s eta 0:00:02\n",
      "   ------------------------------------ --- 90.6/99.8 MB 9.0 MB/s eta 0:00:02\n",
      "   ------------------------------------ --- 90.6/99.8 MB 9.0 MB/s eta 0:00:02\n",
      "   ------------------------------------ --- 91.2/99.8 MB 8.6 MB/s eta 0:00:01\n",
      "   ------------------------------------ --- 91.8/99.8 MB 8.7 MB/s eta 0:00:01\n",
      "   ------------------------------------- -- 92.4/99.8 MB 8.8 MB/s eta 0:00:01\n",
      "   ------------------------------------- -- 92.6/99.8 MB 8.8 MB/s eta 0:00:01\n",
      "   ------------------------------------- -- 92.8/99.8 MB 8.3 MB/s eta 0:00:01\n",
      "   ------------------------------------- -- 93.4/99.8 MB 8.5 MB/s eta 0:00:01\n",
      "   ------------------------------------- -- 93.9/99.8 MB 8.5 MB/s eta 0:00:01\n",
      "   ------------------------------------- -- 94.3/99.8 MB 8.8 MB/s eta 0:00:01\n",
      "   -------------------------------------- - 94.9/99.8 MB 9.1 MB/s eta 0:00:01\n",
      "   -------------------------------------- - 95.4/99.8 MB 9.5 MB/s eta 0:00:01\n",
      "   -------------------------------------- - 95.7/99.8 MB 9.1 MB/s eta 0:00:01\n",
      "   -------------------------------------- - 96.2/99.8 MB 9.1 MB/s eta 0:00:01\n",
      "   -------------------------------------- - 96.4/99.8 MB 8.7 MB/s eta 0:00:01\n",
      "   -------------------------------------- - 97.0/99.8 MB 8.7 MB/s eta 0:00:01\n",
      "   -------------------------------------- - 97.0/99.8 MB 8.7 MB/s eta 0:00:01\n",
      "   -------------------------------------- - 97.1/99.8 MB 8.3 MB/s eta 0:00:01\n",
      "   ---------------------------------------  97.6/99.8 MB 8.0 MB/s eta 0:00:01\n",
      "   ---------------------------------------  98.2/99.8 MB 8.0 MB/s eta 0:00:01\n",
      "   ---------------------------------------  98.8/99.8 MB 8.3 MB/s eta 0:00:01\n",
      "   ---------------------------------------  99.3/99.8 MB 8.6 MB/s eta 0:00:01\n",
      "   ---------------------------------------  99.6/99.8 MB 8.4 MB/s eta 0:00:01\n",
      "   ---------------------------------------  99.7/99.8 MB 8.3 MB/s eta 0:00:01\n",
      "   ---------------------------------------  99.7/99.8 MB 8.3 MB/s eta 0:00:01\n",
      "   ---------------------------------------  99.7/99.8 MB 8.3 MB/s eta 0:00:01\n",
      "   ---------------------------------------  99.7/99.8 MB 8.3 MB/s eta 0:00:01\n",
      "   ---------------------------------------  99.7/99.8 MB 8.3 MB/s eta 0:00:01\n",
      "   ---------------------------------------  99.7/99.8 MB 8.3 MB/s eta 0:00:01\n",
      "   ---------------------------------------  99.7/99.8 MB 8.3 MB/s eta 0:00:01\n",
      "   ---------------------------------------  99.7/99.8 MB 8.3 MB/s eta 0:00:01\n",
      "   ---------------------------------------  99.7/99.8 MB 8.3 MB/s eta 0:00:01\n",
      "   ---------------------------------------  99.7/99.8 MB 8.3 MB/s eta 0:00:01\n",
      "   ---------------------------------------  99.7/99.8 MB 8.3 MB/s eta 0:00:01\n",
      "   ---------------------------------------  99.7/99.8 MB 8.3 MB/s eta 0:00:01\n",
      "   ---------------------------------------- 99.8/99.8 MB 4.9 MB/s eta 0:00:00\n",
      "Installing collected packages: xgboost\n",
      "Successfully installed xgboost-2.0.3\n"
     ]
    }
   ],
   "source": [
    "!pip install xgboost"
   ]
  },
  {
   "cell_type": "code",
   "execution_count": 18,
   "id": "6c988b54-8b42-4007-8ea7-1ec17dffe65b",
   "metadata": {},
   "outputs": [],
   "source": [
    "import common_functions as cfs"
   ]
  },
  {
   "cell_type": "code",
   "execution_count": 19,
   "id": "54059bbe-12fd-47e0-99fa-564c08d09e7c",
   "metadata": {},
   "outputs": [],
   "source": [
    "import pandas as pd"
   ]
  },
  {
   "cell_type": "code",
   "execution_count": 37,
   "id": "c139d0b5-23ec-4d58-868f-e194ac928042",
   "metadata": {},
   "outputs": [],
   "source": [
    "from sklearn.model_selection import train_test_split\n",
    "from sklearn.metrics import confusion_matrix\n",
    "from sklearn.metrics import recall_score \n",
    "from sklearn.metrics import classification_report\n",
    "from sklearn.metrics import roc_curve, auc"
   ]
  },
  {
   "cell_type": "code",
   "execution_count": 21,
   "id": "2dbe40c3-e6e0-4eeb-b3ff-ad11d703fe1a",
   "metadata": {},
   "outputs": [],
   "source": [
    "import matplotlib.pyplot as plt"
   ]
  },
  {
   "cell_type": "code",
   "execution_count": 22,
   "id": "d9ff5a64-9c2c-472c-91ea-3ca4a8c42054",
   "metadata": {},
   "outputs": [],
   "source": [
    "from xgboost import XGBClassifier"
   ]
  },
  {
   "cell_type": "code",
   "execution_count": 23,
   "id": "86b77081",
   "metadata": {
    "slideshow": {
     "slide_type": "slide"
    }
   },
   "outputs": [],
   "source": [
    "df = pd.read_csv(\"bank_churn_train.csv\")"
   ]
  },
  {
   "cell_type": "code",
   "execution_count": 24,
   "id": "05fe2806",
   "metadata": {},
   "outputs": [
    {
     "data": {
      "text/html": [
       "<div>\n",
       "<style scoped>\n",
       "    .dataframe tbody tr th:only-of-type {\n",
       "        vertical-align: middle;\n",
       "    }\n",
       "\n",
       "    .dataframe tbody tr th {\n",
       "        vertical-align: top;\n",
       "    }\n",
       "\n",
       "    .dataframe thead th {\n",
       "        text-align: right;\n",
       "    }\n",
       "</style>\n",
       "<table border=\"1\" class=\"dataframe\">\n",
       "  <thead>\n",
       "    <tr style=\"text-align: right;\">\n",
       "      <th></th>\n",
       "      <th>id</th>\n",
       "      <th>CustomerId</th>\n",
       "      <th>Surname</th>\n",
       "      <th>CreditScore</th>\n",
       "      <th>Geography</th>\n",
       "      <th>Gender</th>\n",
       "      <th>Age</th>\n",
       "      <th>Tenure</th>\n",
       "      <th>Balance</th>\n",
       "      <th>NumOfProducts</th>\n",
       "      <th>HasCrCard</th>\n",
       "      <th>IsActiveMember</th>\n",
       "      <th>EstimatedSalary</th>\n",
       "      <th>Exited</th>\n",
       "    </tr>\n",
       "  </thead>\n",
       "  <tbody>\n",
       "    <tr>\n",
       "      <th>0</th>\n",
       "      <td>0</td>\n",
       "      <td>15674932</td>\n",
       "      <td>Okwudilichukwu</td>\n",
       "      <td>668</td>\n",
       "      <td>France</td>\n",
       "      <td>Male</td>\n",
       "      <td>33.0</td>\n",
       "      <td>3</td>\n",
       "      <td>0.00</td>\n",
       "      <td>2</td>\n",
       "      <td>1.0</td>\n",
       "      <td>0.0</td>\n",
       "      <td>181449.97</td>\n",
       "      <td>0</td>\n",
       "    </tr>\n",
       "    <tr>\n",
       "      <th>1</th>\n",
       "      <td>1</td>\n",
       "      <td>15749177</td>\n",
       "      <td>Okwudiliolisa</td>\n",
       "      <td>627</td>\n",
       "      <td>France</td>\n",
       "      <td>Male</td>\n",
       "      <td>33.0</td>\n",
       "      <td>1</td>\n",
       "      <td>0.00</td>\n",
       "      <td>2</td>\n",
       "      <td>1.0</td>\n",
       "      <td>1.0</td>\n",
       "      <td>49503.50</td>\n",
       "      <td>0</td>\n",
       "    </tr>\n",
       "    <tr>\n",
       "      <th>2</th>\n",
       "      <td>2</td>\n",
       "      <td>15694510</td>\n",
       "      <td>Hsueh</td>\n",
       "      <td>678</td>\n",
       "      <td>France</td>\n",
       "      <td>Male</td>\n",
       "      <td>40.0</td>\n",
       "      <td>10</td>\n",
       "      <td>0.00</td>\n",
       "      <td>2</td>\n",
       "      <td>1.0</td>\n",
       "      <td>0.0</td>\n",
       "      <td>184866.69</td>\n",
       "      <td>0</td>\n",
       "    </tr>\n",
       "    <tr>\n",
       "      <th>3</th>\n",
       "      <td>3</td>\n",
       "      <td>15741417</td>\n",
       "      <td>Kao</td>\n",
       "      <td>581</td>\n",
       "      <td>France</td>\n",
       "      <td>Male</td>\n",
       "      <td>34.0</td>\n",
       "      <td>2</td>\n",
       "      <td>148882.54</td>\n",
       "      <td>1</td>\n",
       "      <td>1.0</td>\n",
       "      <td>1.0</td>\n",
       "      <td>84560.88</td>\n",
       "      <td>0</td>\n",
       "    </tr>\n",
       "    <tr>\n",
       "      <th>4</th>\n",
       "      <td>4</td>\n",
       "      <td>15766172</td>\n",
       "      <td>Chiemenam</td>\n",
       "      <td>716</td>\n",
       "      <td>Spain</td>\n",
       "      <td>Male</td>\n",
       "      <td>33.0</td>\n",
       "      <td>5</td>\n",
       "      <td>0.00</td>\n",
       "      <td>2</td>\n",
       "      <td>1.0</td>\n",
       "      <td>1.0</td>\n",
       "      <td>15068.83</td>\n",
       "      <td>0</td>\n",
       "    </tr>\n",
       "  </tbody>\n",
       "</table>\n",
       "</div>"
      ],
      "text/plain": [
       "   id  CustomerId         Surname  CreditScore Geography Gender   Age  Tenure  \\\n",
       "0   0    15674932  Okwudilichukwu          668    France   Male  33.0       3   \n",
       "1   1    15749177   Okwudiliolisa          627    France   Male  33.0       1   \n",
       "2   2    15694510           Hsueh          678    France   Male  40.0      10   \n",
       "3   3    15741417             Kao          581    France   Male  34.0       2   \n",
       "4   4    15766172       Chiemenam          716     Spain   Male  33.0       5   \n",
       "\n",
       "     Balance  NumOfProducts  HasCrCard  IsActiveMember  EstimatedSalary  \\\n",
       "0       0.00              2        1.0             0.0        181449.97   \n",
       "1       0.00              2        1.0             1.0         49503.50   \n",
       "2       0.00              2        1.0             0.0        184866.69   \n",
       "3  148882.54              1        1.0             1.0         84560.88   \n",
       "4       0.00              2        1.0             1.0         15068.83   \n",
       "\n",
       "   Exited  \n",
       "0       0  \n",
       "1       0  \n",
       "2       0  \n",
       "3       0  \n",
       "4       0  "
      ]
     },
     "execution_count": 24,
     "metadata": {},
     "output_type": "execute_result"
    }
   ],
   "source": [
    "df.head()"
   ]
  },
  {
   "cell_type": "code",
   "execution_count": 25,
   "id": "a2aeecf8",
   "metadata": {},
   "outputs": [
    {
     "name": "stdout",
     "output_type": "stream",
     "text": [
      "<class 'pandas.core.frame.DataFrame'>\n",
      "RangeIndex: 165034 entries, 0 to 165033\n",
      "Data columns (total 14 columns):\n",
      " #   Column           Non-Null Count   Dtype  \n",
      "---  ------           --------------   -----  \n",
      " 0   id               165034 non-null  int64  \n",
      " 1   CustomerId       165034 non-null  int64  \n",
      " 2   Surname          165034 non-null  object \n",
      " 3   CreditScore      165034 non-null  int64  \n",
      " 4   Geography        165034 non-null  object \n",
      " 5   Gender           165034 non-null  object \n",
      " 6   Age              165034 non-null  float64\n",
      " 7   Tenure           165034 non-null  int64  \n",
      " 8   Balance          165034 non-null  float64\n",
      " 9   NumOfProducts    165034 non-null  int64  \n",
      " 10  HasCrCard        165034 non-null  float64\n",
      " 11  IsActiveMember   165034 non-null  float64\n",
      " 12  EstimatedSalary  165034 non-null  float64\n",
      " 13  Exited           165034 non-null  int64  \n",
      "dtypes: float64(5), int64(6), object(3)\n",
      "memory usage: 17.6+ MB\n"
     ]
    }
   ],
   "source": [
    "df.info()"
   ]
  },
  {
   "cell_type": "code",
   "execution_count": 26,
   "id": "8c019706",
   "metadata": {},
   "outputs": [
    {
     "data": {
      "text/plain": [
       "Exited\n",
       "0    130113\n",
       "1     34921\n",
       "Name: count, dtype: int64"
      ]
     },
     "execution_count": 26,
     "metadata": {},
     "output_type": "execute_result"
    }
   ],
   "source": [
    "df.Exited.value_counts()"
   ]
  },
  {
   "cell_type": "markdown",
   "id": "546ff59e-1640-4acf-9fb8-932dc8b578ea",
   "metadata": {},
   "source": [
    "## target variable - Exited\n",
    "you can observe that classes are imbalanced  \n",
    "xgboost will handle the  imbalanced dataset "
   ]
  },
  {
   "cell_type": "markdown",
   "id": "220f18fd",
   "metadata": {},
   "source": [
    "## Fields analysis \n",
    "* Certain fields such as id , surname removing in the first trial as they will not be critical in determining Exited\n",
    "* Subsequently even CustomerId field can be removed\n",
    "* Geography is categorical field , will use sci-kit learn preprocessing\n",
    "* Fields which look important are CreditScore , Age , Tenure , Balance , NumOfProducts , HasCrCard , EstimatedSalary \n",
    "  \n"
   ]
  },
  {
   "cell_type": "code",
   "execution_count": 27,
   "id": "ebe02d82-a3dd-4fe7-9112-e94f32aac708",
   "metadata": {},
   "outputs": [],
   "source": [
    "df.drop(columns =['id','Surname','CustomerId'] , inplace=True)"
   ]
  },
  {
   "cell_type": "code",
   "execution_count": 28,
   "id": "d8c5a49c-214e-46e7-888b-311e8123ba5c",
   "metadata": {},
   "outputs": [
    {
     "data": {
      "text/plain": [
       "array([0, 0, 0, ..., 0, 0, 1])"
      ]
     },
     "execution_count": 28,
     "metadata": {},
     "output_type": "execute_result"
    }
   ],
   "source": [
    "# extract target column into a numpy array . This would go into fit as argument \n",
    "y = cfs.extract_target_column(df,\"Exited\")\n",
    "y"
   ]
  },
  {
   "cell_type": "markdown",
   "id": "b302d68e-bc77-46f7-883d-73a3fe392810",
   "metadata": {},
   "source": [
    "## find out numerical and catergorical features \n",
    "*  use sci-kit learn to handle scaling and pre-processing\n",
    "*  split training data into training and test data\n",
    "*  Check how the preprocessing data looks like"
   ]
  },
  {
   "cell_type": "code",
   "execution_count": 29,
   "id": "ed93516a-e6ec-4f39-a8bc-4e29859c8e9a",
   "metadata": {},
   "outputs": [
    {
     "name": "stdout",
     "output_type": "stream",
     "text": [
      "numerical features Index(['CreditScore', 'Age', 'Tenure', 'Balance', 'NumOfProducts', 'HasCrCard',\n",
      "       'IsActiveMember', 'EstimatedSalary'],\n",
      "      dtype='object')\n",
      "categorical features Index(['Geography', 'Gender'], dtype='object')\n"
     ]
    }
   ],
   "source": [
    "numerical_features, categorical_features = cfs.find_cat_num_features(df)"
   ]
  },
  {
   "cell_type": "code",
   "execution_count": 30,
   "id": "31d81a32-180b-4363-b94b-85e6d81f1990",
   "metadata": {},
   "outputs": [],
   "source": [
    "X_preprocessed , feature_names = cfs.preprocess_dataframe(numerical_features, categorical_features, df)"
   ]
  },
  {
   "cell_type": "code",
   "execution_count": 31,
   "id": "9a4a7dbe-a201-4911-bbda-f34364f54fb6",
   "metadata": {},
   "outputs": [
    {
     "name": "stdout",
     "output_type": "stream",
     "text": [
      "        num__CreditScore  num__Age  num__Tenure  num__Balance  \\\n",
      "0               0.144135 -0.578074    -0.719973     -0.883163   \n",
      "1              -0.367706 -0.578074    -1.432694     -0.883163   \n",
      "2               0.268974  0.211354     1.774548     -0.883163   \n",
      "3              -0.941966 -0.465299    -1.076334      1.486918   \n",
      "4               0.743362 -0.578074    -0.007253     -0.883163   \n",
      "...                  ...       ...          ...           ...   \n",
      "165029          0.131651 -0.578074    -1.076334     -0.883163   \n",
      "165030          1.692140 -0.352523    -0.719973     -0.883163   \n",
      "165031         -1.141708 -0.803625    -0.007253     -0.883163   \n",
      "165032         -1.279031 -0.916401     0.705467      1.688303   \n",
      "165033          2.416207 -0.803625    -1.432694     -0.883163   \n",
      "\n",
      "        num__NumOfProducts  num__HasCrCard  num__IsActiveMember  \\\n",
      "0                 0.814298        0.571263             -0.99555   \n",
      "1                 0.814298        0.571263              1.00447   \n",
      "2                 0.814298        0.571263             -0.99555   \n",
      "3                -1.013348        0.571263              1.00447   \n",
      "4                 0.814298        0.571263              1.00447   \n",
      "...                    ...             ...                  ...   \n",
      "165029           -1.013348        0.571263              1.00447   \n",
      "165030           -1.013348       -1.750507             -0.99555   \n",
      "165031           -1.013348        0.571263              1.00447   \n",
      "165032           -1.013348       -1.750507              1.00447   \n",
      "165033           -1.013348        0.571263             -0.99555   \n",
      "\n",
      "        num__EstimatedSalary  cat__Geography_France  cat__Geography_Germany  \\\n",
      "0                   1.369486                    1.0                     0.0   \n",
      "1                  -1.254085                    1.0                     0.0   \n",
      "2                   1.437422                    1.0                     0.0   \n",
      "3                  -0.557018                    1.0                     0.0   \n",
      "4                  -1.938770                    0.0                     0.0   \n",
      "...                      ...                    ...                     ...   \n",
      "165029              0.382957                    0.0                     0.0   \n",
      "165030              0.382951                    1.0                     0.0   \n",
      "165031              0.295366                    1.0                     0.0   \n",
      "165032             -0.823217                    0.0                     0.0   \n",
      "165033             -1.013925                    1.0                     0.0   \n",
      "\n",
      "        cat__Geography_Spain  cat__Gender_Female  cat__Gender_Male  \n",
      "0                        0.0                 0.0               1.0  \n",
      "1                        0.0                 0.0               1.0  \n",
      "2                        0.0                 0.0               1.0  \n",
      "3                        0.0                 0.0               1.0  \n",
      "4                        1.0                 0.0               1.0  \n",
      "...                      ...                 ...               ...  \n",
      "165029                   1.0                 1.0               0.0  \n",
      "165030                   0.0                 0.0               1.0  \n",
      "165031                   0.0                 0.0               1.0  \n",
      "165032                   1.0                 1.0               0.0  \n",
      "165033                   0.0                 0.0               1.0  \n",
      "\n",
      "[165034 rows x 13 columns]\n"
     ]
    }
   ],
   "source": [
    "X_preprocessed_df = pd.DataFrame(data=X_preprocessed, columns=feature_names)\n",
    "\n",
    "# Display the preprocessed DataFrame\n",
    "print(X_preprocessed_df)"
   ]
  },
  {
   "cell_type": "code",
   "execution_count": 32,
   "id": "0c379e60-c6c0-4879-9ed0-7687b4a29864",
   "metadata": {},
   "outputs": [],
   "source": [
    "# Split the dataset into training and testing sets\n",
    "X_train, X_test, y_train, y_test = train_test_split(X_preprocessed, y, test_size=0.2, random_state=42)"
   ]
  },
  {
   "cell_type": "markdown",
   "id": "f04d5bc7-e1dc-4787-b851-1448dbe59779",
   "metadata": {},
   "source": [
    "## Training and prediction "
   ]
  },
  {
   "cell_type": "code",
   "execution_count": 33,
   "id": "efdecf70-65c4-431a-ac9c-25e4ddf75232",
   "metadata": {},
   "outputs": [],
   "source": [
    "model = XGBClassifier(booster='gbtree', objective='binary:logistic', random_state=2)\n",
    "\n",
    "# Fit xg_reg to training set\n",
    "model.fit(X_train, y_train)\n",
    "\n",
    "# Predict labels of test set, y_pred\n",
    "y_pred = model.predict(X_test)\n"
   ]
  },
  {
   "cell_type": "code",
   "execution_count": 34,
   "id": "667fbcbf-9bfb-4acb-abfe-97e51feb8d64",
   "metadata": {},
   "outputs": [
    {
     "name": "stdout",
     "output_type": "stream",
     "text": [
      "              precision    recall  f1-score   support\n",
      "\n",
      "           0       0.89      0.95      0.92     26052\n",
      "           1       0.74      0.57      0.64      6955\n",
      "\n",
      "    accuracy                           0.87     33007\n",
      "   macro avg       0.81      0.76      0.78     33007\n",
      "weighted avg       0.86      0.87      0.86     33007\n",
      "\n"
     ]
    }
   ],
   "source": [
    "print(classification_report(y_test, y_pred))"
   ]
  },
  {
   "cell_type": "code",
   "execution_count": 35,
   "id": "75fa17fa-444b-4d89-8dce-dce10b2e13bb",
   "metadata": {},
   "outputs": [
    {
     "data": {
      "text/plain": [
       "array([[24649,  1403],\n",
       "       [ 3013,  3942]], dtype=int64)"
      ]
     },
     "execution_count": 35,
     "metadata": {},
     "output_type": "execute_result"
    }
   ],
   "source": [
    "confusion_matrix(y_test, y_pred)"
   ]
  },
  {
   "cell_type": "code",
   "execution_count": 38,
   "id": "9c1493c5-a67a-40af-bb1d-3dd1819b87c9",
   "metadata": {},
   "outputs": [
    {
     "data": {
      "image/png": "[encoded data removed]",
      "text/plain": [
       "<Figure size 640x480 with 1 Axes>"
      ]
     },
     "metadata": {},
     "output_type": "display_data"
    }
   ],
   "source": [
    "# Predict probabilities\n",
    "y_probs = model.predict_proba(X_test)[:, 1]\n",
    "# Compute ROC curve and AUC\n",
    "fpr, tpr, thresholds = roc_curve(y_test, y_probs)\n",
    "roc_auc = auc(fpr, tpr)\n",
    "# Plotting\n",
    "plt.figure()\n",
    "plt.plot(fpr, tpr, color='darkorange', lw=2, label=f'ROC curve (area = {roc_auc:.2f})')\n",
    "plt.plot([0, 1], [0, 1], color='navy', lw=2, linestyle='--')\n",
    "plt.xlim([0.0, 1.0])\n",
    "plt.ylim([0.0, 1.05])\n",
    "plt.xlabel('False Positive Rate')\n",
    "plt.ylabel('True Positive Rate')\n",
    "plt.title('Receiver Operating Characteristic')\n",
    "plt.legend(loc=\"lower right\")\n",
    "plt.show()"
   ]
  },
  {
   "cell_type": "code",
   "execution_count": 46,
   "id": "e2adfbe8-4e1f-4991-86f4-5d4f3cbd7fc7",
   "metadata": {},
   "outputs": [
    {
     "data": {
      "image/png": "[encoded data removed]",
      "text/plain": [
       "<Figure size 640x480 with 1 Axes>"
      ]
     },
     "metadata": {},
     "output_type": "display_data"
    }
   ],
   "source": [
    "y_probs = model.predict_proba(X_test)[ :, 0]\n",
    "# Compute ROC curve and AUC\n",
    "fpr, tpr, thresholds = roc_curve(y_test, y_probs)\n",
    "roc_auc = auc(fpr, tpr)\n",
    "# Plotting\n",
    "plt.figure()\n",
    "plt.plot(fpr, tpr, color='darkorange', lw=2, label=f'ROC curve (area = {roc_auc:.2f})')\n",
    "plt.plot([0, 1], [0, 1], color='navy', lw=2, linestyle='--')\n",
    "plt.xlim([0.0, 1.0])\n",
    "plt.ylim([0.0, 1.05])\n",
    "plt.xlabel('False Positive Rate')\n",
    "plt.ylabel('True Positive Rate')\n",
    "plt.title('Receiver Operating Characteristic')\n",
    "plt.legend(loc=\"lower right\")\n",
    "plt.show()"
   ]
  },
  {
   "cell_type": "code",
   "execution_count": 42,
   "id": "ea47341b-ca96-46a8-ac12-b7e6505ac86e",
   "metadata": {},
   "outputs": [],
   "source": [
    "probs = model.predict_proba(X_test)"
   ]
  },
  {
   "cell_type": "code",
   "execution_count": 43,
   "id": "b2708139-42cd-4ff9-91ad-20cb3934cef3",
   "metadata": {},
   "outputs": [
    {
     "data": {
      "text/plain": [
       "(33007, 2)"
      ]
     },
     "execution_count": 43,
     "metadata": {},
     "output_type": "execute_result"
    }
   ],
   "source": [
    "probs.shape"
   ]
  },
  {
   "cell_type": "code",
   "execution_count": 49,
   "id": "44849d20-e9cc-401a-b034-61174f0a4d52",
   "metadata": {},
   "outputs": [
    {
     "data": {
      "text/plain": [
       "array([[0.84399223, 0.15600774],\n",
       "       [0.98112994, 0.01887005],\n",
       "       [0.2966411 , 0.7033589 ]], dtype=float32)"
      ]
     },
     "execution_count": 49,
     "metadata": {},
     "output_type": "execute_result"
    }
   ],
   "source": [
    "probs[0:3,]"
   ]
  },
  {
   "cell_type": "code",
   "execution_count": 51,
   "id": "4513a5f9-e2fe-42ac-ba9d-e52053ac7258",
   "metadata": {},
   "outputs": [
    {
     "name": "stdout",
     "output_type": "stream",
     "text": [
      "0.5667864845434939\n"
     ]
    }
   ],
   "source": [
    "score = recall_score(y_test, y_pred)\n",
    "print(score)"
   ]
  },
  {
   "cell_type": "code",
   "execution_count": null,
   "id": "96236a63-c150-497f-99ab-f48aa0a9fd3b",
   "metadata": {},
   "outputs": [],
   "source": []
  }
 ],
 "metadata": {
  "kernelspec": {
   "display_name": "Python 3 (ipykernel)",
   "language": "python",
   "name": "python3"
  },
  "language_info": {
   "codemirror_mode": {
    "name": "ipython",
    "version": 3
   },
   "file_extension": ".py",
   "mimetype": "text/x-python",
   "name": "python",
   "nbconvert_exporter": "python",
   "pygments_lexer": "ipython3",
   "version": "3.11.5"
  }
 },
 "nbformat": 4,
 "nbformat_minor": 5
}
