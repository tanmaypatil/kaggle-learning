{
 "cells": [
  {
   "cell_type": "code",
   "execution_count": 1,
   "id": "c7f38b40-cd85-4913-a5ee-72e7f31f24cc",
   "metadata": {},
   "outputs": [
    {
     "name": "stdout",
     "output_type": "stream",
     "text": [
      "Requirement already satisfied: xgboost in c:\\users\\u725561\\anaconda3\\lib\\site-packages (2.0.3)\n",
      "Requirement already satisfied: numpy in c:\\users\\u725561\\anaconda3\\lib\\site-packages (from xgboost) (1.26.3)\n",
      "Requirement already satisfied: scipy in c:\\users\\u725561\\anaconda3\\lib\\site-packages (from xgboost) (1.11.4)\n"
     ]
    }
   ],
   "source": [
    "!pip install xgboost"
   ]
  },
  {
   "cell_type": "code",
   "execution_count": 2,
   "id": "6c988b54-8b42-4007-8ea7-1ec17dffe65b",
   "metadata": {},
   "outputs": [],
   "source": [
    "import common_functions as cfs\n",
    "import grid_search as gs"
   ]
  },
  {
   "cell_type": "code",
   "execution_count": 3,
   "id": "54059bbe-12fd-47e0-99fa-564c08d09e7c",
   "metadata": {},
   "outputs": [],
   "source": [
    "import pandas as pd"
   ]
  },
  {
   "cell_type": "code",
   "execution_count": 4,
   "id": "c139d0b5-23ec-4d58-868f-e194ac928042",
   "metadata": {},
   "outputs": [],
   "source": [
    "from sklearn.model_selection import train_test_split\n",
    "from sklearn.metrics import confusion_matrix\n",
    "from sklearn.metrics import recall_score \n",
    "from sklearn.metrics import classification_report\n",
    "from sklearn.metrics import roc_curve, auc"
   ]
  },
  {
   "cell_type": "code",
   "execution_count": 5,
   "id": "2dbe40c3-e6e0-4eeb-b3ff-ad11d703fe1a",
   "metadata": {},
   "outputs": [],
   "source": [
    "import matplotlib.pyplot as plt"
   ]
  },
  {
   "cell_type": "code",
   "execution_count": 6,
   "id": "d9ff5a64-9c2c-472c-91ea-3ca4a8c42054",
   "metadata": {},
   "outputs": [],
   "source": [
    "from xgboost import XGBClassifier"
   ]
  },
  {
   "cell_type": "code",
   "execution_count": 7,
   "id": "86b77081",
   "metadata": {
    "slideshow": {
     "slide_type": "slide"
    }
   },
   "outputs": [],
   "source": [
    "df = pd.read_csv(\"bank_churn_train.csv\")"
   ]
  },
  {
   "cell_type": "code",
   "execution_count": 8,
   "id": "05fe2806",
   "metadata": {},
   "outputs": [
    {
     "data": {
      "text/html": [
       "<div>\n",
       "<style scoped>\n",
       "    .dataframe tbody tr th:only-of-type {\n",
       "        vertical-align: middle;\n",
       "    }\n",
       "\n",
       "    .dataframe tbody tr th {\n",
       "        vertical-align: top;\n",
       "    }\n",
       "\n",
       "    .dataframe thead th {\n",
       "        text-align: right;\n",
       "    }\n",
       "</style>\n",
       "<table border=\"1\" class=\"dataframe\">\n",
       "  <thead>\n",
       "    <tr style=\"text-align: right;\">\n",
       "      <th></th>\n",
       "      <th>id</th>\n",
       "      <th>CustomerId</th>\n",
       "      <th>Surname</th>\n",
       "      <th>CreditScore</th>\n",
       "      <th>Geography</th>\n",
       "      <th>Gender</th>\n",
       "      <th>Age</th>\n",
       "      <th>Tenure</th>\n",
       "      <th>Balance</th>\n",
       "      <th>NumOfProducts</th>\n",
       "      <th>HasCrCard</th>\n",
       "      <th>IsActiveMember</th>\n",
       "      <th>EstimatedSalary</th>\n",
       "      <th>Exited</th>\n",
       "    </tr>\n",
       "  </thead>\n",
       "  <tbody>\n",
       "    <tr>\n",
       "      <th>0</th>\n",
       "      <td>0</td>\n",
       "      <td>15674932</td>\n",
       "      <td>Okwudilichukwu</td>\n",
       "      <td>668</td>\n",
       "      <td>France</td>\n",
       "      <td>Male</td>\n",
       "      <td>33.0</td>\n",
       "      <td>3</td>\n",
       "      <td>0.00</td>\n",
       "      <td>2</td>\n",
       "      <td>1.0</td>\n",
       "      <td>0.0</td>\n",
       "      <td>181449.97</td>\n",
       "      <td>0</td>\n",
       "    </tr>\n",
       "    <tr>\n",
       "      <th>1</th>\n",
       "      <td>1</td>\n",
       "      <td>15749177</td>\n",
       "      <td>Okwudiliolisa</td>\n",
       "      <td>627</td>\n",
       "      <td>France</td>\n",
       "      <td>Male</td>\n",
       "      <td>33.0</td>\n",
       "      <td>1</td>\n",
       "      <td>0.00</td>\n",
       "      <td>2</td>\n",
       "      <td>1.0</td>\n",
       "      <td>1.0</td>\n",
       "      <td>49503.50</td>\n",
       "      <td>0</td>\n",
       "    </tr>\n",
       "    <tr>\n",
       "      <th>2</th>\n",
       "      <td>2</td>\n",
       "      <td>15694510</td>\n",
       "      <td>Hsueh</td>\n",
       "      <td>678</td>\n",
       "      <td>France</td>\n",
       "      <td>Male</td>\n",
       "      <td>40.0</td>\n",
       "      <td>10</td>\n",
       "      <td>0.00</td>\n",
       "      <td>2</td>\n",
       "      <td>1.0</td>\n",
       "      <td>0.0</td>\n",
       "      <td>184866.69</td>\n",
       "      <td>0</td>\n",
       "    </tr>\n",
       "    <tr>\n",
       "      <th>3</th>\n",
       "      <td>3</td>\n",
       "      <td>15741417</td>\n",
       "      <td>Kao</td>\n",
       "      <td>581</td>\n",
       "      <td>France</td>\n",
       "      <td>Male</td>\n",
       "      <td>34.0</td>\n",
       "      <td>2</td>\n",
       "      <td>148882.54</td>\n",
       "      <td>1</td>\n",
       "      <td>1.0</td>\n",
       "      <td>1.0</td>\n",
       "      <td>84560.88</td>\n",
       "      <td>0</td>\n",
       "    </tr>\n",
       "    <tr>\n",
       "      <th>4</th>\n",
       "      <td>4</td>\n",
       "      <td>15766172</td>\n",
       "      <td>Chiemenam</td>\n",
       "      <td>716</td>\n",
       "      <td>Spain</td>\n",
       "      <td>Male</td>\n",
       "      <td>33.0</td>\n",
       "      <td>5</td>\n",
       "      <td>0.00</td>\n",
       "      <td>2</td>\n",
       "      <td>1.0</td>\n",
       "      <td>1.0</td>\n",
       "      <td>15068.83</td>\n",
       "      <td>0</td>\n",
       "    </tr>\n",
       "  </tbody>\n",
       "</table>\n",
       "</div>"
      ],
      "text/plain": [
       "   id  CustomerId         Surname  CreditScore Geography Gender   Age  Tenure  \\\n",
       "0   0    15674932  Okwudilichukwu          668    France   Male  33.0       3   \n",
       "1   1    15749177   Okwudiliolisa          627    France   Male  33.0       1   \n",
       "2   2    15694510           Hsueh          678    France   Male  40.0      10   \n",
       "3   3    15741417             Kao          581    France   Male  34.0       2   \n",
       "4   4    15766172       Chiemenam          716     Spain   Male  33.0       5   \n",
       "\n",
       "     Balance  NumOfProducts  HasCrCard  IsActiveMember  EstimatedSalary  \\\n",
       "0       0.00              2        1.0             0.0        181449.97   \n",
       "1       0.00              2        1.0             1.0         49503.50   \n",
       "2       0.00              2        1.0             0.0        184866.69   \n",
       "3  148882.54              1        1.0             1.0         84560.88   \n",
       "4       0.00              2        1.0             1.0         15068.83   \n",
       "\n",
       "   Exited  \n",
       "0       0  \n",
       "1       0  \n",
       "2       0  \n",
       "3       0  \n",
       "4       0  "
      ]
     },
     "execution_count": 8,
     "metadata": {},
     "output_type": "execute_result"
    }
   ],
   "source": [
    "df.head()"
   ]
  },
  {
   "cell_type": "code",
   "execution_count": 9,
   "id": "a2aeecf8",
   "metadata": {},
   "outputs": [
    {
     "name": "stdout",
     "output_type": "stream",
     "text": [
      "<class 'pandas.core.frame.DataFrame'>\n",
      "RangeIndex: 165034 entries, 0 to 165033\n",
      "Data columns (total 14 columns):\n",
      " #   Column           Non-Null Count   Dtype  \n",
      "---  ------           --------------   -----  \n",
      " 0   id               165034 non-null  int64  \n",
      " 1   CustomerId       165034 non-null  int64  \n",
      " 2   Surname          165034 non-null  object \n",
      " 3   CreditScore      165034 non-null  int64  \n",
      " 4   Geography        165034 non-null  object \n",
      " 5   Gender           165034 non-null  object \n",
      " 6   Age              165034 non-null  float64\n",
      " 7   Tenure           165034 non-null  int64  \n",
      " 8   Balance          165034 non-null  float64\n",
      " 9   NumOfProducts    165034 non-null  int64  \n",
      " 10  HasCrCard        165034 non-null  float64\n",
      " 11  IsActiveMember   165034 non-null  float64\n",
      " 12  EstimatedSalary  165034 non-null  float64\n",
      " 13  Exited           165034 non-null  int64  \n",
      "dtypes: float64(5), int64(6), object(3)\n",
      "memory usage: 17.6+ MB\n"
     ]
    }
   ],
   "source": [
    "df.info()"
   ]
  },
  {
   "cell_type": "code",
   "execution_count": 10,
   "id": "8c019706",
   "metadata": {},
   "outputs": [
    {
     "data": {
      "text/plain": [
       "Exited\n",
       "0    130113\n",
       "1     34921\n",
       "Name: count, dtype: int64"
      ]
     },
     "execution_count": 10,
     "metadata": {},
     "output_type": "execute_result"
    }
   ],
   "source": [
    "df.Exited.value_counts()"
   ]
  },
  {
   "cell_type": "markdown",
   "id": "546ff59e-1640-4acf-9fb8-932dc8b578ea",
   "metadata": {},
   "source": [
    "## target variable - Exited\n",
    "you can observe that classes are imbalanced  \n",
    "xgboost will handle the  imbalanced dataset "
   ]
  },
  {
   "cell_type": "markdown",
   "id": "220f18fd",
   "metadata": {},
   "source": [
    "## Fields analysis \n",
    "* Certain fields such as id , surname removing in the first trial as they will not be critical in determining Exited\n",
    "* Subsequently even CustomerId field can be removed\n",
    "* Geography is categorical field , will use sci-kit learn preprocessing\n",
    "* Fields which look important are CreditScore , Age , Tenure , Balance , NumOfProducts , HasCrCard , EstimatedSalary \n",
    "  \n"
   ]
  },
  {
   "cell_type": "code",
   "execution_count": 11,
   "id": "ebe02d82-a3dd-4fe7-9112-e94f32aac708",
   "metadata": {},
   "outputs": [],
   "source": [
    "df.drop(columns =['id','Surname','CustomerId'] , inplace=True)"
   ]
  },
  {
   "cell_type": "code",
   "execution_count": 12,
   "id": "d8c5a49c-214e-46e7-888b-311e8123ba5c",
   "metadata": {},
   "outputs": [
    {
     "data": {
      "text/plain": [
       "array([0, 0, 0, ..., 0, 0, 1])"
      ]
     },
     "execution_count": 12,
     "metadata": {},
     "output_type": "execute_result"
    }
   ],
   "source": [
    "# extract target column into a numpy array . This would go into fit as argument \n",
    "y = cfs.extract_target_column(df,\"Exited\")\n",
    "y"
   ]
  },
  {
   "cell_type": "markdown",
   "id": "b302d68e-bc77-46f7-883d-73a3fe392810",
   "metadata": {},
   "source": [
    "## find out numerical and catergorical features \n",
    "*  use sci-kit learn to handle scaling and pre-processing\n",
    "*  split training data into training and test data\n",
    "*  Check how the preprocessing data looks like"
   ]
  },
  {
   "cell_type": "code",
   "execution_count": 13,
   "id": "ed93516a-e6ec-4f39-a8bc-4e29859c8e9a",
   "metadata": {},
   "outputs": [
    {
     "name": "stdout",
     "output_type": "stream",
     "text": [
      "numerical features Index(['CreditScore', 'Age', 'Tenure', 'Balance', 'NumOfProducts', 'HasCrCard',\n",
      "       'IsActiveMember', 'EstimatedSalary'],\n",
      "      dtype='object')\n",
      "categorical features Index(['Geography', 'Gender'], dtype='object')\n"
     ]
    }
   ],
   "source": [
    "numerical_features, categorical_features = cfs.find_cat_num_features(df)"
   ]
  },
  {
   "cell_type": "code",
   "execution_count": 14,
   "id": "31d81a32-180b-4363-b94b-85e6d81f1990",
   "metadata": {},
   "outputs": [],
   "source": [
    "X_preprocessed , feature_names = cfs.preprocess_dataframe(numerical_features, categorical_features, df)"
   ]
  },
  {
   "cell_type": "code",
   "execution_count": 15,
   "id": "9a4a7dbe-a201-4911-bbda-f34364f54fb6",
   "metadata": {},
   "outputs": [
    {
     "name": "stdout",
     "output_type": "stream",
     "text": [
      "        num__CreditScore  num__Age  num__Tenure  num__Balance  \\\n",
      "0               0.144135 -0.578074    -0.719973     -0.883163   \n",
      "1              -0.367706 -0.578074    -1.432694     -0.883163   \n",
      "2               0.268974  0.211354     1.774548     -0.883163   \n",
      "3              -0.941966 -0.465299    -1.076334      1.486918   \n",
      "4               0.743362 -0.578074    -0.007253     -0.883163   \n",
      "...                  ...       ...          ...           ...   \n",
      "165029          0.131651 -0.578074    -1.076334     -0.883163   \n",
      "165030          1.692140 -0.352523    -0.719973     -0.883163   \n",
      "165031         -1.141708 -0.803625    -0.007253     -0.883163   \n",
      "165032         -1.279031 -0.916401     0.705467      1.688303   \n",
      "165033          2.416207 -0.803625    -1.432694     -0.883163   \n",
      "\n",
      "        num__NumOfProducts  num__HasCrCard  num__IsActiveMember  \\\n",
      "0                 0.814298        0.571263             -0.99555   \n",
      "1                 0.814298        0.571263              1.00447   \n",
      "2                 0.814298        0.571263             -0.99555   \n",
      "3                -1.013348        0.571263              1.00447   \n",
      "4                 0.814298        0.571263              1.00447   \n",
      "...                    ...             ...                  ...   \n",
      "165029           -1.013348        0.571263              1.00447   \n",
      "165030           -1.013348       -1.750507             -0.99555   \n",
      "165031           -1.013348        0.571263              1.00447   \n",
      "165032           -1.013348       -1.750507              1.00447   \n",
      "165033           -1.013348        0.571263             -0.99555   \n",
      "\n",
      "        num__EstimatedSalary  cat__Geography_France  cat__Geography_Germany  \\\n",
      "0                   1.369486                    1.0                     0.0   \n",
      "1                  -1.254085                    1.0                     0.0   \n",
      "2                   1.437422                    1.0                     0.0   \n",
      "3                  -0.557018                    1.0                     0.0   \n",
      "4                  -1.938770                    0.0                     0.0   \n",
      "...                      ...                    ...                     ...   \n",
      "165029              0.382957                    0.0                     0.0   \n",
      "165030              0.382951                    1.0                     0.0   \n",
      "165031              0.295366                    1.0                     0.0   \n",
      "165032             -0.823217                    0.0                     0.0   \n",
      "165033             -1.013925                    1.0                     0.0   \n",
      "\n",
      "        cat__Geography_Spain  cat__Gender_Female  cat__Gender_Male  \n",
      "0                        0.0                 0.0               1.0  \n",
      "1                        0.0                 0.0               1.0  \n",
      "2                        0.0                 0.0               1.0  \n",
      "3                        0.0                 0.0               1.0  \n",
      "4                        1.0                 0.0               1.0  \n",
      "...                      ...                 ...               ...  \n",
      "165029                   1.0                 1.0               0.0  \n",
      "165030                   0.0                 0.0               1.0  \n",
      "165031                   0.0                 0.0               1.0  \n",
      "165032                   1.0                 1.0               0.0  \n",
      "165033                   0.0                 0.0               1.0  \n",
      "\n",
      "[165034 rows x 13 columns]\n"
     ]
    }
   ],
   "source": [
    "X_preprocessed_df = pd.DataFrame(data=X_preprocessed, columns=feature_names)\n",
    "\n",
    "# Display the preprocessed DataFrame\n",
    "print(X_preprocessed_df)"
   ]
  },
  {
   "cell_type": "code",
   "execution_count": 16,
   "id": "0c379e60-c6c0-4879-9ed0-7687b4a29864",
   "metadata": {},
   "outputs": [],
   "source": [
    "# Split the dataset into training and testing sets\n",
    "X_train, X_test, y_train, y_test = train_test_split(X_preprocessed, y, test_size=0.2, random_state=42)"
   ]
  },
  {
   "cell_type": "markdown",
   "id": "f04d5bc7-e1dc-4787-b851-1448dbe59779",
   "metadata": {},
   "source": [
    "## Training and prediction "
   ]
  },
  {
   "cell_type": "code",
   "execution_count": 17,
   "id": "efdecf70-65c4-431a-ac9c-25e4ddf75232",
   "metadata": {},
   "outputs": [],
   "source": [
    "model = XGBClassifier(booster='gbtree', objective='binary:logistic', random_state=2)\n",
    "\n",
    "# Fit xg_reg to training set\n",
    "model.fit(X_train, y_train)\n",
    "\n",
    "# Predict labels of test set, y_pred\n",
    "y_pred = model.predict(X_test)\n"
   ]
  },
  {
   "cell_type": "code",
   "execution_count": 18,
   "id": "667fbcbf-9bfb-4acb-abfe-97e51feb8d64",
   "metadata": {},
   "outputs": [
    {
     "name": "stdout",
     "output_type": "stream",
     "text": [
      "              precision    recall  f1-score   support\n",
      "\n",
      "           0       0.89      0.95      0.92     26052\n",
      "           1       0.74      0.57      0.64      6955\n",
      "\n",
      "    accuracy                           0.87     33007\n",
      "   macro avg       0.81      0.76      0.78     33007\n",
      "weighted avg       0.86      0.87      0.86     33007\n",
      "\n"
     ]
    }
   ],
   "source": [
    "print(classification_report(y_test, y_pred))"
   ]
  },
  {
   "cell_type": "code",
   "execution_count": 19,
   "id": "75fa17fa-444b-4d89-8dce-dce10b2e13bb",
   "metadata": {},
   "outputs": [
    {
     "data": {
      "text/plain": [
       "array([[24649,  1403],\n",
       "       [ 3013,  3942]], dtype=int64)"
      ]
     },
     "execution_count": 19,
     "metadata": {},
     "output_type": "execute_result"
    }
   ],
   "source": [
    "confusion_matrix(y_test, y_pred)"
   ]
  },
  {
   "cell_type": "code",
   "execution_count": 20,
   "id": "9c1493c5-a67a-40af-bb1d-3dd1819b87c9",
   "metadata": {},
   "outputs": [
    {
     "data": {
      "image/png": "[encoded data removed]",
      "text/plain": [
       "<Figure size 640x480 with 1 Axes>"
      ]
     },
     "metadata": {},
     "output_type": "display_data"
    }
   ],
   "source": [
    "# Predict probabilities\n",
    "y_probs = model.predict_proba(X_test)[:, 1]\n",
    "# Compute ROC curve and AUC\n",
    "fpr, tpr, thresholds = roc_curve(y_test, y_probs)\n",
    "roc_auc = auc(fpr, tpr)\n",
    "# Plotting\n",
    "plt.figure()\n",
    "plt.plot(fpr, tpr, color='darkorange', lw=2, label=f'ROC curve (area = {roc_auc:.2f})')\n",
    "plt.plot([0, 1], [0, 1], color='navy', lw=2, linestyle='--')\n",
    "plt.xlim([0.0, 1.0])\n",
    "plt.ylim([0.0, 1.05])\n",
    "plt.xlabel('False Positive Rate')\n",
    "plt.ylabel('True Positive Rate')\n",
    "plt.title('Receiver Operating Characteristic')\n",
    "plt.legend(loc=\"lower right\")\n",
    "plt.show()"
   ]
  },
  {
   "cell_type": "code",
   "execution_count": 22,
   "id": "4513a5f9-e2fe-42ac-ba9d-e52053ac7258",
   "metadata": {},
   "outputs": [
    {
     "name": "stdout",
     "output_type": "stream",
     "text": [
      "0.5667864845434939\n"
     ]
    }
   ],
   "source": [
    "score = recall_score(y_test, y_pred)\n",
    "print(score)"
   ]
  },
  {
   "cell_type": "code",
   "execution_count": 23,
   "id": "fa126758-fda4-4b2d-a4b0-0f38b2198b04",
   "metadata": {},
   "outputs": [
    {
     "name": "stdout",
     "output_type": "stream",
     "text": [
      "0.9461461692000614\n"
     ]
    }
   ],
   "source": [
    "score = recall_score(y_test, y_pred,pos_label=0)\n",
    "print(score)"
   ]
  },
  {
   "cell_type": "markdown",
   "id": "4ce184a0-7c6a-4456-8766-b5e191dd72f9",
   "metadata": {},
   "source": [
    "## Grid search"
   ]
  },
  {
   "cell_type": "code",
   "execution_count": 24,
   "id": "be54208d-95d7-4e3e-8abd-6db4a85f9091",
   "metadata": {},
   "outputs": [],
   "source": [
    "params={'n_estimators':[50, 200, 400, 800], \n",
    "        'learning_rate':[0.01, 0.05, 0.2, 0.3],\n",
    "        'subsample':[0.3, 0.5, 0.7, 0.9], \n",
    "        'gamma':[0.05, 0.1, 0.5, 1],\n",
    "        'colsample_bylevel':[0.3, 0.5, 0.7, 0.9, 1], \n",
    "        'colsample_bynode':[0.3, 0.5, 0.7, 0.9, 1], \n",
    "        'colsample_bytree':[0.3, 0.5, 0.7, 0.9, 1]}"
   ]
  },
  {
   "cell_type": "code",
   "execution_count": 25,
   "id": "c36f2fcd-af51-4860-878d-09a00f4f4608",
   "metadata": {},
   "outputs": [
    {
     "name": "stdout",
     "output_type": "stream",
     "text": [
      "Best params: {'subsample': 0.9, 'n_estimators': 800, 'learning_rate': 0.01, 'gamma': 0.05, 'colsample_bytree': 0.3, 'colsample_bynode': 0.7, 'colsample_bylevel': 0.3}\n",
      "Best score: 0.80891\n"
     ]
    }
   ],
   "source": [
    "gs_model,best_params = gs.grid_search(params , X_train , y_train ,random=True)"
   ]
  },
  {
   "cell_type": "code",
   "execution_count": 26,
   "id": "c3af6ed8-9080-4616-935e-d84a19d189ba",
   "metadata": {},
   "outputs": [],
   "source": [
    "# Predict labels of test set, y_pred\n",
    "y_pred = gs_model.predict(X_test)"
   ]
  },
  {
   "cell_type": "code",
   "execution_count": 27,
   "id": "c7841a65-03d2-47bd-9206-f1ea47384d0f",
   "metadata": {},
   "outputs": [
    {
     "data": {
      "text/plain": [
       "array([[20311,  5741],\n",
       "       [ 1336,  5619]], dtype=int64)"
      ]
     },
     "execution_count": 27,
     "metadata": {},
     "output_type": "execute_result"
    }
   ],
   "source": [
    "confusion_matrix(y_test, y_pred)"
   ]
  },
  {
   "cell_type": "code",
   "execution_count": 28,
   "id": "8520c873-4817-4078-a926-c64fe98b91a2",
   "metadata": {},
   "outputs": [
    {
     "data": {
      "text/plain": [
       "0.8079079798705967"
      ]
     },
     "execution_count": 28,
     "metadata": {},
     "output_type": "execute_result"
    }
   ],
   "source": [
    "recall_score(y_test, y_pred)"
   ]
  },
  {
   "cell_type": "code",
   "execution_count": 29,
   "id": "2952a0a8-7fb2-4a28-aeba-f96aa920f7aa",
   "metadata": {},
   "outputs": [
    {
     "name": "stdout",
     "output_type": "stream",
     "text": [
      "              precision    recall  f1-score   support\n",
      "\n",
      "           0       0.94      0.78      0.85     26052\n",
      "           1       0.49      0.81      0.61      6955\n",
      "\n",
      "    accuracy                           0.79     33007\n",
      "   macro avg       0.72      0.79      0.73     33007\n",
      "weighted avg       0.84      0.79      0.80     33007\n",
      "\n"
     ]
    }
   ],
   "source": [
    "print(classification_report(y_test, y_pred))"
   ]
  },
  {
   "cell_type": "code",
   "execution_count": 30,
   "id": "4e03c5c9-0558-4f8a-8976-fa2bd43aab07",
   "metadata": {},
   "outputs": [
    {
     "data": {
      "image/png": "[encoded data removed]",
      "text/plain": [
       "<Figure size 640x480 with 1 Axes>"
      ]
     },
     "metadata": {},
     "output_type": "display_data"
    }
   ],
   "source": [
    "# Predict probabilities\n",
    "y_probs = gs_model.predict_proba(X_test)[:, 1]\n",
    "# Compute ROC curve and AUC\n",
    "fpr, tpr, thresholds = roc_curve(y_test, y_probs)\n",
    "roc_auc = auc(fpr, tpr)\n",
    "# Plotting\n",
    "plt.figure()\n",
    "plt.plot(fpr, tpr, color='darkorange', lw=2, label=f'ROC curve (area = {roc_auc:.2f})')\n",
    "plt.plot([0, 1], [0, 1], color='navy', lw=2, linestyle='--')\n",
    "plt.xlim([0.0, 1.0])\n",
    "plt.ylim([0.0, 1.05])\n",
    "plt.xlabel('False Positive Rate')\n",
    "plt.ylabel('True Positive Rate')\n",
    "plt.title('Receiver Operating Characteristic')\n",
    "plt.legend(loc=\"lower right\")\n",
    "plt.show()"
   ]
  },
  {
   "cell_type": "code",
   "execution_count": 71,
   "id": "4e2efc11-06b7-403d-a45b-2d9e93e932d7",
   "metadata": {},
   "outputs": [],
   "source": [
    "df_test = pd.read_csv(\"test_churn.csv\")"
   ]
  },
  {
   "cell_type": "code",
   "execution_count": 72,
   "id": "28f8aef7-3b26-4af6-907d-c34f0890affc",
   "metadata": {},
   "outputs": [
    {
     "data": {
      "text/html": [
       "<div>\n",
       "<style scoped>\n",
       "    .dataframe tbody tr th:only-of-type {\n",
       "        vertical-align: middle;\n",
       "    }\n",
       "\n",
       "    .dataframe tbody tr th {\n",
       "        vertical-align: top;\n",
       "    }\n",
       "\n",
       "    .dataframe thead th {\n",
       "        text-align: right;\n",
       "    }\n",
       "</style>\n",
       "<table border=\"1\" class=\"dataframe\">\n",
       "  <thead>\n",
       "    <tr style=\"text-align: right;\">\n",
       "      <th></th>\n",
       "      <th>id</th>\n",
       "      <th>CustomerId</th>\n",
       "      <th>Surname</th>\n",
       "      <th>CreditScore</th>\n",
       "      <th>Geography</th>\n",
       "      <th>Gender</th>\n",
       "      <th>Age</th>\n",
       "      <th>Tenure</th>\n",
       "      <th>Balance</th>\n",
       "      <th>NumOfProducts</th>\n",
       "      <th>HasCrCard</th>\n",
       "      <th>IsActiveMember</th>\n",
       "      <th>EstimatedSalary</th>\n",
       "    </tr>\n",
       "  </thead>\n",
       "  <tbody>\n",
       "    <tr>\n",
       "      <th>0</th>\n",
       "      <td>165034</td>\n",
       "      <td>15773898</td>\n",
       "      <td>Lucchese</td>\n",
       "      <td>586</td>\n",
       "      <td>France</td>\n",
       "      <td>Female</td>\n",
       "      <td>23.0</td>\n",
       "      <td>2</td>\n",
       "      <td>0.00</td>\n",
       "      <td>2</td>\n",
       "      <td>0.0</td>\n",
       "      <td>1.0</td>\n",
       "      <td>160976.75</td>\n",
       "    </tr>\n",
       "    <tr>\n",
       "      <th>1</th>\n",
       "      <td>165035</td>\n",
       "      <td>15782418</td>\n",
       "      <td>Nott</td>\n",
       "      <td>683</td>\n",
       "      <td>France</td>\n",
       "      <td>Female</td>\n",
       "      <td>46.0</td>\n",
       "      <td>2</td>\n",
       "      <td>0.00</td>\n",
       "      <td>1</td>\n",
       "      <td>1.0</td>\n",
       "      <td>0.0</td>\n",
       "      <td>72549.27</td>\n",
       "    </tr>\n",
       "    <tr>\n",
       "      <th>2</th>\n",
       "      <td>165036</td>\n",
       "      <td>15807120</td>\n",
       "      <td>K?</td>\n",
       "      <td>656</td>\n",
       "      <td>France</td>\n",
       "      <td>Female</td>\n",
       "      <td>34.0</td>\n",
       "      <td>7</td>\n",
       "      <td>0.00</td>\n",
       "      <td>2</td>\n",
       "      <td>1.0</td>\n",
       "      <td>0.0</td>\n",
       "      <td>138882.09</td>\n",
       "    </tr>\n",
       "    <tr>\n",
       "      <th>3</th>\n",
       "      <td>165037</td>\n",
       "      <td>15808905</td>\n",
       "      <td>O'Donnell</td>\n",
       "      <td>681</td>\n",
       "      <td>France</td>\n",
       "      <td>Male</td>\n",
       "      <td>36.0</td>\n",
       "      <td>8</td>\n",
       "      <td>0.00</td>\n",
       "      <td>1</td>\n",
       "      <td>1.0</td>\n",
       "      <td>0.0</td>\n",
       "      <td>113931.57</td>\n",
       "    </tr>\n",
       "    <tr>\n",
       "      <th>4</th>\n",
       "      <td>165038</td>\n",
       "      <td>15607314</td>\n",
       "      <td>Higgins</td>\n",
       "      <td>752</td>\n",
       "      <td>Germany</td>\n",
       "      <td>Male</td>\n",
       "      <td>38.0</td>\n",
       "      <td>10</td>\n",
       "      <td>121263.62</td>\n",
       "      <td>1</td>\n",
       "      <td>1.0</td>\n",
       "      <td>0.0</td>\n",
       "      <td>139431.00</td>\n",
       "    </tr>\n",
       "    <tr>\n",
       "      <th>...</th>\n",
       "      <td>...</td>\n",
       "      <td>...</td>\n",
       "      <td>...</td>\n",
       "      <td>...</td>\n",
       "      <td>...</td>\n",
       "      <td>...</td>\n",
       "      <td>...</td>\n",
       "      <td>...</td>\n",
       "      <td>...</td>\n",
       "      <td>...</td>\n",
       "      <td>...</td>\n",
       "      <td>...</td>\n",
       "      <td>...</td>\n",
       "    </tr>\n",
       "    <tr>\n",
       "      <th>110018</th>\n",
       "      <td>275052</td>\n",
       "      <td>15662091</td>\n",
       "      <td>P'eng</td>\n",
       "      <td>570</td>\n",
       "      <td>Spain</td>\n",
       "      <td>Male</td>\n",
       "      <td>29.0</td>\n",
       "      <td>7</td>\n",
       "      <td>116099.82</td>\n",
       "      <td>1</td>\n",
       "      <td>1.0</td>\n",
       "      <td>1.0</td>\n",
       "      <td>148087.62</td>\n",
       "    </tr>\n",
       "    <tr>\n",
       "      <th>110019</th>\n",
       "      <td>275053</td>\n",
       "      <td>15774133</td>\n",
       "      <td>Cox</td>\n",
       "      <td>575</td>\n",
       "      <td>France</td>\n",
       "      <td>Female</td>\n",
       "      <td>36.0</td>\n",
       "      <td>4</td>\n",
       "      <td>178032.53</td>\n",
       "      <td>1</td>\n",
       "      <td>1.0</td>\n",
       "      <td>1.0</td>\n",
       "      <td>42181.68</td>\n",
       "    </tr>\n",
       "    <tr>\n",
       "      <th>110020</th>\n",
       "      <td>275054</td>\n",
       "      <td>15728456</td>\n",
       "      <td>Ch'iu</td>\n",
       "      <td>712</td>\n",
       "      <td>France</td>\n",
       "      <td>Male</td>\n",
       "      <td>31.0</td>\n",
       "      <td>2</td>\n",
       "      <td>0.00</td>\n",
       "      <td>2</td>\n",
       "      <td>1.0</td>\n",
       "      <td>0.0</td>\n",
       "      <td>16287.38</td>\n",
       "    </tr>\n",
       "    <tr>\n",
       "      <th>110021</th>\n",
       "      <td>275055</td>\n",
       "      <td>15687541</td>\n",
       "      <td>Yegorova</td>\n",
       "      <td>709</td>\n",
       "      <td>France</td>\n",
       "      <td>Female</td>\n",
       "      <td>32.0</td>\n",
       "      <td>3</td>\n",
       "      <td>0.00</td>\n",
       "      <td>1</td>\n",
       "      <td>1.0</td>\n",
       "      <td>1.0</td>\n",
       "      <td>158816.58</td>\n",
       "    </tr>\n",
       "    <tr>\n",
       "      <th>110022</th>\n",
       "      <td>275056</td>\n",
       "      <td>15663942</td>\n",
       "      <td>Tuan</td>\n",
       "      <td>621</td>\n",
       "      <td>France</td>\n",
       "      <td>Female</td>\n",
       "      <td>37.0</td>\n",
       "      <td>7</td>\n",
       "      <td>87848.39</td>\n",
       "      <td>1</td>\n",
       "      <td>1.0</td>\n",
       "      <td>0.0</td>\n",
       "      <td>24210.56</td>\n",
       "    </tr>\n",
       "  </tbody>\n",
       "</table>\n",
       "<p>110023 rows × 13 columns</p>\n",
       "</div>"
      ],
      "text/plain": [
       "            id  CustomerId    Surname  CreditScore Geography  Gender   Age  \\\n",
       "0       165034    15773898   Lucchese          586    France  Female  23.0   \n",
       "1       165035    15782418       Nott          683    France  Female  46.0   \n",
       "2       165036    15807120         K?          656    France  Female  34.0   \n",
       "3       165037    15808905  O'Donnell          681    France    Male  36.0   \n",
       "4       165038    15607314    Higgins          752   Germany    Male  38.0   \n",
       "...        ...         ...        ...          ...       ...     ...   ...   \n",
       "110018  275052    15662091      P'eng          570     Spain    Male  29.0   \n",
       "110019  275053    15774133        Cox          575    France  Female  36.0   \n",
       "110020  275054    15728456      Ch'iu          712    France    Male  31.0   \n",
       "110021  275055    15687541   Yegorova          709    France  Female  32.0   \n",
       "110022  275056    15663942       Tuan          621    France  Female  37.0   \n",
       "\n",
       "        Tenure    Balance  NumOfProducts  HasCrCard  IsActiveMember  \\\n",
       "0            2       0.00              2        0.0             1.0   \n",
       "1            2       0.00              1        1.0             0.0   \n",
       "2            7       0.00              2        1.0             0.0   \n",
       "3            8       0.00              1        1.0             0.0   \n",
       "4           10  121263.62              1        1.0             0.0   \n",
       "...        ...        ...            ...        ...             ...   \n",
       "110018       7  116099.82              1        1.0             1.0   \n",
       "110019       4  178032.53              1        1.0             1.0   \n",
       "110020       2       0.00              2        1.0             0.0   \n",
       "110021       3       0.00              1        1.0             1.0   \n",
       "110022       7   87848.39              1        1.0             0.0   \n",
       "\n",
       "        EstimatedSalary  \n",
       "0             160976.75  \n",
       "1              72549.27  \n",
       "2             138882.09  \n",
       "3             113931.57  \n",
       "4             139431.00  \n",
       "...                 ...  \n",
       "110018        148087.62  \n",
       "110019         42181.68  \n",
       "110020         16287.38  \n",
       "110021        158816.58  \n",
       "110022         24210.56  \n",
       "\n",
       "[110023 rows x 13 columns]"
      ]
     },
     "execution_count": 72,
     "metadata": {},
     "output_type": "execute_result"
    }
   ],
   "source": [
    "df_test"
   ]
  },
  {
   "cell_type": "code",
   "execution_count": 76,
   "id": "15937af4-f42c-412f-8c98-8e750da42a54",
   "metadata": {},
   "outputs": [
    {
     "data": {
      "text/html": [
       "<div>\n",
       "<style scoped>\n",
       "    .dataframe tbody tr th:only-of-type {\n",
       "        vertical-align: middle;\n",
       "    }\n",
       "\n",
       "    .dataframe tbody tr th {\n",
       "        vertical-align: top;\n",
       "    }\n",
       "\n",
       "    .dataframe thead th {\n",
       "        text-align: right;\n",
       "    }\n",
       "</style>\n",
       "<table border=\"1\" class=\"dataframe\">\n",
       "  <thead>\n",
       "    <tr style=\"text-align: right;\">\n",
       "      <th></th>\n",
       "      <th>id</th>\n",
       "    </tr>\n",
       "  </thead>\n",
       "  <tbody>\n",
       "    <tr>\n",
       "      <th>0</th>\n",
       "      <td>165034</td>\n",
       "    </tr>\n",
       "    <tr>\n",
       "      <th>1</th>\n",
       "      <td>165035</td>\n",
       "    </tr>\n",
       "    <tr>\n",
       "      <th>2</th>\n",
       "      <td>165036</td>\n",
       "    </tr>\n",
       "    <tr>\n",
       "      <th>3</th>\n",
       "      <td>165037</td>\n",
       "    </tr>\n",
       "    <tr>\n",
       "      <th>4</th>\n",
       "      <td>165038</td>\n",
       "    </tr>\n",
       "    <tr>\n",
       "      <th>...</th>\n",
       "      <td>...</td>\n",
       "    </tr>\n",
       "    <tr>\n",
       "      <th>110018</th>\n",
       "      <td>275052</td>\n",
       "    </tr>\n",
       "    <tr>\n",
       "      <th>110019</th>\n",
       "      <td>275053</td>\n",
       "    </tr>\n",
       "    <tr>\n",
       "      <th>110020</th>\n",
       "      <td>275054</td>\n",
       "    </tr>\n",
       "    <tr>\n",
       "      <th>110021</th>\n",
       "      <td>275055</td>\n",
       "    </tr>\n",
       "    <tr>\n",
       "      <th>110022</th>\n",
       "      <td>275056</td>\n",
       "    </tr>\n",
       "  </tbody>\n",
       "</table>\n",
       "<p>110023 rows × 1 columns</p>\n",
       "</div>"
      ],
      "text/plain": [
       "            id\n",
       "0       165034\n",
       "1       165035\n",
       "2       165036\n",
       "3       165037\n",
       "4       165038\n",
       "...        ...\n",
       "110018  275052\n",
       "110019  275053\n",
       "110020  275054\n",
       "110021  275055\n",
       "110022  275056\n",
       "\n",
       "[110023 rows x 1 columns]"
      ]
     },
     "execution_count": 76,
     "metadata": {},
     "output_type": "execute_result"
    }
   ],
   "source": [
    "# Do clean up\n",
    "df_id = pd.DataFrame(df_test[\"id\"])\n",
    "df_id"
   ]
  },
  {
   "cell_type": "code",
   "execution_count": null,
   "id": "664190a0-f91d-4ce1-b892-3e7988632b55",
   "metadata": {},
   "outputs": [],
   "source": [
    "df_test.drop(columns =[ 'id','Surname','CustomerId'] , inplace=True)"
   ]
  },
  {
   "cell_type": "code",
   "execution_count": 58,
   "id": "ed1fef75-25f1-48e4-a8b7-3c9f99987105",
   "metadata": {},
   "outputs": [
    {
     "data": {
      "text/plain": [
       "pandas.core.series.Series"
      ]
     },
     "execution_count": 58,
     "metadata": {},
     "output_type": "execute_result"
    }
   ],
   "source": [
    "type (df_id)"
   ]
  },
  {
   "cell_type": "code",
   "execution_count": 61,
   "id": "393e1cb5-cb31-406d-9a2a-5c24ed163091",
   "metadata": {},
   "outputs": [],
   "source": [
    "X_test_preprocessed , feature_names = cfs.preprocess_dataframe(numerical_features, categorical_features, df_test)"
   ]
  },
  {
   "cell_type": "code",
   "execution_count": 62,
   "id": "7d7df356-4965-413a-9cca-e1f5ab4339a7",
   "metadata": {},
   "outputs": [],
   "source": [
    "y_final_probs = gs_model.predict_proba(X_test_preprocessed)"
   ]
  },
  {
   "cell_type": "code",
   "execution_count": 63,
   "id": "6d1c04f8-ed88-4480-b0d2-5a36a297ba5f",
   "metadata": {},
   "outputs": [
    {
     "data": {
      "text/plain": [
       "(110023, 2)"
      ]
     },
     "execution_count": 63,
     "metadata": {},
     "output_type": "execute_result"
    }
   ],
   "source": [
    "y_final_probs.shape"
   ]
  },
  {
   "cell_type": "code",
   "execution_count": 66,
   "id": "90f5f8df-5fc6-4ded-b210-e7de514db7ab",
   "metadata": {},
   "outputs": [],
   "source": [
    "target = y_final_probs[:,1]"
   ]
  },
  {
   "cell_type": "code",
   "execution_count": 67,
   "id": "f85f5fc1-dd80-4373-bfd2-f503369682b9",
   "metadata": {},
   "outputs": [
    {
     "data": {
      "text/plain": [
       "(110023,)"
      ]
     },
     "execution_count": 67,
     "metadata": {},
     "output_type": "execute_result"
    }
   ],
   "source": [
    "target.shape"
   ]
  },
  {
   "cell_type": "code",
   "execution_count": 68,
   "id": "9289d69d-7c87-4474-a1ed-f952e2eb83ff",
   "metadata": {},
   "outputs": [
    {
     "data": {
      "text/plain": [
       "numpy.ndarray"
      ]
     },
     "execution_count": 68,
     "metadata": {},
     "output_type": "execute_result"
    }
   ],
   "source": [
    "type(target)"
   ]
  },
  {
   "cell_type": "code",
   "execution_count": 77,
   "id": "0c5a9150-2b46-4513-83e5-3a9ec9b7c890",
   "metadata": {},
   "outputs": [],
   "source": [
    "df_exited = pd.DataFrame({'Exited' : target})"
   ]
  },
  {
   "cell_type": "code",
   "execution_count": 78,
   "id": "e0459d09-80ee-4023-afbc-d49039d7b4a5",
   "metadata": {},
   "outputs": [
    {
     "data": {
      "text/html": [
       "<div>\n",
       "<style scoped>\n",
       "    .dataframe tbody tr th:only-of-type {\n",
       "        vertical-align: middle;\n",
       "    }\n",
       "\n",
       "    .dataframe tbody tr th {\n",
       "        vertical-align: top;\n",
       "    }\n",
       "\n",
       "    .dataframe thead th {\n",
       "        text-align: right;\n",
       "    }\n",
       "</style>\n",
       "<table border=\"1\" class=\"dataframe\">\n",
       "  <thead>\n",
       "    <tr style=\"text-align: right;\">\n",
       "      <th></th>\n",
       "      <th>Exited</th>\n",
       "    </tr>\n",
       "  </thead>\n",
       "  <tbody>\n",
       "    <tr>\n",
       "      <th>0</th>\n",
       "      <td>0.185716</td>\n",
       "    </tr>\n",
       "    <tr>\n",
       "      <th>1</th>\n",
       "      <td>0.833272</td>\n",
       "    </tr>\n",
       "    <tr>\n",
       "      <th>2</th>\n",
       "      <td>0.251647</td>\n",
       "    </tr>\n",
       "    <tr>\n",
       "      <th>3</th>\n",
       "      <td>0.426126</td>\n",
       "    </tr>\n",
       "    <tr>\n",
       "      <th>4</th>\n",
       "      <td>0.639130</td>\n",
       "    </tr>\n",
       "    <tr>\n",
       "      <th>...</th>\n",
       "      <td>...</td>\n",
       "    </tr>\n",
       "    <tr>\n",
       "      <th>110018</th>\n",
       "      <td>0.266182</td>\n",
       "    </tr>\n",
       "    <tr>\n",
       "      <th>110019</th>\n",
       "      <td>0.425375</td>\n",
       "    </tr>\n",
       "    <tr>\n",
       "      <th>110020</th>\n",
       "      <td>0.165080</td>\n",
       "    </tr>\n",
       "    <tr>\n",
       "      <th>110021</th>\n",
       "      <td>0.388108</td>\n",
       "    </tr>\n",
       "    <tr>\n",
       "      <th>110022</th>\n",
       "      <td>0.556828</td>\n",
       "    </tr>\n",
       "  </tbody>\n",
       "</table>\n",
       "<p>110023 rows × 1 columns</p>\n",
       "</div>"
      ],
      "text/plain": [
       "          Exited\n",
       "0       0.185716\n",
       "1       0.833272\n",
       "2       0.251647\n",
       "3       0.426126\n",
       "4       0.639130\n",
       "...          ...\n",
       "110018  0.266182\n",
       "110019  0.425375\n",
       "110020  0.165080\n",
       "110021  0.388108\n",
       "110022  0.556828\n",
       "\n",
       "[110023 rows x 1 columns]"
      ]
     },
     "execution_count": 78,
     "metadata": {},
     "output_type": "execute_result"
    }
   ],
   "source": [
    "df_exited"
   ]
  },
  {
   "cell_type": "code",
   "execution_count": 79,
   "id": "ce6afa7c-b660-4cfe-a90a-fe605afd5970",
   "metadata": {},
   "outputs": [],
   "source": [
    "# Concatenating DataFrames vertically based on columns\n",
    "result_df = pd.concat([df_id, df_exited], axis=1)"
   ]
  },
  {
   "cell_type": "code",
   "execution_count": 80,
   "id": "4ac44fde-a611-4b1e-8621-605e8c4e66e8",
   "metadata": {},
   "outputs": [
    {
     "data": {
      "text/html": [
       "<div>\n",
       "<style scoped>\n",
       "    .dataframe tbody tr th:only-of-type {\n",
       "        vertical-align: middle;\n",
       "    }\n",
       "\n",
       "    .dataframe tbody tr th {\n",
       "        vertical-align: top;\n",
       "    }\n",
       "\n",
       "    .dataframe thead th {\n",
       "        text-align: right;\n",
       "    }\n",
       "</style>\n",
       "<table border=\"1\" class=\"dataframe\">\n",
       "  <thead>\n",
       "    <tr style=\"text-align: right;\">\n",
       "      <th></th>\n",
       "      <th>id</th>\n",
       "      <th>Exited</th>\n",
       "    </tr>\n",
       "  </thead>\n",
       "  <tbody>\n",
       "    <tr>\n",
       "      <th>0</th>\n",
       "      <td>165034</td>\n",
       "      <td>0.185716</td>\n",
       "    </tr>\n",
       "    <tr>\n",
       "      <th>1</th>\n",
       "      <td>165035</td>\n",
       "      <td>0.833272</td>\n",
       "    </tr>\n",
       "    <tr>\n",
       "      <th>2</th>\n",
       "      <td>165036</td>\n",
       "      <td>0.251647</td>\n",
       "    </tr>\n",
       "    <tr>\n",
       "      <th>3</th>\n",
       "      <td>165037</td>\n",
       "      <td>0.426126</td>\n",
       "    </tr>\n",
       "    <tr>\n",
       "      <th>4</th>\n",
       "      <td>165038</td>\n",
       "      <td>0.639130</td>\n",
       "    </tr>\n",
       "    <tr>\n",
       "      <th>...</th>\n",
       "      <td>...</td>\n",
       "      <td>...</td>\n",
       "    </tr>\n",
       "    <tr>\n",
       "      <th>110018</th>\n",
       "      <td>275052</td>\n",
       "      <td>0.266182</td>\n",
       "    </tr>\n",
       "    <tr>\n",
       "      <th>110019</th>\n",
       "      <td>275053</td>\n",
       "      <td>0.425375</td>\n",
       "    </tr>\n",
       "    <tr>\n",
       "      <th>110020</th>\n",
       "      <td>275054</td>\n",
       "      <td>0.165080</td>\n",
       "    </tr>\n",
       "    <tr>\n",
       "      <th>110021</th>\n",
       "      <td>275055</td>\n",
       "      <td>0.388108</td>\n",
       "    </tr>\n",
       "    <tr>\n",
       "      <th>110022</th>\n",
       "      <td>275056</td>\n",
       "      <td>0.556828</td>\n",
       "    </tr>\n",
       "  </tbody>\n",
       "</table>\n",
       "<p>110023 rows × 2 columns</p>\n",
       "</div>"
      ],
      "text/plain": [
       "            id    Exited\n",
       "0       165034  0.185716\n",
       "1       165035  0.833272\n",
       "2       165036  0.251647\n",
       "3       165037  0.426126\n",
       "4       165038  0.639130\n",
       "...        ...       ...\n",
       "110018  275052  0.266182\n",
       "110019  275053  0.425375\n",
       "110020  275054  0.165080\n",
       "110021  275055  0.388108\n",
       "110022  275056  0.556828\n",
       "\n",
       "[110023 rows x 2 columns]"
      ]
     },
     "execution_count": 80,
     "metadata": {},
     "output_type": "execute_result"
    }
   ],
   "source": [
    "result_df"
   ]
  },
  {
   "cell_type": "code",
   "execution_count": 81,
   "id": "bc8b1209-efef-4873-8296-b6fb77907c99",
   "metadata": {},
   "outputs": [],
   "source": [
    "result_df.to_csv(\"sample_submission.csv\",index=False)"
   ]
  },
  {
   "cell_type": "code",
   "execution_count": null,
   "id": "a808da44-400d-4278-8235-8694798b3c1b",
   "metadata": {},
   "outputs": [],
   "source": []
  }
 ],
 "metadata": {
  "kernelspec": {
   "display_name": "Python 3 (ipykernel)",
   "language": "python",
   "name": "python3"
  },
  "language_info": {
   "codemirror_mode": {
    "name": "ipython",
    "version": 3
   },
   "file_extension": ".py",
   "mimetype": "text/x-python",
   "name": "python",
   "nbconvert_exporter": "python",
   "pygments_lexer": "ipython3",
   "version": "3.11.5"
  }
 },
 "nbformat": 4,
 "nbformat_minor": 5
}
