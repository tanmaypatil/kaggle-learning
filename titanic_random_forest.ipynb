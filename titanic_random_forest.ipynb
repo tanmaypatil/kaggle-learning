{
 "cells": [
  {
   "cell_type": "markdown",
   "id": "2fcf7a20-0d2b-4048-b15a-e189af5d572b",
   "metadata": {},
   "source": [
    "Current notebook is using random forest as algorithm for - titanic spaceship\n",
    "\n",
    "We want to achieve more accuracy then logistical regression ( 0.78 ) \n",
    "\n",
    "It would be interesting to see if we can get better confusion matrix and  auc value using random forest"
   ]
  },
  {
   "cell_type": "code",
   "execution_count": 1,
   "id": "a929a67f-e7ad-4ecf-8b5a-eaadf0e391d3",
   "metadata": {},
   "outputs": [],
   "source": [
    "import common_functions as cfs\n",
    "import random_forest as ranf\n",
    "import pandas as pd\n",
    "from sklearn.compose import ColumnTransformer\n",
    "from sklearn.pipeline import Pipeline\n",
    "from sklearn.preprocessing import StandardScaler, OneHotEncoder\n",
    "from sklearn.impute import SimpleImputer\n",
    "from sklearn.model_selection import train_test_split\n",
    "from sklearn.linear_model import LogisticRegression\n",
    "from sklearn.metrics import accuracy_score, classification_report\n",
    "from sklearn.model_selection import GridSearchCV\n",
    "import numpy as np\n",
    "import matplotlib.pyplot as plt\n",
    "import seaborn as sns\n",
    "from sklearn.metrics import confusion_matrix\n",
    "import warnings\n",
    "from sklearn.metrics import roc_curve, auc\n",
    "# Import Random Forest Classifier\n",
    "from sklearn.ensemble import RandomForestClassifier\n",
    "from sklearn.model_selection import cross_val_score"
   ]
  },
  {
   "cell_type": "code",
   "execution_count": 2,
   "id": "6d0b8526-1367-4f04-b2fb-c9be13227fb1",
   "metadata": {},
   "outputs": [],
   "source": [
    "# reading the training data\n",
    "df = pd.read_csv(\"C:\\\\Users\\\\u725561\\\\machine-learning\\\\spaceship-titanic\\\\train.csv\")"
   ]
  },
  {
   "cell_type": "code",
   "execution_count": 3,
   "id": "1212be68-c9de-42f8-8675-c816786854b8",
   "metadata": {},
   "outputs": [
    {
     "data": {
      "text/html": [
       "<div>\n",
       "<style scoped>\n",
       "    .dataframe tbody tr th:only-of-type {\n",
       "        vertical-align: middle;\n",
       "    }\n",
       "\n",
       "    .dataframe tbody tr th {\n",
       "        vertical-align: top;\n",
       "    }\n",
       "\n",
       "    .dataframe thead th {\n",
       "        text-align: right;\n",
       "    }\n",
       "</style>\n",
       "<table border=\"1\" class=\"dataframe\">\n",
       "  <thead>\n",
       "    <tr style=\"text-align: right;\">\n",
       "      <th></th>\n",
       "      <th>PassengerId</th>\n",
       "      <th>HomePlanet</th>\n",
       "      <th>CryoSleep</th>\n",
       "      <th>Cabin</th>\n",
       "      <th>Destination</th>\n",
       "      <th>Age</th>\n",
       "      <th>VIP</th>\n",
       "      <th>RoomService</th>\n",
       "      <th>FoodCourt</th>\n",
       "      <th>ShoppingMall</th>\n",
       "      <th>Spa</th>\n",
       "      <th>VRDeck</th>\n",
       "      <th>Name</th>\n",
       "      <th>Transported</th>\n",
       "    </tr>\n",
       "  </thead>\n",
       "  <tbody>\n",
       "    <tr>\n",
       "      <th>0</th>\n",
       "      <td>0001_01</td>\n",
       "      <td>Europa</td>\n",
       "      <td>False</td>\n",
       "      <td>B/0/P</td>\n",
       "      <td>TRAPPIST-1e</td>\n",
       "      <td>39.0</td>\n",
       "      <td>False</td>\n",
       "      <td>0.0</td>\n",
       "      <td>0.0</td>\n",
       "      <td>0.0</td>\n",
       "      <td>0.0</td>\n",
       "      <td>0.0</td>\n",
       "      <td>Maham Ofracculy</td>\n",
       "      <td>False</td>\n",
       "    </tr>\n",
       "    <tr>\n",
       "      <th>1</th>\n",
       "      <td>0002_01</td>\n",
       "      <td>Earth</td>\n",
       "      <td>False</td>\n",
       "      <td>F/0/S</td>\n",
       "      <td>TRAPPIST-1e</td>\n",
       "      <td>24.0</td>\n",
       "      <td>False</td>\n",
       "      <td>109.0</td>\n",
       "      <td>9.0</td>\n",
       "      <td>25.0</td>\n",
       "      <td>549.0</td>\n",
       "      <td>44.0</td>\n",
       "      <td>Juanna Vines</td>\n",
       "      <td>True</td>\n",
       "    </tr>\n",
       "    <tr>\n",
       "      <th>2</th>\n",
       "      <td>0003_01</td>\n",
       "      <td>Europa</td>\n",
       "      <td>False</td>\n",
       "      <td>A/0/S</td>\n",
       "      <td>TRAPPIST-1e</td>\n",
       "      <td>58.0</td>\n",
       "      <td>True</td>\n",
       "      <td>43.0</td>\n",
       "      <td>3576.0</td>\n",
       "      <td>0.0</td>\n",
       "      <td>6715.0</td>\n",
       "      <td>49.0</td>\n",
       "      <td>Altark Susent</td>\n",
       "      <td>False</td>\n",
       "    </tr>\n",
       "    <tr>\n",
       "      <th>3</th>\n",
       "      <td>0003_02</td>\n",
       "      <td>Europa</td>\n",
       "      <td>False</td>\n",
       "      <td>A/0/S</td>\n",
       "      <td>TRAPPIST-1e</td>\n",
       "      <td>33.0</td>\n",
       "      <td>False</td>\n",
       "      <td>0.0</td>\n",
       "      <td>1283.0</td>\n",
       "      <td>371.0</td>\n",
       "      <td>3329.0</td>\n",
       "      <td>193.0</td>\n",
       "      <td>Solam Susent</td>\n",
       "      <td>False</td>\n",
       "    </tr>\n",
       "    <tr>\n",
       "      <th>4</th>\n",
       "      <td>0004_01</td>\n",
       "      <td>Earth</td>\n",
       "      <td>False</td>\n",
       "      <td>F/1/S</td>\n",
       "      <td>TRAPPIST-1e</td>\n",
       "      <td>16.0</td>\n",
       "      <td>False</td>\n",
       "      <td>303.0</td>\n",
       "      <td>70.0</td>\n",
       "      <td>151.0</td>\n",
       "      <td>565.0</td>\n",
       "      <td>2.0</td>\n",
       "      <td>Willy Santantines</td>\n",
       "      <td>True</td>\n",
       "    </tr>\n",
       "    <tr>\n",
       "      <th>...</th>\n",
       "      <td>...</td>\n",
       "      <td>...</td>\n",
       "      <td>...</td>\n",
       "      <td>...</td>\n",
       "      <td>...</td>\n",
       "      <td>...</td>\n",
       "      <td>...</td>\n",
       "      <td>...</td>\n",
       "      <td>...</td>\n",
       "      <td>...</td>\n",
       "      <td>...</td>\n",
       "      <td>...</td>\n",
       "      <td>...</td>\n",
       "      <td>...</td>\n",
       "    </tr>\n",
       "    <tr>\n",
       "      <th>8688</th>\n",
       "      <td>9276_01</td>\n",
       "      <td>Europa</td>\n",
       "      <td>False</td>\n",
       "      <td>A/98/P</td>\n",
       "      <td>55 Cancri e</td>\n",
       "      <td>41.0</td>\n",
       "      <td>True</td>\n",
       "      <td>0.0</td>\n",
       "      <td>6819.0</td>\n",
       "      <td>0.0</td>\n",
       "      <td>1643.0</td>\n",
       "      <td>74.0</td>\n",
       "      <td>Gravior Noxnuther</td>\n",
       "      <td>False</td>\n",
       "    </tr>\n",
       "    <tr>\n",
       "      <th>8689</th>\n",
       "      <td>9278_01</td>\n",
       "      <td>Earth</td>\n",
       "      <td>True</td>\n",
       "      <td>G/1499/S</td>\n",
       "      <td>PSO J318.5-22</td>\n",
       "      <td>18.0</td>\n",
       "      <td>False</td>\n",
       "      <td>0.0</td>\n",
       "      <td>0.0</td>\n",
       "      <td>0.0</td>\n",
       "      <td>0.0</td>\n",
       "      <td>0.0</td>\n",
       "      <td>Kurta Mondalley</td>\n",
       "      <td>False</td>\n",
       "    </tr>\n",
       "    <tr>\n",
       "      <th>8690</th>\n",
       "      <td>9279_01</td>\n",
       "      <td>Earth</td>\n",
       "      <td>False</td>\n",
       "      <td>G/1500/S</td>\n",
       "      <td>TRAPPIST-1e</td>\n",
       "      <td>26.0</td>\n",
       "      <td>False</td>\n",
       "      <td>0.0</td>\n",
       "      <td>0.0</td>\n",
       "      <td>1872.0</td>\n",
       "      <td>1.0</td>\n",
       "      <td>0.0</td>\n",
       "      <td>Fayey Connon</td>\n",
       "      <td>True</td>\n",
       "    </tr>\n",
       "    <tr>\n",
       "      <th>8691</th>\n",
       "      <td>9280_01</td>\n",
       "      <td>Europa</td>\n",
       "      <td>False</td>\n",
       "      <td>E/608/S</td>\n",
       "      <td>55 Cancri e</td>\n",
       "      <td>32.0</td>\n",
       "      <td>False</td>\n",
       "      <td>0.0</td>\n",
       "      <td>1049.0</td>\n",
       "      <td>0.0</td>\n",
       "      <td>353.0</td>\n",
       "      <td>3235.0</td>\n",
       "      <td>Celeon Hontichre</td>\n",
       "      <td>False</td>\n",
       "    </tr>\n",
       "    <tr>\n",
       "      <th>8692</th>\n",
       "      <td>9280_02</td>\n",
       "      <td>Europa</td>\n",
       "      <td>False</td>\n",
       "      <td>E/608/S</td>\n",
       "      <td>TRAPPIST-1e</td>\n",
       "      <td>44.0</td>\n",
       "      <td>False</td>\n",
       "      <td>126.0</td>\n",
       "      <td>4688.0</td>\n",
       "      <td>0.0</td>\n",
       "      <td>0.0</td>\n",
       "      <td>12.0</td>\n",
       "      <td>Propsh Hontichre</td>\n",
       "      <td>True</td>\n",
       "    </tr>\n",
       "  </tbody>\n",
       "</table>\n",
       "<p>8693 rows × 14 columns</p>\n",
       "</div>"
      ],
      "text/plain": [
       "     PassengerId HomePlanet CryoSleep     Cabin    Destination   Age    VIP  \\\n",
       "0        0001_01     Europa     False     B/0/P    TRAPPIST-1e  39.0  False   \n",
       "1        0002_01      Earth     False     F/0/S    TRAPPIST-1e  24.0  False   \n",
       "2        0003_01     Europa     False     A/0/S    TRAPPIST-1e  58.0   True   \n",
       "3        0003_02     Europa     False     A/0/S    TRAPPIST-1e  33.0  False   \n",
       "4        0004_01      Earth     False     F/1/S    TRAPPIST-1e  16.0  False   \n",
       "...          ...        ...       ...       ...            ...   ...    ...   \n",
       "8688     9276_01     Europa     False    A/98/P    55 Cancri e  41.0   True   \n",
       "8689     9278_01      Earth      True  G/1499/S  PSO J318.5-22  18.0  False   \n",
       "8690     9279_01      Earth     False  G/1500/S    TRAPPIST-1e  26.0  False   \n",
       "8691     9280_01     Europa     False   E/608/S    55 Cancri e  32.0  False   \n",
       "8692     9280_02     Europa     False   E/608/S    TRAPPIST-1e  44.0  False   \n",
       "\n",
       "      RoomService  FoodCourt  ShoppingMall     Spa  VRDeck               Name  \\\n",
       "0             0.0        0.0           0.0     0.0     0.0    Maham Ofracculy   \n",
       "1           109.0        9.0          25.0   549.0    44.0       Juanna Vines   \n",
       "2            43.0     3576.0           0.0  6715.0    49.0      Altark Susent   \n",
       "3             0.0     1283.0         371.0  3329.0   193.0       Solam Susent   \n",
       "4           303.0       70.0         151.0   565.0     2.0  Willy Santantines   \n",
       "...           ...        ...           ...     ...     ...                ...   \n",
       "8688          0.0     6819.0           0.0  1643.0    74.0  Gravior Noxnuther   \n",
       "8689          0.0        0.0           0.0     0.0     0.0    Kurta Mondalley   \n",
       "8690          0.0        0.0        1872.0     1.0     0.0       Fayey Connon   \n",
       "8691          0.0     1049.0           0.0   353.0  3235.0   Celeon Hontichre   \n",
       "8692        126.0     4688.0           0.0     0.0    12.0   Propsh Hontichre   \n",
       "\n",
       "      Transported  \n",
       "0           False  \n",
       "1            True  \n",
       "2           False  \n",
       "3           False  \n",
       "4            True  \n",
       "...           ...  \n",
       "8688        False  \n",
       "8689        False  \n",
       "8690         True  \n",
       "8691        False  \n",
       "8692         True  \n",
       "\n",
       "[8693 rows x 14 columns]"
      ]
     },
     "execution_count": 3,
     "metadata": {},
     "output_type": "execute_result"
    }
   ],
   "source": [
    "df"
   ]
  },
  {
   "cell_type": "markdown",
   "id": "fa980293-6658-464d-a1ec-620748fc3692",
   "metadata": {},
   "source": [
    "Check how many unique Homeplanets are present . Idea is to see , if HomePlanet is category field or numeric field \n",
    "\n",
    "As suspected it is a categorical field .\n",
    "\n",
    "It has value of 'Europa', 'Earth', 'Mars' , nan . "
   ]
  },
  {
   "cell_type": "code",
   "execution_count": 4,
   "id": "7aa39347-0033-443c-829d-ba5174189658",
   "metadata": {},
   "outputs": [
    {
     "data": {
      "text/plain": [
       "array(['Europa', 'Earth', 'Mars', nan], dtype=object)"
      ]
     },
     "execution_count": 4,
     "metadata": {},
     "output_type": "execute_result"
    }
   ],
   "source": [
    "df.HomePlanet.unique()"
   ]
  },
  {
   "cell_type": "markdown",
   "id": "d3c5e690-636e-4ed1-8e18-e79756b77ec2",
   "metadata": {},
   "source": [
    "Perform data manipulation . \n",
    "\n",
    "* create new columns out of composite columns  , 'PassengerId' and 'Cabin' columns\n",
    "\n",
    "  PassengerId column will split into 2 new columns Group , NumInGroup\n",
    "\n",
    "   Cabin column will split into 3 new columns CabinDeck , CabinNum , CabinSide\n",
    "\n",
    "* handles missing values\n"
   ]
  },
  {
   "cell_type": "code",
   "execution_count": 5,
   "id": "95237d7e-97ea-49e9-b810-ddc15a80c456",
   "metadata": {},
   "outputs": [],
   "source": [
    "cfs.split_and_createnewcol(df)"
   ]
  },
  {
   "cell_type": "markdown",
   "id": "2fbe3422-7393-4a25-9be3-98e607db0200",
   "metadata": {},
   "source": [
    "Observe the new columns are created "
   ]
  },
  {
   "cell_type": "code",
   "execution_count": 6,
   "id": "68ad491f-367e-4b7f-a3c6-8156059f1c51",
   "metadata": {},
   "outputs": [
    {
     "data": {
      "text/html": [
       "<div>\n",
       "<style scoped>\n",
       "    .dataframe tbody tr th:only-of-type {\n",
       "        vertical-align: middle;\n",
       "    }\n",
       "\n",
       "    .dataframe tbody tr th {\n",
       "        vertical-align: top;\n",
       "    }\n",
       "\n",
       "    .dataframe thead th {\n",
       "        text-align: right;\n",
       "    }\n",
       "</style>\n",
       "<table border=\"1\" class=\"dataframe\">\n",
       "  <thead>\n",
       "    <tr style=\"text-align: right;\">\n",
       "      <th></th>\n",
       "      <th>HomePlanet</th>\n",
       "      <th>CryoSleep</th>\n",
       "      <th>Destination</th>\n",
       "      <th>Age</th>\n",
       "      <th>VIP</th>\n",
       "      <th>RoomService</th>\n",
       "      <th>FoodCourt</th>\n",
       "      <th>ShoppingMall</th>\n",
       "      <th>Spa</th>\n",
       "      <th>VRDeck</th>\n",
       "      <th>Transported</th>\n",
       "      <th>Group</th>\n",
       "      <th>NumInGroup</th>\n",
       "      <th>CabinDeck</th>\n",
       "      <th>CabinNum</th>\n",
       "      <th>CabinSide</th>\n",
       "    </tr>\n",
       "  </thead>\n",
       "  <tbody>\n",
       "    <tr>\n",
       "      <th>0</th>\n",
       "      <td>Europa</td>\n",
       "      <td>False</td>\n",
       "      <td>TRAPPIST-1e</td>\n",
       "      <td>39.0</td>\n",
       "      <td>False</td>\n",
       "      <td>0.0</td>\n",
       "      <td>0.0</td>\n",
       "      <td>0.0</td>\n",
       "      <td>0.0</td>\n",
       "      <td>0.0</td>\n",
       "      <td>False</td>\n",
       "      <td>1</td>\n",
       "      <td>01</td>\n",
       "      <td>B</td>\n",
       "      <td>0</td>\n",
       "      <td>P</td>\n",
       "    </tr>\n",
       "    <tr>\n",
       "      <th>1</th>\n",
       "      <td>Earth</td>\n",
       "      <td>False</td>\n",
       "      <td>TRAPPIST-1e</td>\n",
       "      <td>24.0</td>\n",
       "      <td>False</td>\n",
       "      <td>109.0</td>\n",
       "      <td>9.0</td>\n",
       "      <td>25.0</td>\n",
       "      <td>549.0</td>\n",
       "      <td>44.0</td>\n",
       "      <td>True</td>\n",
       "      <td>2</td>\n",
       "      <td>01</td>\n",
       "      <td>F</td>\n",
       "      <td>0</td>\n",
       "      <td>S</td>\n",
       "    </tr>\n",
       "    <tr>\n",
       "      <th>2</th>\n",
       "      <td>Europa</td>\n",
       "      <td>False</td>\n",
       "      <td>TRAPPIST-1e</td>\n",
       "      <td>58.0</td>\n",
       "      <td>True</td>\n",
       "      <td>43.0</td>\n",
       "      <td>3576.0</td>\n",
       "      <td>0.0</td>\n",
       "      <td>6715.0</td>\n",
       "      <td>49.0</td>\n",
       "      <td>False</td>\n",
       "      <td>3</td>\n",
       "      <td>01</td>\n",
       "      <td>A</td>\n",
       "      <td>0</td>\n",
       "      <td>S</td>\n",
       "    </tr>\n",
       "    <tr>\n",
       "      <th>3</th>\n",
       "      <td>Europa</td>\n",
       "      <td>False</td>\n",
       "      <td>TRAPPIST-1e</td>\n",
       "      <td>33.0</td>\n",
       "      <td>False</td>\n",
       "      <td>0.0</td>\n",
       "      <td>1283.0</td>\n",
       "      <td>371.0</td>\n",
       "      <td>3329.0</td>\n",
       "      <td>193.0</td>\n",
       "      <td>False</td>\n",
       "      <td>3</td>\n",
       "      <td>02</td>\n",
       "      <td>A</td>\n",
       "      <td>0</td>\n",
       "      <td>S</td>\n",
       "    </tr>\n",
       "    <tr>\n",
       "      <th>4</th>\n",
       "      <td>Earth</td>\n",
       "      <td>False</td>\n",
       "      <td>TRAPPIST-1e</td>\n",
       "      <td>16.0</td>\n",
       "      <td>False</td>\n",
       "      <td>303.0</td>\n",
       "      <td>70.0</td>\n",
       "      <td>151.0</td>\n",
       "      <td>565.0</td>\n",
       "      <td>2.0</td>\n",
       "      <td>True</td>\n",
       "      <td>4</td>\n",
       "      <td>01</td>\n",
       "      <td>F</td>\n",
       "      <td>1</td>\n",
       "      <td>S</td>\n",
       "    </tr>\n",
       "    <tr>\n",
       "      <th>...</th>\n",
       "      <td>...</td>\n",
       "      <td>...</td>\n",
       "      <td>...</td>\n",
       "      <td>...</td>\n",
       "      <td>...</td>\n",
       "      <td>...</td>\n",
       "      <td>...</td>\n",
       "      <td>...</td>\n",
       "      <td>...</td>\n",
       "      <td>...</td>\n",
       "      <td>...</td>\n",
       "      <td>...</td>\n",
       "      <td>...</td>\n",
       "      <td>...</td>\n",
       "      <td>...</td>\n",
       "      <td>...</td>\n",
       "    </tr>\n",
       "    <tr>\n",
       "      <th>8688</th>\n",
       "      <td>Europa</td>\n",
       "      <td>False</td>\n",
       "      <td>55 Cancri e</td>\n",
       "      <td>41.0</td>\n",
       "      <td>True</td>\n",
       "      <td>0.0</td>\n",
       "      <td>6819.0</td>\n",
       "      <td>0.0</td>\n",
       "      <td>1643.0</td>\n",
       "      <td>74.0</td>\n",
       "      <td>False</td>\n",
       "      <td>9276</td>\n",
       "      <td>01</td>\n",
       "      <td>A</td>\n",
       "      <td>98</td>\n",
       "      <td>P</td>\n",
       "    </tr>\n",
       "    <tr>\n",
       "      <th>8689</th>\n",
       "      <td>Earth</td>\n",
       "      <td>True</td>\n",
       "      <td>PSO J318.5-22</td>\n",
       "      <td>18.0</td>\n",
       "      <td>False</td>\n",
       "      <td>0.0</td>\n",
       "      <td>0.0</td>\n",
       "      <td>0.0</td>\n",
       "      <td>0.0</td>\n",
       "      <td>0.0</td>\n",
       "      <td>False</td>\n",
       "      <td>9278</td>\n",
       "      <td>01</td>\n",
       "      <td>G</td>\n",
       "      <td>1499</td>\n",
       "      <td>S</td>\n",
       "    </tr>\n",
       "    <tr>\n",
       "      <th>8690</th>\n",
       "      <td>Earth</td>\n",
       "      <td>False</td>\n",
       "      <td>TRAPPIST-1e</td>\n",
       "      <td>26.0</td>\n",
       "      <td>False</td>\n",
       "      <td>0.0</td>\n",
       "      <td>0.0</td>\n",
       "      <td>1872.0</td>\n",
       "      <td>1.0</td>\n",
       "      <td>0.0</td>\n",
       "      <td>True</td>\n",
       "      <td>9279</td>\n",
       "      <td>01</td>\n",
       "      <td>G</td>\n",
       "      <td>1500</td>\n",
       "      <td>S</td>\n",
       "    </tr>\n",
       "    <tr>\n",
       "      <th>8691</th>\n",
       "      <td>Europa</td>\n",
       "      <td>False</td>\n",
       "      <td>55 Cancri e</td>\n",
       "      <td>32.0</td>\n",
       "      <td>False</td>\n",
       "      <td>0.0</td>\n",
       "      <td>1049.0</td>\n",
       "      <td>0.0</td>\n",
       "      <td>353.0</td>\n",
       "      <td>3235.0</td>\n",
       "      <td>False</td>\n",
       "      <td>9280</td>\n",
       "      <td>01</td>\n",
       "      <td>E</td>\n",
       "      <td>608</td>\n",
       "      <td>S</td>\n",
       "    </tr>\n",
       "    <tr>\n",
       "      <th>8692</th>\n",
       "      <td>Europa</td>\n",
       "      <td>False</td>\n",
       "      <td>TRAPPIST-1e</td>\n",
       "      <td>44.0</td>\n",
       "      <td>False</td>\n",
       "      <td>126.0</td>\n",
       "      <td>4688.0</td>\n",
       "      <td>0.0</td>\n",
       "      <td>0.0</td>\n",
       "      <td>12.0</td>\n",
       "      <td>True</td>\n",
       "      <td>9280</td>\n",
       "      <td>02</td>\n",
       "      <td>E</td>\n",
       "      <td>608</td>\n",
       "      <td>S</td>\n",
       "    </tr>\n",
       "  </tbody>\n",
       "</table>\n",
       "<p>8693 rows × 16 columns</p>\n",
       "</div>"
      ],
      "text/plain": [
       "     HomePlanet CryoSleep    Destination   Age    VIP  RoomService  FoodCourt  \\\n",
       "0        Europa     False    TRAPPIST-1e  39.0  False          0.0        0.0   \n",
       "1         Earth     False    TRAPPIST-1e  24.0  False        109.0        9.0   \n",
       "2        Europa     False    TRAPPIST-1e  58.0   True         43.0     3576.0   \n",
       "3        Europa     False    TRAPPIST-1e  33.0  False          0.0     1283.0   \n",
       "4         Earth     False    TRAPPIST-1e  16.0  False        303.0       70.0   \n",
       "...         ...       ...            ...   ...    ...          ...        ...   \n",
       "8688     Europa     False    55 Cancri e  41.0   True          0.0     6819.0   \n",
       "8689      Earth      True  PSO J318.5-22  18.0  False          0.0        0.0   \n",
       "8690      Earth     False    TRAPPIST-1e  26.0  False          0.0        0.0   \n",
       "8691     Europa     False    55 Cancri e  32.0  False          0.0     1049.0   \n",
       "8692     Europa     False    TRAPPIST-1e  44.0  False        126.0     4688.0   \n",
       "\n",
       "      ShoppingMall     Spa  VRDeck  Transported  Group NumInGroup CabinDeck  \\\n",
       "0              0.0     0.0     0.0        False      1         01         B   \n",
       "1             25.0   549.0    44.0         True      2         01         F   \n",
       "2              0.0  6715.0    49.0        False      3         01         A   \n",
       "3            371.0  3329.0   193.0        False      3         02         A   \n",
       "4            151.0   565.0     2.0         True      4         01         F   \n",
       "...            ...     ...     ...          ...    ...        ...       ...   \n",
       "8688           0.0  1643.0    74.0        False   9276         01         A   \n",
       "8689           0.0     0.0     0.0        False   9278         01         G   \n",
       "8690        1872.0     1.0     0.0         True   9279         01         G   \n",
       "8691           0.0   353.0  3235.0        False   9280         01         E   \n",
       "8692           0.0     0.0    12.0         True   9280         02         E   \n",
       "\n",
       "      CabinNum CabinSide  \n",
       "0            0         P  \n",
       "1            0         S  \n",
       "2            0         S  \n",
       "3            0         S  \n",
       "4            1         S  \n",
       "...        ...       ...  \n",
       "8688        98         P  \n",
       "8689      1499         S  \n",
       "8690      1500         S  \n",
       "8691       608         S  \n",
       "8692       608         S  \n",
       "\n",
       "[8693 rows x 16 columns]"
      ]
     },
     "execution_count": 6,
     "metadata": {},
     "output_type": "execute_result"
    }
   ],
   "source": [
    "df"
   ]
  },
  {
   "cell_type": "code",
   "execution_count": 7,
   "id": "0bdbb278-a968-4b76-adb2-51103b51944a",
   "metadata": {},
   "outputs": [
    {
     "data": {
      "text/plain": [
       "CabinDeck\n",
       "F    2794\n",
       "G    2559\n",
       "E     876\n",
       "B     779\n",
       "C     747\n",
       "D     478\n",
       "A     256\n",
       "T       5\n",
       "Name: count, dtype: int64"
      ]
     },
     "execution_count": 7,
     "metadata": {},
     "output_type": "execute_result"
    }
   ],
   "source": [
    "# check the distribution of Cabin Deck . Seems F , G are more frequent\n",
    "df.CabinDeck.value_counts()"
   ]
  },
  {
   "cell_type": "code",
   "execution_count": 8,
   "id": "ab19a5d6-28bf-4073-a1c8-56089ab0fd33",
   "metadata": {},
   "outputs": [
    {
     "name": "stdout",
     "output_type": "stream",
     "text": [
      "<class 'pandas.core.series.Series'>\n",
      "RangeIndex: 8693 entries, 0 to 8692\n",
      "Series name: CabinNum\n",
      "Non-Null Count  Dtype\n",
      "--------------  -----\n",
      "8693 non-null   int32\n",
      "dtypes: int32(1)\n",
      "memory usage: 34.1 KB\n"
     ]
    }
   ],
   "source": [
    "df.CabinNum.info()"
   ]
  },
  {
   "cell_type": "code",
   "execution_count": 9,
   "id": "b23112d2-7ca1-48a7-8016-7e2b897f26f6",
   "metadata": {},
   "outputs": [
    {
     "data": {
      "text/plain": [
       "CabinNum\n",
       "82      29\n",
       "86      23\n",
       "19      22\n",
       "176     21\n",
       "97      21\n",
       "        ..\n",
       "1669     1\n",
       "779      1\n",
       "1547     1\n",
       "1663     1\n",
       "1894     1\n",
       "Name: count, Length: 1817, dtype: int64"
      ]
     },
     "execution_count": 9,
     "metadata": {},
     "output_type": "execute_result"
    }
   ],
   "source": [
    "df.CabinNum.value_counts()"
   ]
  },
  {
   "cell_type": "code",
   "execution_count": 10,
   "id": "61574702-288d-4be9-a694-5adac5fecb59",
   "metadata": {},
   "outputs": [
    {
     "data": {
      "text/plain": [
       "0"
      ]
     },
     "execution_count": 10,
     "metadata": {},
     "output_type": "execute_result"
    }
   ],
   "source": [
    "# find total number of NaN values in the column CabinNum\n",
    "df.CabinNum.isna().sum()"
   ]
  },
  {
   "cell_type": "code",
   "execution_count": 11,
   "id": "1607ea63-1bee-4e73-ae9e-1bac5e2dd63a",
   "metadata": {},
   "outputs": [
    {
     "data": {
      "image/png": "[encoded data removed]",
      "text/plain": [
       "<Figure size 1000x600 with 1 Axes>"
      ]
     },
     "metadata": {},
     "output_type": "display_data"
    }
   ],
   "source": [
    "# check the frequency distribution for Group column. looks evenly distributed\n",
    "cfs.plot_kde('Group',df,'Group density plot')"
   ]
  },
  {
   "cell_type": "code",
   "execution_count": 12,
   "id": "4cf760dd-fac3-410d-8e81-c5e30c2ea47f",
   "metadata": {},
   "outputs": [
    {
     "data": {
      "text/plain": [
       "HomePlanet       object\n",
       "CryoSleep        object\n",
       "Destination      object\n",
       "Age             float64\n",
       "VIP              object\n",
       "RoomService     float64\n",
       "FoodCourt       float64\n",
       "ShoppingMall    float64\n",
       "Spa             float64\n",
       "VRDeck          float64\n",
       "Transported        bool\n",
       "Group             int32\n",
       "NumInGroup       object\n",
       "CabinDeck        object\n",
       "CabinNum          int32\n",
       "CabinSide        object\n",
       "dtype: object"
      ]
     },
     "execution_count": 12,
     "metadata": {},
     "output_type": "execute_result"
    }
   ],
   "source": [
    "# Observe CabinNum is object , which is string , need to convert to int\n",
    "df.dtypes"
   ]
  },
  {
   "cell_type": "code",
   "execution_count": 13,
   "id": "2dcde7c0-2d2e-4804-bc63-d810faec0b36",
   "metadata": {},
   "outputs": [
    {
     "data": {
      "text/plain": [
       "CabinNum\n",
       "82      29\n",
       "86      23\n",
       "19      22\n",
       "176     21\n",
       "97      21\n",
       "        ..\n",
       "1669     1\n",
       "779      1\n",
       "1547     1\n",
       "1663     1\n",
       "1894     1\n",
       "Name: count, Length: 1817, dtype: int64"
      ]
     },
     "execution_count": 13,
     "metadata": {},
     "output_type": "execute_result"
    }
   ],
   "source": [
    "# observed that CabinNum 82 has frequency unchanged /not changed much\n",
    "df.CabinNum.value_counts()"
   ]
  },
  {
   "cell_type": "code",
   "execution_count": 14,
   "id": "6350097f-3847-4575-b89a-7351a222c018",
   "metadata": {},
   "outputs": [
    {
     "data": {
      "text/plain": [
       "CabinSide\n",
       "S    4288\n",
       "P    4206\n",
       "Name: count, dtype: int64"
      ]
     },
     "execution_count": 14,
     "metadata": {},
     "output_type": "execute_result"
    }
   ],
   "source": [
    "# check the distribution of CabinSide . It has only 2 unique values S and P . Probably should drop ?\n",
    "df.CabinSide.value_counts()"
   ]
  },
  {
   "cell_type": "code",
   "execution_count": 15,
   "id": "032dfac5-0130-40e2-b62e-3a9b7a0d338d",
   "metadata": {},
   "outputs": [
    {
     "data": {
      "text/plain": [
       "Transported\n",
       "True     4378\n",
       "False    4315\n",
       "Name: count, dtype: int64"
      ]
     },
     "execution_count": 15,
     "metadata": {},
     "output_type": "execute_result"
    }
   ],
   "source": [
    "# Check whether the target variable is distributed uniformly . would observe that almost evenly distributed\n",
    "df.Transported.value_counts()"
   ]
  },
  {
   "cell_type": "code",
   "execution_count": 16,
   "id": "a3944929-99f5-4a04-98c4-7e4b8a024bf6",
   "metadata": {},
   "outputs": [
    {
     "data": {
      "text/plain": [
       "array([0, 1, 0, ..., 1, 0, 1])"
      ]
     },
     "execution_count": 16,
     "metadata": {},
     "output_type": "execute_result"
    }
   ],
   "source": [
    "# extract target column into a numpy array . This would go into fit as argument \n",
    "y = cfs.extract_target_column(df,\"Transported\")\n",
    "y"
   ]
  },
  {
   "cell_type": "code",
   "execution_count": 17,
   "id": "2bfbc119-43a1-4105-81a7-0d924617bb1d",
   "metadata": {},
   "outputs": [
    {
     "data": {
      "text/plain": [
       "(8693, 15)"
      ]
     },
     "execution_count": 17,
     "metadata": {},
     "output_type": "execute_result"
    }
   ],
   "source": [
    "df.shape"
   ]
  },
  {
   "cell_type": "code",
   "execution_count": 18,
   "id": "b98ed452-3b9b-4b70-b57e-a2f98c90b0bb",
   "metadata": {},
   "outputs": [
    {
     "data": {
      "text/plain": [
       "array(['TRAPPIST-1e', 'PSO J318.5-22', '55 Cancri e', nan], dtype=object)"
      ]
     },
     "execution_count": 18,
     "metadata": {},
     "output_type": "execute_result"
    }
   ],
   "source": [
    "df.Destination.unique()"
   ]
  },
  {
   "cell_type": "code",
   "execution_count": 19,
   "id": "94e11df0-a18e-4078-9191-b29716051d3d",
   "metadata": {},
   "outputs": [
    {
     "name": "stdout",
     "output_type": "stream",
     "text": [
      "['HomePlanet', 'CryoSleep', 'Destination', 'Age', 'VIP', 'RoomService', 'FoodCourt', 'ShoppingMall', 'Spa', 'VRDeck', 'CabinDeck', 'CabinSide']\n"
     ]
    }
   ],
   "source": [
    "null_columns = df.columns[df.isna().any()].tolist()\n",
    "print(null_columns)"
   ]
  },
  {
   "cell_type": "code",
   "execution_count": 20,
   "id": "c4b286ed-5995-49e8-a48c-30cfd4fa2437",
   "metadata": {},
   "outputs": [
    {
     "name": "stdout",
     "output_type": "stream",
     "text": [
      "numerical features Index(['Age', 'RoomService', 'FoodCourt', 'ShoppingMall', 'Spa', 'VRDeck',\n",
      "       'Group', 'CabinNum'],\n",
      "      dtype='object')\n",
      "categorical features Index(['HomePlanet', 'CryoSleep', 'Destination', 'VIP', 'NumInGroup',\n",
      "       'CabinDeck', 'CabinSide'],\n",
      "      dtype='object')\n"
     ]
    }
   ],
   "source": [
    "# Separate features into numerical and categorical\n",
    "numerical_features = df.select_dtypes(include=['float64','int32']).columns\n",
    "print(f\"numerical features {numerical_features}\")\n",
    "categorical_features = df.select_dtypes(include=['object']).columns\n",
    "print(f\"categorical features {categorical_features}\")"
   ]
  },
  {
   "cell_type": "markdown",
   "id": "ed830973-bd96-43d9-8096-18fd4ca31fd4",
   "metadata": {},
   "source": [
    "Preprocess the dataframe \n",
    "* using scaler and imputer\n",
    "* Both numeric and cate"
   ]
  },
  {
   "cell_type": "code",
   "execution_count": 21,
   "id": "4845ff1b-2f31-47a7-b648-ed523aa69c84",
   "metadata": {},
   "outputs": [],
   "source": [
    "X_preprocessed , feature_names = cfs.preprocess_dataframe(numerical_features, categorical_features, df)"
   ]
  },
  {
   "cell_type": "code",
   "execution_count": 22,
   "id": "3f5f0f3d-8cc0-432b-bed7-31315f81d466",
   "metadata": {},
   "outputs": [
    {
     "data": {
      "text/plain": [
       "(8693, 36)"
      ]
     },
     "execution_count": 22,
     "metadata": {},
     "output_type": "execute_result"
    }
   ],
   "source": [
    "# check that preprocessing has increased the number of coluns\n",
    "X_preprocessed.shape"
   ]
  },
  {
   "cell_type": "code",
   "execution_count": 23,
   "id": "5cf65ef7-7004-4f6d-972e-86f79a29f260",
   "metadata": {},
   "outputs": [
    {
     "name": "stdout",
     "output_type": "stream",
     "text": [
      "      num__Age  num__RoomService  num__FoodCourt  num__ShoppingMall  num__Spa  \\\n",
      "0     0.709437         -0.340590       -0.287314          -0.290817 -0.276663   \n",
      "1    -0.336717         -0.175364       -0.281669          -0.248968  0.211505   \n",
      "2     2.034566         -0.275409        1.955616          -0.290817  5.694289   \n",
      "3     0.290975         -0.340590        0.517406           0.330225  2.683471   \n",
      "4    -0.894666          0.118709       -0.243409          -0.038048  0.225732   \n",
      "...        ...               ...             ...                ...       ...   \n",
      "8688  0.848924         -0.340590        3.989682          -0.290817  1.184286   \n",
      "8689 -0.755179         -0.340590       -0.287314          -0.290817 -0.276663   \n",
      "8690 -0.197230         -0.340590       -0.287314           2.842851 -0.275774   \n",
      "8691  0.221232         -0.340590        0.370637          -0.290817  0.037223   \n",
      "8692  1.058155         -0.149594        2.653082          -0.290817 -0.276663   \n",
      "\n",
      "      num__VRDeck  num__Group  num__CabinNum  cat__HomePlanet_Earth  \\\n",
      "0       -0.269023   -1.734409      -1.172652                    0.0   \n",
      "1       -0.230194   -1.734034      -1.172652                    1.0   \n",
      "2       -0.225782   -1.733660      -1.172652                    0.0   \n",
      "3       -0.098708   -1.733660      -1.172652                    0.0   \n",
      "4       -0.267258   -1.733286      -1.170699                    1.0   \n",
      "...           ...         ...            ...                    ...   \n",
      "8688    -0.203720    1.738236      -0.981169                    0.0   \n",
      "8689    -0.269023    1.738984       1.756270                    1.0   \n",
      "8690    -0.269023    1.739359       1.758223                    1.0   \n",
      "8691     2.585740    1.739733       0.015329                    0.0   \n",
      "8692    -0.258433    1.739733       0.015329                    0.0   \n",
      "\n",
      "      cat__HomePlanet_Europa  ...  cat__CabinDeck_A  cat__CabinDeck_B  \\\n",
      "0                        1.0  ...               0.0               1.0   \n",
      "1                        0.0  ...               0.0               0.0   \n",
      "2                        1.0  ...               1.0               0.0   \n",
      "3                        1.0  ...               1.0               0.0   \n",
      "4                        0.0  ...               0.0               0.0   \n",
      "...                      ...  ...               ...               ...   \n",
      "8688                     1.0  ...               1.0               0.0   \n",
      "8689                     0.0  ...               0.0               0.0   \n",
      "8690                     0.0  ...               0.0               0.0   \n",
      "8691                     1.0  ...               0.0               0.0   \n",
      "8692                     1.0  ...               0.0               0.0   \n",
      "\n",
      "      cat__CabinDeck_C  cat__CabinDeck_D  cat__CabinDeck_E  cat__CabinDeck_F  \\\n",
      "0                  0.0               0.0               0.0               0.0   \n",
      "1                  0.0               0.0               0.0               1.0   \n",
      "2                  0.0               0.0               0.0               0.0   \n",
      "3                  0.0               0.0               0.0               0.0   \n",
      "4                  0.0               0.0               0.0               1.0   \n",
      "...                ...               ...               ...               ...   \n",
      "8688               0.0               0.0               0.0               0.0   \n",
      "8689               0.0               0.0               0.0               0.0   \n",
      "8690               0.0               0.0               0.0               0.0   \n",
      "8691               0.0               0.0               1.0               0.0   \n",
      "8692               0.0               0.0               1.0               0.0   \n",
      "\n",
      "      cat__CabinDeck_G  cat__CabinDeck_T  cat__CabinSide_P  cat__CabinSide_S  \n",
      "0                  0.0               0.0               1.0               0.0  \n",
      "1                  0.0               0.0               0.0               1.0  \n",
      "2                  0.0               0.0               0.0               1.0  \n",
      "3                  0.0               0.0               0.0               1.0  \n",
      "4                  0.0               0.0               0.0               1.0  \n",
      "...                ...               ...               ...               ...  \n",
      "8688               0.0               0.0               1.0               0.0  \n",
      "8689               1.0               0.0               0.0               1.0  \n",
      "8690               1.0               0.0               0.0               1.0  \n",
      "8691               0.0               0.0               0.0               1.0  \n",
      "8692               0.0               0.0               0.0               1.0  \n",
      "\n",
      "[8693 rows x 36 columns]\n"
     ]
    }
   ],
   "source": [
    "X_preprocessed_df = pd.DataFrame(data=X_preprocessed, columns=feature_names)\n",
    "\n",
    "# Display the preprocessed DataFrame\n",
    "print(X_preprocessed_df)"
   ]
  },
  {
   "cell_type": "code",
   "execution_count": 24,
   "id": "5710735d-1a79-41f0-bfa7-0baf9993f5f2",
   "metadata": {},
   "outputs": [],
   "source": [
    "# Split the dataset into training and testing sets\n",
    "X_train, X_test, y_train, y_test = train_test_split(X_preprocessed, y, test_size=0.2, random_state=42)"
   ]
  },
  {
   "cell_type": "markdown",
   "id": "1eb00de0-88a9-4191-bff6-0ccf6751c7cb",
   "metadata": {},
   "source": [
    "Use *Random forest classifier* \n",
    "* Logistical regression give accuracy of 0.780\n",
    "* Random forest is expected to behave better . I see that it doing slightly better but not much better 0.788\n",
    "* Also check precision/recall , F1-score"
   ]
  },
  {
   "cell_type": "code",
   "execution_count": 25,
   "id": "bb6aa7bf-b4c3-4d24-99bd-433d339d7a73",
   "metadata": {},
   "outputs": [
    {
     "name": "stdout",
     "output_type": "stream",
     "text": [
      "Accuracy: [0.807 0.813 0.794 0.802 0.801]\n",
      "Accuracy mean: 0.803\n"
     ]
    }
   ],
   "source": [
    "# Initialize the classifier\n",
    "rf = RandomForestClassifier(n_estimators=100, oob_score=True, random_state=2, n_jobs=-1)\n",
    "\n",
    "# Obtain scores of cross-validation\n",
    "scores = cross_val_score(rf, X_train, y_train, cv=5)\n",
    "\n",
    "# Display accuracy\n",
    "print('Accuracy:', np.round(scores, 3))\n",
    "\n",
    "# Display mean accuracy\n",
    "print('Accuracy mean: %0.3f' % (scores.mean()))"
   ]
  },
  {
   "cell_type": "code",
   "execution_count": 26,
   "id": "60b8bea7-c0f4-4109-88aa-2914e4a7bcd9",
   "metadata": {},
   "outputs": [],
   "source": [
    "rf.fit(X_train,y_train)\n",
    "y_pred = rf.predict(X_test)"
   ]
  },
  {
   "cell_type": "code",
   "execution_count": 27,
   "id": "7d4c331c-541c-4571-b708-cdb076dfc4ee",
   "metadata": {},
   "outputs": [
    {
     "data": {
      "text/plain": [
       "0.8050043140638481"
      ]
     },
     "execution_count": 27,
     "metadata": {},
     "output_type": "execute_result"
    }
   ],
   "source": [
    "# Display oob_score\n",
    "rf.oob_score_"
   ]
  },
  {
   "cell_type": "code",
   "execution_count": 28,
   "id": "9b4066b3-f594-48e5-9530-8749ecc14801",
   "metadata": {},
   "outputs": [
    {
     "name": "stdout",
     "output_type": "stream",
     "text": [
      "              precision    recall  f1-score   support\n",
      "\n",
      "           0       0.79      0.82      0.80       861\n",
      "           1       0.82      0.78      0.80       878\n",
      "\n",
      "    accuracy                           0.80      1739\n",
      "   macro avg       0.80      0.80      0.80      1739\n",
      "weighted avg       0.80      0.80      0.80      1739\n",
      "\n"
     ]
    }
   ],
   "source": [
    "report = classification_report(y_test, y_pred)\n",
    "print(report)"
   ]
  },
  {
   "cell_type": "code",
   "execution_count": 29,
   "id": "e3c15502-ca4c-4eb4-8158-ab08e8648caf",
   "metadata": {},
   "outputs": [
    {
     "name": "stdout",
     "output_type": "stream",
     "text": [
      "accuracy on full dataset 0.8016101207590569\n"
     ]
    }
   ],
   "source": [
    "accuracy = accuracy_score(y_test, y_pred)\n",
    "print(f\"accuracy on full dataset {accuracy}\")"
   ]
  },
  {
   "cell_type": "markdown",
   "id": "5324a184-11b6-46bd-9eda-fc09e2ac3fc7",
   "metadata": {},
   "source": [
    "More than accuracy , confusion matrix is also important to check , how is the confusion matrix \n",
    "* TPR and FPR - true positive and false positive "
   ]
  },
  {
   "cell_type": "code",
   "execution_count": 30,
   "id": "38f2bd32-8324-4485-adea-13deac8ab246",
   "metadata": {},
   "outputs": [],
   "source": [
    "cm = confusion_matrix(y_test,y_pred)"
   ]
  },
  {
   "cell_type": "code",
   "execution_count": 31,
   "id": "a664ecbf-8110-4776-9897-33e0ac007216",
   "metadata": {},
   "outputs": [
    {
     "name": "stdout",
     "output_type": "stream",
     "text": [
      "true positive : 685\n",
      "false positive : 152\n",
      "false negative : 193\n"
     ]
    }
   ],
   "source": [
    "tp = cm[1,1]\n",
    "fp = cm[0,1]\n",
    "fn = cm[1,0]\n",
    "print(f\"true positive : {tp}\")\n",
    "print(f\"false positive : {fp}\")\n",
    "print(f\"false negative : {fn}\")\n"
   ]
  },
  {
   "cell_type": "markdown",
   "id": "bd16fce7-1631-4fa6-b394-d94ed97f1e67",
   "metadata": {},
   "source": [
    "print the confusion matrix \n",
    "compare with that of logistic regression .\n",
    "for logistic regression it is \n",
    "647,214\n",
    "167,711\n"
   ]
  },
  {
   "cell_type": "code",
   "execution_count": 32,
   "id": "4f611e7e-69be-4653-9436-8a4d07e03dd7",
   "metadata": {},
   "outputs": [
    {
     "data": {
      "image/png": "[encoded data removed]",
      "text/plain": [
       "<Figure size 800x600 with 2 Axes>"
      ]
     },
     "metadata": {},
     "output_type": "display_data"
    }
   ],
   "source": [
    "# plot the confusion matrix\n",
    "plt.figure(figsize=(8, 6))\n",
    "sns.heatmap(cm, annot=True, fmt=\"d\", cmap='Blues', xticklabels='Transported', yticklabels='Transported')\n",
    "plt.ylabel('Actual')\n",
    "plt.xlabel('Predicted')\n",
    "plt.title('Confusion Matrix')\n",
    "plt.show()"
   ]
  },
  {
   "cell_type": "markdown",
   "id": "ac8ebda6-e232-41d0-89e8-4f9bf617afc7",
   "metadata": {},
   "source": [
    "### Print receiver operator characteristic\n",
    "* Logistic regression - roc curve 0.87\n",
    "* Random forest - roc curve 0.86 with n_estimators = 10\n",
    "* Random forest - roc curve 0.88 with n_estimators = 50\n",
    "\n",
    "Random forest is not currently better than Logistic regression with current model"
   ]
  },
  {
   "cell_type": "code",
   "execution_count": 33,
   "id": "1d9e7182-da15-4f14-ae8c-9a11327d8a7b",
   "metadata": {},
   "outputs": [
    {
     "data": {
      "image/png": "[encoded data removed]",
      "text/plain": [
       "<Figure size 640x480 with 1 Axes>"
      ]
     },
     "metadata": {},
     "output_type": "display_data"
    }
   ],
   "source": [
    "# Predict probabilities\n",
    "y_probs = rf.predict_proba(X_test)[:, 1]\n",
    "# Compute ROC curve and AUC\n",
    "fpr, tpr, thresholds = roc_curve(y_test, y_probs)\n",
    "roc_auc = auc(fpr, tpr)\n",
    "# Plotting\n",
    "plt.figure()\n",
    "plt.plot(fpr, tpr, color='darkorange', lw=2, label=f'ROC curve (area = {roc_auc:.2f})')\n",
    "plt.plot([0, 1], [0, 1], color='navy', lw=2, linestyle='--')\n",
    "plt.xlim([0.0, 1.0])\n",
    "plt.ylim([0.0, 1.05])\n",
    "plt.xlabel('False Positive Rate')\n",
    "plt.ylabel('True Positive Rate')\n",
    "plt.title('Receiver Operating Characteristic')\n",
    "plt.legend(loc=\"lower right\")\n",
    "plt.show()"
   ]
  },
  {
   "cell_type": "markdown",
   "id": "154ed266-799e-45f3-a86a-63b40c7f27e9",
   "metadata": {},
   "source": [
    "### Use Randomized grid search\n",
    "We will try to tune the hyperparameters of random forest using Randomized grid search "
   ]
  },
  {
   "cell_type": "code",
   "execution_count": 51,
   "id": "882f5d78-7f41-46fc-a97d-5d18e01b74c5",
   "metadata": {},
   "outputs": [],
   "source": [
    "rf_grid = RandomForestClassifier( n_jobs=-1, random_state=2)"
   ]
  },
  {
   "cell_type": "code",
   "execution_count": 56,
   "id": "acb9de6d-6291-4693-9b94-d10f94679c59",
   "metadata": {},
   "outputs": [
    {
     "name": "stdout",
     "output_type": "stream",
     "text": [
      "Best params: {'n_estimators': 100, 'min_weight_fraction_leaf': 0.0025, 'min_samples_split': 0.01, 'min_samples_leaf': 2, 'min_impurity_decrease': 0.0, 'max_leaf_nodes': 30, 'max_features': 0.8, 'max_depth': 10}\n",
      "Training score: 0.806\n",
      "report post randomised grid search on best model - Validation data :\n",
      "               precision    recall  f1-score   support\n",
      "\n",
      "           0       0.82      0.73      0.77       861\n",
      "           1       0.76      0.84      0.80       878\n",
      "\n",
      "    accuracy                           0.79      1739\n",
      "   macro avg       0.79      0.79      0.79      1739\n",
      "weighted avg       0.79      0.79      0.79      1739\n",
      "\n"
     ]
    }
   ],
   "source": [
    "best_rf_model, y_pred = ranf.randomized_search_class(X_train,y_train,X_test,y_test, params={'min_weight_fraction_leaf':[0.0, 0.0025, 0.005, 0.0075, 0.01, 0.05],\n",
    "                          'min_samples_split':[2, 0.01, 0.02, 0.03, 0.04, 0.06, 0.08, 0.1],\n",
    "                          'min_samples_leaf':[1,2,4,6,8,10,20,30],\n",
    "                          'min_impurity_decrease':[0.0, 0.01, 0.05, 0.10, 0.15, 0.2],\n",
    "                          'max_leaf_nodes':[10, 15, 20, 25, 30, 35, 40, 45, 50, None],\n",
    "                          'max_features':[ 0.8, 0.7, 0.6, 0.5, 0.4],\n",
    "                          'max_depth':[None,2,4,6,8,10,20],\n",
    "                          'n_estimators': [ 75,90,100]                                                                    \n",
    "                         },scoring='f1',reg=rf_grid,runs=16)"
   ]
  },
  {
   "cell_type": "code",
   "execution_count": 57,
   "id": "ddf2f67b-aa4d-4798-b1dc-b5e3d7fe0c2a",
   "metadata": {},
   "outputs": [],
   "source": [
    "cm_rf = confusion_matrix(y_test,y_pred)"
   ]
  },
  {
   "cell_type": "code",
   "execution_count": 58,
   "id": "d1f78e04-af4d-4b13-b3f3-781d395950cc",
   "metadata": {},
   "outputs": [
    {
     "data": {
      "image/png": "[encoded data removed]",
      "text/plain": [
       "<Figure size 800x600 with 2 Axes>"
      ]
     },
     "metadata": {},
     "output_type": "display_data"
    }
   ],
   "source": [
    "# plot the confusion matrix\n",
    "plt.figure(figsize=(8, 6))\n",
    "sns.heatmap(cm_rf, annot=True, fmt=\"d\", cmap='Blues', xticklabels='Transported', yticklabels='Transported')\n",
    "plt.ylabel('Actual')\n",
    "plt.xlabel('Predicted')\n",
    "plt.title('Confusion Matrix')\n",
    "plt.show()"
   ]
  },
  {
   "cell_type": "code",
   "execution_count": 59,
   "id": "37d5373c-ee17-4ea3-8b81-0000bd5c5977",
   "metadata": {},
   "outputs": [
    {
     "data": {
      "image/png": "[encoded data removed]",
      "text/plain": [
       "<Figure size 640x480 with 1 Axes>"
      ]
     },
     "metadata": {},
     "output_type": "display_data"
    }
   ],
   "source": [
    "# Predict probabilities\n",
    "y_probs = best_rf_model.predict_proba(X_test)[:, 1]\n",
    "# Compute ROC curve and AUC\n",
    "fpr, tpr, thresholds = roc_curve(y_test, y_probs)\n",
    "roc_auc = auc(fpr, tpr)\n",
    "# Plotting\n",
    "plt.figure()\n",
    "plt.plot(fpr, tpr, color='darkorange', lw=2, label=f'ROC curve (area = {roc_auc:.2f})')\n",
    "plt.plot([0, 1], [0, 1], color='navy', lw=2, linestyle='--')\n",
    "plt.xlim([0.0, 1.0])\n",
    "plt.ylim([0.0, 1.05])\n",
    "plt.xlabel('False Positive Rate')\n",
    "plt.ylabel('True Positive Rate')\n",
    "plt.title('Receiver Operating Characteristic')\n",
    "plt.legend(loc=\"lower right\")\n",
    "plt.show()"
   ]
  },
  {
   "cell_type": "code",
   "execution_count": 62,
   "id": "a4844f8e-d3a7-41c5-a280-8fea93467fa7",
   "metadata": {},
   "outputs": [],
   "source": [
    "# perform evaluation on test data \n",
    "df_test = pd.read_csv(\"C:\\\\Users\\\\u725561\\\\machine-learning\\\\spaceship-titanic\\\\test.csv\")"
   ]
  },
  {
   "cell_type": "code",
   "execution_count": 63,
   "id": "6705bc73-aff1-4167-8b28-5ca0d57c3558",
   "metadata": {},
   "outputs": [],
   "source": [
    "keycol_df = pd.DataFrame()\n",
    "keycol_df[\"PassengerId\"] = df_test[\"PassengerId\"]"
   ]
  },
  {
   "cell_type": "code",
   "execution_count": 65,
   "id": "b117ccbc-0794-49d2-a28b-2d7f70118ffd",
   "metadata": {},
   "outputs": [],
   "source": [
    "cfs.split_and_createnewcol(df_test)"
   ]
  },
  {
   "cell_type": "code",
   "execution_count": 66,
   "id": "fb879e23-8391-4ce8-854d-f255d87115e6",
   "metadata": {},
   "outputs": [
    {
     "data": {
      "text/html": [
       "<div>\n",
       "<style scoped>\n",
       "    .dataframe tbody tr th:only-of-type {\n",
       "        vertical-align: middle;\n",
       "    }\n",
       "\n",
       "    .dataframe tbody tr th {\n",
       "        vertical-align: top;\n",
       "    }\n",
       "\n",
       "    .dataframe thead th {\n",
       "        text-align: right;\n",
       "    }\n",
       "</style>\n",
       "<table border=\"1\" class=\"dataframe\">\n",
       "  <thead>\n",
       "    <tr style=\"text-align: right;\">\n",
       "      <th></th>\n",
       "      <th>HomePlanet</th>\n",
       "      <th>CryoSleep</th>\n",
       "      <th>Destination</th>\n",
       "      <th>Age</th>\n",
       "      <th>VIP</th>\n",
       "      <th>RoomService</th>\n",
       "      <th>FoodCourt</th>\n",
       "      <th>ShoppingMall</th>\n",
       "      <th>Spa</th>\n",
       "      <th>VRDeck</th>\n",
       "      <th>Group</th>\n",
       "      <th>NumInGroup</th>\n",
       "      <th>CabinDeck</th>\n",
       "      <th>CabinNum</th>\n",
       "      <th>CabinSide</th>\n",
       "    </tr>\n",
       "  </thead>\n",
       "  <tbody>\n",
       "    <tr>\n",
       "      <th>0</th>\n",
       "      <td>Earth</td>\n",
       "      <td>True</td>\n",
       "      <td>TRAPPIST-1e</td>\n",
       "      <td>27.0</td>\n",
       "      <td>False</td>\n",
       "      <td>0.0</td>\n",
       "      <td>0.0</td>\n",
       "      <td>0.0</td>\n",
       "      <td>0.0</td>\n",
       "      <td>0.0</td>\n",
       "      <td>13</td>\n",
       "      <td>01</td>\n",
       "      <td>G</td>\n",
       "      <td>3</td>\n",
       "      <td>S</td>\n",
       "    </tr>\n",
       "    <tr>\n",
       "      <th>1</th>\n",
       "      <td>Earth</td>\n",
       "      <td>False</td>\n",
       "      <td>TRAPPIST-1e</td>\n",
       "      <td>19.0</td>\n",
       "      <td>False</td>\n",
       "      <td>0.0</td>\n",
       "      <td>9.0</td>\n",
       "      <td>0.0</td>\n",
       "      <td>2823.0</td>\n",
       "      <td>0.0</td>\n",
       "      <td>18</td>\n",
       "      <td>01</td>\n",
       "      <td>F</td>\n",
       "      <td>4</td>\n",
       "      <td>S</td>\n",
       "    </tr>\n",
       "    <tr>\n",
       "      <th>2</th>\n",
       "      <td>Europa</td>\n",
       "      <td>True</td>\n",
       "      <td>55 Cancri e</td>\n",
       "      <td>31.0</td>\n",
       "      <td>False</td>\n",
       "      <td>0.0</td>\n",
       "      <td>0.0</td>\n",
       "      <td>0.0</td>\n",
       "      <td>0.0</td>\n",
       "      <td>0.0</td>\n",
       "      <td>19</td>\n",
       "      <td>01</td>\n",
       "      <td>C</td>\n",
       "      <td>0</td>\n",
       "      <td>S</td>\n",
       "    </tr>\n",
       "    <tr>\n",
       "      <th>3</th>\n",
       "      <td>Europa</td>\n",
       "      <td>False</td>\n",
       "      <td>TRAPPIST-1e</td>\n",
       "      <td>38.0</td>\n",
       "      <td>False</td>\n",
       "      <td>0.0</td>\n",
       "      <td>6652.0</td>\n",
       "      <td>0.0</td>\n",
       "      <td>181.0</td>\n",
       "      <td>585.0</td>\n",
       "      <td>21</td>\n",
       "      <td>01</td>\n",
       "      <td>C</td>\n",
       "      <td>1</td>\n",
       "      <td>S</td>\n",
       "    </tr>\n",
       "    <tr>\n",
       "      <th>4</th>\n",
       "      <td>Earth</td>\n",
       "      <td>False</td>\n",
       "      <td>TRAPPIST-1e</td>\n",
       "      <td>20.0</td>\n",
       "      <td>False</td>\n",
       "      <td>10.0</td>\n",
       "      <td>0.0</td>\n",
       "      <td>635.0</td>\n",
       "      <td>0.0</td>\n",
       "      <td>0.0</td>\n",
       "      <td>23</td>\n",
       "      <td>01</td>\n",
       "      <td>F</td>\n",
       "      <td>5</td>\n",
       "      <td>S</td>\n",
       "    </tr>\n",
       "    <tr>\n",
       "      <th>...</th>\n",
       "      <td>...</td>\n",
       "      <td>...</td>\n",
       "      <td>...</td>\n",
       "      <td>...</td>\n",
       "      <td>...</td>\n",
       "      <td>...</td>\n",
       "      <td>...</td>\n",
       "      <td>...</td>\n",
       "      <td>...</td>\n",
       "      <td>...</td>\n",
       "      <td>...</td>\n",
       "      <td>...</td>\n",
       "      <td>...</td>\n",
       "      <td>...</td>\n",
       "      <td>...</td>\n",
       "    </tr>\n",
       "    <tr>\n",
       "      <th>4272</th>\n",
       "      <td>Earth</td>\n",
       "      <td>True</td>\n",
       "      <td>TRAPPIST-1e</td>\n",
       "      <td>34.0</td>\n",
       "      <td>False</td>\n",
       "      <td>0.0</td>\n",
       "      <td>0.0</td>\n",
       "      <td>0.0</td>\n",
       "      <td>0.0</td>\n",
       "      <td>0.0</td>\n",
       "      <td>9266</td>\n",
       "      <td>02</td>\n",
       "      <td>G</td>\n",
       "      <td>1496</td>\n",
       "      <td>S</td>\n",
       "    </tr>\n",
       "    <tr>\n",
       "      <th>4273</th>\n",
       "      <td>Earth</td>\n",
       "      <td>False</td>\n",
       "      <td>TRAPPIST-1e</td>\n",
       "      <td>42.0</td>\n",
       "      <td>False</td>\n",
       "      <td>0.0</td>\n",
       "      <td>847.0</td>\n",
       "      <td>17.0</td>\n",
       "      <td>10.0</td>\n",
       "      <td>144.0</td>\n",
       "      <td>9269</td>\n",
       "      <td>01</td>\n",
       "      <td>NaN</td>\n",
       "      <td>978</td>\n",
       "      <td>NaN</td>\n",
       "    </tr>\n",
       "    <tr>\n",
       "      <th>4274</th>\n",
       "      <td>Mars</td>\n",
       "      <td>True</td>\n",
       "      <td>55 Cancri e</td>\n",
       "      <td>NaN</td>\n",
       "      <td>False</td>\n",
       "      <td>0.0</td>\n",
       "      <td>0.0</td>\n",
       "      <td>0.0</td>\n",
       "      <td>0.0</td>\n",
       "      <td>0.0</td>\n",
       "      <td>9271</td>\n",
       "      <td>01</td>\n",
       "      <td>D</td>\n",
       "      <td>296</td>\n",
       "      <td>P</td>\n",
       "    </tr>\n",
       "    <tr>\n",
       "      <th>4275</th>\n",
       "      <td>Europa</td>\n",
       "      <td>False</td>\n",
       "      <td>NaN</td>\n",
       "      <td>NaN</td>\n",
       "      <td>False</td>\n",
       "      <td>0.0</td>\n",
       "      <td>2680.0</td>\n",
       "      <td>0.0</td>\n",
       "      <td>0.0</td>\n",
       "      <td>523.0</td>\n",
       "      <td>9273</td>\n",
       "      <td>01</td>\n",
       "      <td>D</td>\n",
       "      <td>297</td>\n",
       "      <td>P</td>\n",
       "    </tr>\n",
       "    <tr>\n",
       "      <th>4276</th>\n",
       "      <td>Earth</td>\n",
       "      <td>True</td>\n",
       "      <td>PSO J318.5-22</td>\n",
       "      <td>43.0</td>\n",
       "      <td>False</td>\n",
       "      <td>0.0</td>\n",
       "      <td>0.0</td>\n",
       "      <td>0.0</td>\n",
       "      <td>0.0</td>\n",
       "      <td>0.0</td>\n",
       "      <td>9277</td>\n",
       "      <td>01</td>\n",
       "      <td>G</td>\n",
       "      <td>1498</td>\n",
       "      <td>S</td>\n",
       "    </tr>\n",
       "  </tbody>\n",
       "</table>\n",
       "<p>4277 rows × 15 columns</p>\n",
       "</div>"
      ],
      "text/plain": [
       "     HomePlanet CryoSleep    Destination   Age    VIP  RoomService  FoodCourt  \\\n",
       "0         Earth      True    TRAPPIST-1e  27.0  False          0.0        0.0   \n",
       "1         Earth     False    TRAPPIST-1e  19.0  False          0.0        9.0   \n",
       "2        Europa      True    55 Cancri e  31.0  False          0.0        0.0   \n",
       "3        Europa     False    TRAPPIST-1e  38.0  False          0.0     6652.0   \n",
       "4         Earth     False    TRAPPIST-1e  20.0  False         10.0        0.0   \n",
       "...         ...       ...            ...   ...    ...          ...        ...   \n",
       "4272      Earth      True    TRAPPIST-1e  34.0  False          0.0        0.0   \n",
       "4273      Earth     False    TRAPPIST-1e  42.0  False          0.0      847.0   \n",
       "4274       Mars      True    55 Cancri e   NaN  False          0.0        0.0   \n",
       "4275     Europa     False            NaN   NaN  False          0.0     2680.0   \n",
       "4276      Earth      True  PSO J318.5-22  43.0  False          0.0        0.0   \n",
       "\n",
       "      ShoppingMall     Spa  VRDeck  Group NumInGroup CabinDeck  CabinNum  \\\n",
       "0              0.0     0.0     0.0     13         01         G         3   \n",
       "1              0.0  2823.0     0.0     18         01         F         4   \n",
       "2              0.0     0.0     0.0     19         01         C         0   \n",
       "3              0.0   181.0   585.0     21         01         C         1   \n",
       "4            635.0     0.0     0.0     23         01         F         5   \n",
       "...            ...     ...     ...    ...        ...       ...       ...   \n",
       "4272           0.0     0.0     0.0   9266         02         G      1496   \n",
       "4273          17.0    10.0   144.0   9269         01       NaN       978   \n",
       "4274           0.0     0.0     0.0   9271         01         D       296   \n",
       "4275           0.0     0.0   523.0   9273         01         D       297   \n",
       "4276           0.0     0.0     0.0   9277         01         G      1498   \n",
       "\n",
       "     CabinSide  \n",
       "0            S  \n",
       "1            S  \n",
       "2            S  \n",
       "3            S  \n",
       "4            S  \n",
       "...        ...  \n",
       "4272         S  \n",
       "4273       NaN  \n",
       "4274         P  \n",
       "4275         P  \n",
       "4276         S  \n",
       "\n",
       "[4277 rows x 15 columns]"
      ]
     },
     "execution_count": 66,
     "metadata": {},
     "output_type": "execute_result"
    }
   ],
   "source": [
    "df_test"
   ]
  },
  {
   "cell_type": "code",
   "execution_count": 67,
   "id": "d3040b7b-bfae-4bb5-a3f8-ae613568325e",
   "metadata": {},
   "outputs": [
    {
     "name": "stdout",
     "output_type": "stream",
     "text": [
      "numerical features Index(['Age', 'RoomService', 'FoodCourt', 'ShoppingMall', 'Spa', 'VRDeck',\n",
      "       'Group', 'CabinNum'],\n",
      "      dtype='object')\n",
      "categorical features Index(['HomePlanet', 'CryoSleep', 'Destination', 'VIP', 'NumInGroup',\n",
      "       'CabinDeck', 'CabinSide'],\n",
      "      dtype='object')\n"
     ]
    }
   ],
   "source": [
    "# Separate features into numerical and categorical\n",
    "numerical_features = df_test.select_dtypes(include=['float64','int32']).columns\n",
    "print(f\"numerical features {numerical_features}\")\n",
    "categorical_features = df_test.select_dtypes(include=['object']).columns\n",
    "print(f\"categorical features {categorical_features}\")"
   ]
  },
  {
   "cell_type": "code",
   "execution_count": 69,
   "id": "92f27ac5-df4b-4ad1-8f44-f40ef4bae069",
   "metadata": {},
   "outputs": [],
   "source": [
    "X_preprocessed_test , feature_names_test = cfs.preprocess_dataframe(numerical_features, categorical_features, df_test)"
   ]
  },
  {
   "cell_type": "code",
   "execution_count": 70,
   "id": "f5a8ab37-2f88-406f-9d18-cf30f7243464",
   "metadata": {},
   "outputs": [
    {
     "data": {
      "text/plain": [
       "(4277, 36)"
      ]
     },
     "execution_count": 70,
     "metadata": {},
     "output_type": "execute_result"
    }
   ],
   "source": [
    "X_preprocessed_test.shape"
   ]
  },
  {
   "cell_type": "code",
   "execution_count": 71,
   "id": "434a1076-0802-4957-9fb0-c63a456a90c3",
   "metadata": {},
   "outputs": [
    {
     "data": {
      "text/plain": [
       "36"
      ]
     },
     "execution_count": 71,
     "metadata": {},
     "output_type": "execute_result"
    }
   ],
   "source": [
    "# length of features \n",
    "len(feature_names_test)"
   ]
  },
  {
   "cell_type": "code",
   "execution_count": 72,
   "id": "304517d6-4fb6-4721-81d7-ab2bc40902a5",
   "metadata": {},
   "outputs": [],
   "source": [
    "# Make predictions on the test set\n",
    "y_pred_test = best_rf_model.predict(X_preprocessed_test)"
   ]
  },
  {
   "cell_type": "code",
   "execution_count": 73,
   "id": "8cf25ce7-37b5-44e9-89dd-036706ef851e",
   "metadata": {},
   "outputs": [
    {
     "data": {
      "text/plain": [
       "(4277,)"
      ]
     },
     "execution_count": 73,
     "metadata": {},
     "output_type": "execute_result"
    }
   ],
   "source": [
    "y_pred_test.shape"
   ]
  },
  {
   "cell_type": "code",
   "execution_count": 74,
   "id": "4713c497-1f01-4d9c-b416-57c940fb6b1c",
   "metadata": {},
   "outputs": [],
   "source": [
    "trans_df = pd.DataFrame({'Transported': y_pred_test})\n",
    "trans_df['Transported'] = trans_df['Transported'].astype(bool)"
   ]
  },
  {
   "cell_type": "code",
   "execution_count": 75,
   "id": "79b61bc7-9954-4275-9763-599a98f62006",
   "metadata": {},
   "outputs": [],
   "source": [
    "# Concatenating DataFrames vertically based on columns\n",
    "result_df = pd.concat([keycol_df, trans_df], axis=1)"
   ]
  },
  {
   "cell_type": "code",
   "execution_count": 76,
   "id": "ec681600-17f3-4b72-b338-4fdb17f71d74",
   "metadata": {},
   "outputs": [
    {
     "data": {
      "text/html": [
       "<div>\n",
       "<style scoped>\n",
       "    .dataframe tbody tr th:only-of-type {\n",
       "        vertical-align: middle;\n",
       "    }\n",
       "\n",
       "    .dataframe tbody tr th {\n",
       "        vertical-align: top;\n",
       "    }\n",
       "\n",
       "    .dataframe thead th {\n",
       "        text-align: right;\n",
       "    }\n",
       "</style>\n",
       "<table border=\"1\" class=\"dataframe\">\n",
       "  <thead>\n",
       "    <tr style=\"text-align: right;\">\n",
       "      <th></th>\n",
       "      <th>PassengerId</th>\n",
       "      <th>Transported</th>\n",
       "    </tr>\n",
       "  </thead>\n",
       "  <tbody>\n",
       "    <tr>\n",
       "      <th>0</th>\n",
       "      <td>0013_01</td>\n",
       "      <td>True</td>\n",
       "    </tr>\n",
       "    <tr>\n",
       "      <th>1</th>\n",
       "      <td>0018_01</td>\n",
       "      <td>False</td>\n",
       "    </tr>\n",
       "    <tr>\n",
       "      <th>2</th>\n",
       "      <td>0019_01</td>\n",
       "      <td>True</td>\n",
       "    </tr>\n",
       "    <tr>\n",
       "      <th>3</th>\n",
       "      <td>0021_01</td>\n",
       "      <td>True</td>\n",
       "    </tr>\n",
       "    <tr>\n",
       "      <th>4</th>\n",
       "      <td>0023_01</td>\n",
       "      <td>True</td>\n",
       "    </tr>\n",
       "    <tr>\n",
       "      <th>...</th>\n",
       "      <td>...</td>\n",
       "      <td>...</td>\n",
       "    </tr>\n",
       "    <tr>\n",
       "      <th>4272</th>\n",
       "      <td>9266_02</td>\n",
       "      <td>True</td>\n",
       "    </tr>\n",
       "    <tr>\n",
       "      <th>4273</th>\n",
       "      <td>9269_01</td>\n",
       "      <td>True</td>\n",
       "    </tr>\n",
       "    <tr>\n",
       "      <th>4274</th>\n",
       "      <td>9271_01</td>\n",
       "      <td>True</td>\n",
       "    </tr>\n",
       "    <tr>\n",
       "      <th>4275</th>\n",
       "      <td>9273_01</td>\n",
       "      <td>True</td>\n",
       "    </tr>\n",
       "    <tr>\n",
       "      <th>4276</th>\n",
       "      <td>9277_01</td>\n",
       "      <td>True</td>\n",
       "    </tr>\n",
       "  </tbody>\n",
       "</table>\n",
       "<p>4277 rows × 2 columns</p>\n",
       "</div>"
      ],
      "text/plain": [
       "     PassengerId  Transported\n",
       "0        0013_01         True\n",
       "1        0018_01        False\n",
       "2        0019_01         True\n",
       "3        0021_01         True\n",
       "4        0023_01         True\n",
       "...          ...          ...\n",
       "4272     9266_02         True\n",
       "4273     9269_01         True\n",
       "4274     9271_01         True\n",
       "4275     9273_01         True\n",
       "4276     9277_01         True\n",
       "\n",
       "[4277 rows x 2 columns]"
      ]
     },
     "execution_count": 76,
     "metadata": {},
     "output_type": "execute_result"
    }
   ],
   "source": [
    "result_df"
   ]
  },
  {
   "cell_type": "code",
   "execution_count": 77,
   "id": "ae60d2c5-d365-4a17-921d-7defc7eb3dd5",
   "metadata": {},
   "outputs": [],
   "source": [
    "# Save the DataFrame to a CSV file\n",
    "result_df.to_csv('result_rf.csv', index=False)"
   ]
  },
  {
   "cell_type": "code",
   "execution_count": null,
   "id": "7b272b7a-c924-446b-9ab3-15d25c056510",
   "metadata": {},
   "outputs": [],
   "source": []
  }
 ],
 "metadata": {
  "kernelspec": {
   "display_name": "Python 3 (ipykernel)",
   "language": "python",
   "name": "python3"
  },
  "language_info": {
   "codemirror_mode": {
    "name": "ipython",
    "version": 3
   },
   "file_extension": ".py",
   "mimetype": "text/x-python",
   "name": "python",
   "nbconvert_exporter": "python",
   "pygments_lexer": "ipython3",
   "version": "3.11.5"
  }
 },
 "nbformat": 4,
 "nbformat_minor": 5
}
