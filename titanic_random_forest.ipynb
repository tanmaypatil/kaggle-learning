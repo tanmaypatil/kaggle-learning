{
 "cells": [
  {
   "cell_type": "markdown",
   "id": "2fcf7a20-0d2b-4048-b15a-e189af5d572b",
   "metadata": {},
   "source": [
    "Current notebook is using random forest as algorithm for - titanic spaceship\n",
    "\n",
    "We want to achieve more accuracy then logistical regression ( 0.78 ) \n",
    "\n",
    "It would be interesting to see if we can get better confusion matrix and more auc using random forest"
   ]
  },
  {
   "cell_type": "code",
   "execution_count": null,
   "id": "a929a67f-e7ad-4ecf-8b5a-eaadf0e391d3",
   "metadata": {},
   "outputs": [],
   "source": [
    "import common_functions as cfs\n",
    "import pandas as pd"
   ]
  },
  {
   "cell_type": "code",
   "execution_count": null,
   "id": "6d0b8526-1367-4f04-b2fb-c9be13227fb1",
   "metadata": {},
   "outputs": [],
   "source": [
    "# reading the training data\n",
    "df = pd.read_csv(\"C:\\\\Users\\\\u725561\\\\machine-learning\\\\spaceship-titanic\\\\train.csv\")"
   ]
  },
  {
   "cell_type": "code",
   "execution_count": null,
   "id": "1212be68-c9de-42f8-8675-c816786854b8",
   "metadata": {},
   "outputs": [],
   "source": [
    "df"
   ]
  },
  {
   "cell_type": "markdown",
   "id": "fa980293-6658-464d-a1ec-620748fc3692",
   "metadata": {},
   "source": [
    "Check how many unique Homeplanets are present . Idea is to see , if HomePlanet is category field or numeric field \n",
    "\n",
    "As suspected it is a categorical field .\n",
    "\n",
    "It has value of 'Europa', 'Earth', 'Mars' , nan . "
   ]
  },
  {
   "cell_type": "code",
   "execution_count": null,
   "id": "7aa39347-0033-443c-829d-ba5174189658",
   "metadata": {},
   "outputs": [],
   "source": [
    "df.HomePlanet.unique()"
   ]
  },
  {
   "cell_type": "markdown",
   "id": "d3c5e690-636e-4ed1-8e18-e79756b77ec2",
   "metadata": {},
   "source": [
    "Perform data manipulation . \n",
    "\n",
    "* create new columns out of composite columns  , 'PassengerId' and 'Cabin' columns\n",
    "\n",
    "  PassengerId column will split into 2 new columns Group , NumInGroup\n",
    "\n",
    "   Cabin column will split into 3 new columns CabinDeck , CabinNum , CabinSide\n",
    "\n",
    "* handles missing values\n"
   ]
  },
  {
   "cell_type": "code",
   "execution_count": null,
   "id": "95237d7e-97ea-49e9-b810-ddc15a80c456",
   "metadata": {},
   "outputs": [],
   "source": [
    "cfs.split_and_createnewcol(df)"
   ]
  },
  {
   "cell_type": "code",
   "execution_count": null,
   "id": "68ad491f-367e-4b7f-a3c6-8156059f1c51",
   "metadata": {},
   "outputs": [],
   "source": [
    "df"
   ]
  },
  {
   "cell_type": "code",
   "execution_count": null,
   "id": "0bdbb278-a968-4b76-adb2-51103b51944a",
   "metadata": {},
   "outputs": [],
   "source": []
  }
 ],
 "metadata": {
  "kernelspec": {
   "display_name": "Python 3 (ipykernel)",
   "language": "python",
   "name": "python3"
  },
  "language_info": {
   "codemirror_mode": {
    "name": "ipython",
    "version": 3
   },
   "file_extension": ".py",
   "mimetype": "text/x-python",
   "name": "python",
   "nbconvert_exporter": "python",
   "pygments_lexer": "ipython3",
   "version": "3.9.13"
  }
 },
 "nbformat": 4,
 "nbformat_minor": 5
}
