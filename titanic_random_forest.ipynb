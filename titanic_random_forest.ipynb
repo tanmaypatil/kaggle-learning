{
 "cells": [
  {
   "cell_type": "code",
   "execution_count": 3,
   "id": "a929a67f-e7ad-4ecf-8b5a-eaadf0e391d3",
   "metadata": {},
   "outputs": [],
   "source": [
    "import common_functions as cfs"
   ]
  },
  {
   "cell_type": "code",
   "execution_count": 4,
   "id": "1519fe03-acc9-4889-aa73-6d85d6accfcc",
   "metadata": {},
   "outputs": [
    {
     "name": "stdout",
     "output_type": "stream",
     "text": [
      "22\n"
     ]
    }
   ],
   "source": [
    "x = cfs.add_num(10,12)\n",
    "print(x)"
   ]
  },
  {
   "cell_type": "code",
   "execution_count": null,
   "id": "b53c70fc-6f31-4498-aa8f-c21207df402e",
   "metadata": {},
   "outputs": [],
   "source": []
  }
 ],
 "metadata": {
  "kernelspec": {
   "display_name": "Python 3 (ipykernel)",
   "language": "python",
   "name": "python3"
  },
  "language_info": {
   "codemirror_mode": {
    "name": "ipython",
    "version": 3
   },
   "file_extension": ".py",
   "mimetype": "text/x-python",
   "name": "python",
   "nbconvert_exporter": "python",
   "pygments_lexer": "ipython3",
   "version": "3.9.13"
  }
 },
 "nbformat": 4,
 "nbformat_minor": 5
}
